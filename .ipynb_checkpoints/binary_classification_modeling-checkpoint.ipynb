{
 "cells": [
  {
   "cell_type": "markdown",
   "metadata": {},
   "source": [
    "# Binary Classification Modeling\n",
    "\n",
    "**Refer to `EDA_and_modeling.ipynb` for exploratory data analysis and NLP modeling with 3 classes.** \n",
    "\n",
    "In this notebook, I will attempt to build a model to classify tweet by sentiment.  This notebook will differe in that negative and neutral tweets will be classified together. I will also remove some of the added features to see if that will help in predicting sentiment.\n",
    "\n",
    "Let's discuss why binary modeling is useful and applicable to this dataset.\n",
    "\n",
    "Binary modeling is useful here because of the stark class imbalance in this dataset. There were simply not enough negative tweets for any of the models to perform well in classifying negative tweets. Without acquiring more data or creating enough synthetic, negative tweets, the class imbalance will limit how accurate the model can be.\n",
    "\n",
    "The business purpose for having two classes is simple. A company like Apple or Google likely just needs to know if if the tweet is positive or not positive. There may not be a need to distinguish between negative and neutral. If we know that an individual has tweeted something positive about a brand or product, then it's reasonable to assume that they have a favorable opinion about that product. Somebody who has a favorable opinion is likely to be a customer as well. [This blog](https://mention.com/en/blog/online-reviews/) discusses a few of the reasons why somebody sharing their positive opinion is good for a company, and it states that people who have good things to say are more likely to share their positive opinion. This means that the neutral/negative tweets should be the focus of a company. We want the NLP model to detect those negative/neutral tweets because those may not be guaranteed customers. Big Tech companies want to identify those individuals that may be reticent to use or purchase their product so they can understand how they should market themselves such that they can increase their customer base.\n",
    "\n",
    "Per [market research](https://marketing.twitter.com/en_gb/insights/twitters-audience-is-hugely-influential-heres-what-it-means-for-brands) from Twitter:\n",
    "- 3 in 4 poeple said Twitter users were the first people they looked to for advice\n",
    "- 9 in 10 people said they changed their opinion aobut a purchase bedcause of advice that was given to them by someone they knew on Twitter"
   ]
  },
  {
   "cell_type": "code",
   "execution_count": 1,
   "metadata": {
    "ExecuteTime": {
     "end_time": "2021-07-11T04:18:39.578538Z",
     "start_time": "2021-07-11T04:18:35.113477Z"
    }
   },
   "outputs": [],
   "source": [
    "import numpy as np\n",
    "import pandas as pd\n",
    "pd.set_option('display.max_colwidth', 200)\n",
    "import re\n",
    "import matplotlib.pyplot as plt\n",
    "import seaborn as sns\n",
    "%matplotlib inline\n",
    "\n",
    "import string\n",
    "import nltk\n",
    "from sklearn.model_selection import train_test_split, cross_val_score, GridSearchCV\n",
    "from sklearn.metrics import plot_confusion_matrix\n",
    "from sklearn.metrics import classification_report\n",
    "from sklearn.feature_extraction.text import CountVectorizer\n",
    "from sklearn.feature_extraction.text import TfidfVectorizer\n",
    "from sklearn.naive_bayes import MultinomialNB\n",
    "from sklearn.ensemble import RandomForestClassifier\n",
    "from sklearn.svm import SVC\n",
    "from bs4 import BeautifulSoup\n",
    "from sklearn.metrics import f1_score, precision_score, recall_score\n",
    "\n",
    "sns.set_style('darkgrid')\n",
    "plt.style.use('fivethirtyeight')"
   ]
  },
  {
   "cell_type": "code",
   "execution_count": 2,
   "metadata": {
    "ExecuteTime": {
     "end_time": "2021-07-11T04:18:54.963662Z",
     "start_time": "2021-07-11T04:18:54.948678Z"
    }
   },
   "outputs": [],
   "source": [
    "from sklearn.preprocessing import StandardScaler\n",
    "from sklearn.preprocessing import MinMaxScaler"
   ]
  },
  {
   "cell_type": "code",
   "execution_count": 3,
   "metadata": {
    "ExecuteTime": {
     "end_time": "2021-07-11T04:18:55.943338Z",
     "start_time": "2021-07-11T04:18:55.728711Z"
    }
   },
   "outputs": [
    {
     "data": {
      "text/html": [
       "<div>\n",
       "<style scoped>\n",
       "    .dataframe tbody tr th:only-of-type {\n",
       "        vertical-align: middle;\n",
       "    }\n",
       "\n",
       "    .dataframe tbody tr th {\n",
       "        vertical-align: top;\n",
       "    }\n",
       "\n",
       "    .dataframe thead tr th {\n",
       "        text-align: left;\n",
       "    }\n",
       "\n",
       "    .dataframe thead tr:last-of-type th {\n",
       "        text-align: right;\n",
       "    }\n",
       "</style>\n",
       "<table border=\"1\" class=\"dataframe\">\n",
       "  <thead>\n",
       "    <tr>\n",
       "      <th></th>\n",
       "      <th colspan=\"8\" halign=\"left\">hashtag_count</th>\n",
       "      <th colspan=\"8\" halign=\"left\">mention_count</th>\n",
       "      <th colspan=\"8\" halign=\"left\">weblink_count</th>\n",
       "      <th colspan=\"8\" halign=\"left\">tweet_length</th>\n",
       "      <th colspan=\"8\" halign=\"left\">punct_count</th>\n",
       "    </tr>\n",
       "    <tr>\n",
       "      <th></th>\n",
       "      <th>count</th>\n",
       "      <th>mean</th>\n",
       "      <th>std</th>\n",
       "      <th>min</th>\n",
       "      <th>25%</th>\n",
       "      <th>50%</th>\n",
       "      <th>75%</th>\n",
       "      <th>max</th>\n",
       "      <th>count</th>\n",
       "      <th>mean</th>\n",
       "      <th>std</th>\n",
       "      <th>min</th>\n",
       "      <th>25%</th>\n",
       "      <th>50%</th>\n",
       "      <th>75%</th>\n",
       "      <th>max</th>\n",
       "      <th>count</th>\n",
       "      <th>mean</th>\n",
       "      <th>std</th>\n",
       "      <th>min</th>\n",
       "      <th>25%</th>\n",
       "      <th>50%</th>\n",
       "      <th>75%</th>\n",
       "      <th>max</th>\n",
       "      <th>count</th>\n",
       "      <th>mean</th>\n",
       "      <th>std</th>\n",
       "      <th>min</th>\n",
       "      <th>25%</th>\n",
       "      <th>50%</th>\n",
       "      <th>75%</th>\n",
       "      <th>max</th>\n",
       "      <th>count</th>\n",
       "      <th>mean</th>\n",
       "      <th>std</th>\n",
       "      <th>min</th>\n",
       "      <th>25%</th>\n",
       "      <th>50%</th>\n",
       "      <th>75%</th>\n",
       "      <th>max</th>\n",
       "    </tr>\n",
       "    <tr>\n",
       "      <th>sentiment</th>\n",
       "      <th></th>\n",
       "      <th></th>\n",
       "      <th></th>\n",
       "      <th></th>\n",
       "      <th></th>\n",
       "      <th></th>\n",
       "      <th></th>\n",
       "      <th></th>\n",
       "      <th></th>\n",
       "      <th></th>\n",
       "      <th></th>\n",
       "      <th></th>\n",
       "      <th></th>\n",
       "      <th></th>\n",
       "      <th></th>\n",
       "      <th></th>\n",
       "      <th></th>\n",
       "      <th></th>\n",
       "      <th></th>\n",
       "      <th></th>\n",
       "      <th></th>\n",
       "      <th></th>\n",
       "      <th></th>\n",
       "      <th></th>\n",
       "      <th></th>\n",
       "      <th></th>\n",
       "      <th></th>\n",
       "      <th></th>\n",
       "      <th></th>\n",
       "      <th></th>\n",
       "      <th></th>\n",
       "      <th></th>\n",
       "      <th></th>\n",
       "      <th></th>\n",
       "      <th></th>\n",
       "      <th></th>\n",
       "      <th></th>\n",
       "      <th></th>\n",
       "      <th></th>\n",
       "      <th></th>\n",
       "    </tr>\n",
       "  </thead>\n",
       "  <tbody>\n",
       "    <tr>\n",
       "      <td>0</td>\n",
       "      <td>5341.0</td>\n",
       "      <td>1.758285</td>\n",
       "      <td>1.116353</td>\n",
       "      <td>0.0</td>\n",
       "      <td>1.0</td>\n",
       "      <td>1.0</td>\n",
       "      <td>2.0</td>\n",
       "      <td>12.0</td>\n",
       "      <td>5341.0</td>\n",
       "      <td>0.752106</td>\n",
       "      <td>0.905020</td>\n",
       "      <td>0.0</td>\n",
       "      <td>0.0</td>\n",
       "      <td>1.0</td>\n",
       "      <td>1.0</td>\n",
       "      <td>8.0</td>\n",
       "      <td>5341.0</td>\n",
       "      <td>0.457218</td>\n",
       "      <td>0.529199</td>\n",
       "      <td>0.0</td>\n",
       "      <td>0.0</td>\n",
       "      <td>0.0</td>\n",
       "      <td>1.0</td>\n",
       "      <td>3.0</td>\n",
       "      <td>5341.0</td>\n",
       "      <td>17.340573</td>\n",
       "      <td>4.926567</td>\n",
       "      <td>4.0</td>\n",
       "      <td>14.0</td>\n",
       "      <td>17.0</td>\n",
       "      <td>21.0</td>\n",
       "      <td>32.0</td>\n",
       "      <td>5341.0</td>\n",
       "      <td>3.264183</td>\n",
       "      <td>2.425220</td>\n",
       "      <td>0.0</td>\n",
       "      <td>1.0</td>\n",
       "      <td>3.0</td>\n",
       "      <td>5.0</td>\n",
       "      <td>22.0</td>\n",
       "    </tr>\n",
       "    <tr>\n",
       "      <td>1</td>\n",
       "      <td>2989.0</td>\n",
       "      <td>1.686183</td>\n",
       "      <td>0.969004</td>\n",
       "      <td>0.0</td>\n",
       "      <td>1.0</td>\n",
       "      <td>1.0</td>\n",
       "      <td>2.0</td>\n",
       "      <td>10.0</td>\n",
       "      <td>2989.0</td>\n",
       "      <td>0.740381</td>\n",
       "      <td>0.853871</td>\n",
       "      <td>0.0</td>\n",
       "      <td>0.0</td>\n",
       "      <td>1.0</td>\n",
       "      <td>1.0</td>\n",
       "      <td>7.0</td>\n",
       "      <td>2989.0</td>\n",
       "      <td>0.407494</td>\n",
       "      <td>0.503559</td>\n",
       "      <td>0.0</td>\n",
       "      <td>0.0</td>\n",
       "      <td>0.0</td>\n",
       "      <td>1.0</td>\n",
       "      <td>2.0</td>\n",
       "      <td>2989.0</td>\n",
       "      <td>17.892606</td>\n",
       "      <td>4.879626</td>\n",
       "      <td>4.0</td>\n",
       "      <td>14.0</td>\n",
       "      <td>18.0</td>\n",
       "      <td>22.0</td>\n",
       "      <td>33.0</td>\n",
       "      <td>2989.0</td>\n",
       "      <td>3.435597</td>\n",
       "      <td>2.326356</td>\n",
       "      <td>0.0</td>\n",
       "      <td>2.0</td>\n",
       "      <td>3.0</td>\n",
       "      <td>5.0</td>\n",
       "      <td>19.0</td>\n",
       "    </tr>\n",
       "  </tbody>\n",
       "</table>\n",
       "</div>"
      ],
      "text/plain": [
       "          hashtag_count                                                \\\n",
       "                  count      mean       std  min  25%  50%  75%   max   \n",
       "sentiment                                                               \n",
       "0                5341.0  1.758285  1.116353  0.0  1.0  1.0  2.0  12.0   \n",
       "1                2989.0  1.686183  0.969004  0.0  1.0  1.0  2.0  10.0   \n",
       "\n",
       "          mention_count                                               \\\n",
       "                  count      mean       std  min  25%  50%  75%  max   \n",
       "sentiment                                                              \n",
       "0                5341.0  0.752106  0.905020  0.0  0.0  1.0  1.0  8.0   \n",
       "1                2989.0  0.740381  0.853871  0.0  0.0  1.0  1.0  7.0   \n",
       "\n",
       "          weblink_count                                               \\\n",
       "                  count      mean       std  min  25%  50%  75%  max   \n",
       "sentiment                                                              \n",
       "0                5341.0  0.457218  0.529199  0.0  0.0  0.0  1.0  3.0   \n",
       "1                2989.0  0.407494  0.503559  0.0  0.0  0.0  1.0  2.0   \n",
       "\n",
       "          tweet_length                                                    \\\n",
       "                 count       mean       std  min   25%   50%   75%   max   \n",
       "sentiment                                                                  \n",
       "0               5341.0  17.340573  4.926567  4.0  14.0  17.0  21.0  32.0   \n",
       "1               2989.0  17.892606  4.879626  4.0  14.0  18.0  22.0  33.0   \n",
       "\n",
       "          punct_count                                                \n",
       "                count      mean       std  min  25%  50%  75%   max  \n",
       "sentiment                                                            \n",
       "0              5341.0  3.264183  2.425220  0.0  1.0  3.0  5.0  22.0  \n",
       "1              2989.0  3.435597  2.326356  0.0  2.0  3.0  5.0  19.0  "
      ]
     },
     "execution_count": 3,
     "metadata": {},
     "output_type": "execute_result"
    }
   ],
   "source": [
    "df_binary = pd.read_csv('binary_tweets.csv')\n",
    "pd.set_option('max_columns', None)\n",
    "df_binary.groupby('sentiment').describe()"
   ]
  },
  {
   "cell_type": "code",
   "execution_count": 4,
   "metadata": {
    "ExecuteTime": {
     "end_time": "2021-07-11T04:18:56.800846Z",
     "start_time": "2021-07-11T04:18:56.771614Z"
    },
    "scrolled": true
   },
   "outputs": [
    {
     "data": {
      "text/html": [
       "<div>\n",
       "<style scoped>\n",
       "    .dataframe tbody tr th:only-of-type {\n",
       "        vertical-align: middle;\n",
       "    }\n",
       "\n",
       "    .dataframe tbody tr th {\n",
       "        vertical-align: top;\n",
       "    }\n",
       "\n",
       "    .dataframe thead th {\n",
       "        text-align: right;\n",
       "    }\n",
       "</style>\n",
       "<table border=\"1\" class=\"dataframe\">\n",
       "  <thead>\n",
       "    <tr style=\"text-align: right;\">\n",
       "      <th></th>\n",
       "      <th>tweet</th>\n",
       "      <th>brand_product</th>\n",
       "      <th>sentiment</th>\n",
       "      <th>tweet_tokens</th>\n",
       "      <th>hashtag_count</th>\n",
       "      <th>mention_count</th>\n",
       "      <th>weblink_count</th>\n",
       "      <th>tweet_length</th>\n",
       "      <th>punct_count</th>\n",
       "    </tr>\n",
       "  </thead>\n",
       "  <tbody>\n",
       "    <tr>\n",
       "      <td>0</td>\n",
       "      <td>.@wesley83 I have a 3G iPhone. After 3 hrs tweeting at #RISE_Austin, it was dead! I need to upgrade. Plugin stations at #SXSW.</td>\n",
       "      <td>iPhone</td>\n",
       "      <td>0</td>\n",
       "      <td>['wesley83', '3g', 'iphone', '3', 'hr', 'tweeting', 'riseaustin', 'dead', 'need', 'upgrade', 'plugin', 'station', 'sxsw']</td>\n",
       "      <td>2</td>\n",
       "      <td>1</td>\n",
       "      <td>0</td>\n",
       "      <td>23</td>\n",
       "      <td>7</td>\n",
       "    </tr>\n",
       "    <tr>\n",
       "      <td>1</td>\n",
       "      <td>@jessedee Know about @fludapp ? Awesome iPad/iPhone app that you'll likely appreciate for its design. Also, they're giving free Ts at #SXSW</td>\n",
       "      <td>iPad or iPhone App</td>\n",
       "      <td>1</td>\n",
       "      <td>['jessedee', 'know', 'fludapp', 'awesome', 'ipadiphone', 'app', 'youll', 'likely', 'appreciate', 'design', 'also', 'theyre', 'giving', 'free', 't', 'sxsw']</td>\n",
       "      <td>1</td>\n",
       "      <td>2</td>\n",
       "      <td>0</td>\n",
       "      <td>21</td>\n",
       "      <td>6</td>\n",
       "    </tr>\n",
       "    <tr>\n",
       "      <td>2</td>\n",
       "      <td>@swonderlin Can not wait for #iPad 2 also. They should sale them down at #SXSW.</td>\n",
       "      <td>iPad</td>\n",
       "      <td>1</td>\n",
       "      <td>['swonderlin', 'wait', 'ipad', '2', 'also', 'sale', 'sxsw']</td>\n",
       "      <td>2</td>\n",
       "      <td>1</td>\n",
       "      <td>0</td>\n",
       "      <td>15</td>\n",
       "      <td>2</td>\n",
       "    </tr>\n",
       "    <tr>\n",
       "      <td>3</td>\n",
       "      <td>@sxsw I hope this year's festival isn't as crashy as this year's iPhone app. #sxsw</td>\n",
       "      <td>iPad or iPhone App</td>\n",
       "      <td>0</td>\n",
       "      <td>['sxsw', 'hope', 'year', 'festival', 'isnt', 'crashy', 'year', 'iphone', 'app', 'sxsw']</td>\n",
       "      <td>1</td>\n",
       "      <td>1</td>\n",
       "      <td>0</td>\n",
       "      <td>15</td>\n",
       "      <td>4</td>\n",
       "    </tr>\n",
       "    <tr>\n",
       "      <td>4</td>\n",
       "      <td>@sxtxstate great stuff on Fri #SXSW: Marissa Mayer (Google), Tim O'Reilly (tech books/conferences) &amp; Matt Mullenweg (Wordpress)</td>\n",
       "      <td>Google</td>\n",
       "      <td>1</td>\n",
       "      <td>['sxtxstate', 'great', 'stuff', 'fri', 'sxsw', 'marissa', 'mayer', 'google', 'tim', 'oreilly', 'tech', 'booksconferences', 'matt', 'mullenweg', 'wordpress']</td>\n",
       "      <td>1</td>\n",
       "      <td>1</td>\n",
       "      <td>0</td>\n",
       "      <td>16</td>\n",
       "      <td>11</td>\n",
       "    </tr>\n",
       "    <tr>\n",
       "      <td>5</td>\n",
       "      <td>@teachntech00 New iPad Apps For #SpeechTherapy And Communication Are Showcased At The #SXSW Conference http://ht.ly/49n4M #iear #edchat #asd</td>\n",
       "      <td>iPad</td>\n",
       "      <td>0</td>\n",
       "      <td>['teachntech00', 'new', 'ipad', 'apps', 'speechtherapy', 'communication', 'showcased', 'sxsw', 'conference', 'httphtly49n4m', 'iear', 'edchat', 'asd']</td>\n",
       "      <td>5</td>\n",
       "      <td>1</td>\n",
       "      <td>1</td>\n",
       "      <td>18</td>\n",
       "      <td>0</td>\n",
       "    </tr>\n",
       "    <tr>\n",
       "      <td>6</td>\n",
       "      <td>#SXSW is just starting, #CTIA is around the corner and #googleio is only a hop skip and a jump from there, good time to be an #android fan</td>\n",
       "      <td>Android</td>\n",
       "      <td>1</td>\n",
       "      <td>['sxsw', 'starting', 'ctia', 'around', 'corner', 'googleio', 'hop', 'skip', 'jump', 'good', 'time', 'android', 'fan']</td>\n",
       "      <td>4</td>\n",
       "      <td>0</td>\n",
       "      <td>0</td>\n",
       "      <td>28</td>\n",
       "      <td>2</td>\n",
       "    </tr>\n",
       "    <tr>\n",
       "      <td>7</td>\n",
       "      <td>Beautifully smart and simple idea RT @madebymany @thenextweb wrote about our #hollergram iPad app for #sxsw! http://bit.ly/ieaVOB</td>\n",
       "      <td>iPad or iPhone App</td>\n",
       "      <td>1</td>\n",
       "      <td>['beautifully', 'smart', 'simple', 'idea', 'rt', 'madebymany', 'thenextweb', 'wrote', 'hollergram', 'ipad', 'app', 'sxsw', 'httpbitlyieavob']</td>\n",
       "      <td>2</td>\n",
       "      <td>2</td>\n",
       "      <td>1</td>\n",
       "      <td>17</td>\n",
       "      <td>1</td>\n",
       "    </tr>\n",
       "    <tr>\n",
       "      <td>8</td>\n",
       "      <td>Counting down the days to #sxsw plus strong Canadian dollar means stock up on Apple gear</td>\n",
       "      <td>Apple</td>\n",
       "      <td>1</td>\n",
       "      <td>['counting', 'day', 'sxsw', 'plus', 'strong', 'canadian', 'dollar', 'mean', 'stock', 'apple', 'gear']</td>\n",
       "      <td>1</td>\n",
       "      <td>0</td>\n",
       "      <td>0</td>\n",
       "      <td>16</td>\n",
       "      <td>0</td>\n",
       "    </tr>\n",
       "    <tr>\n",
       "      <td>9</td>\n",
       "      <td>Excited to meet the @samsungmobileus at #sxsw so I can show them my Sprint Galaxy S still running Android 2.1. #fail</td>\n",
       "      <td>Android</td>\n",
       "      <td>1</td>\n",
       "      <td>['excited', 'meet', 'samsungmobileus', 'sxsw', 'show', 'sprint', 'galaxy', 'still', 'running', 'android', '21', 'fail']</td>\n",
       "      <td>2</td>\n",
       "      <td>1</td>\n",
       "      <td>0</td>\n",
       "      <td>21</td>\n",
       "      <td>2</td>\n",
       "    </tr>\n",
       "    <tr>\n",
       "      <td>10</td>\n",
       "      <td>Find &amp; Start Impromptu Parties at #SXSW With @HurricaneParty http://bit.ly/gVLrIn I can't wait til the Android app comes out.</td>\n",
       "      <td>Android App</td>\n",
       "      <td>1</td>\n",
       "      <td>['find', 'start', 'impromptu', 'party', 'sxsw', 'hurricaneparty', 'httpbitlygvlrin', 'cant', 'wait', 'til', 'android', 'app', 'come']</td>\n",
       "      <td>1</td>\n",
       "      <td>1</td>\n",
       "      <td>1</td>\n",
       "      <td>18</td>\n",
       "      <td>3</td>\n",
       "    </tr>\n",
       "    <tr>\n",
       "      <td>11</td>\n",
       "      <td>Foursquare ups the game, just in time for #SXSW http://j.mp/grN7pK) - Still prefer @Gowalla by far, best looking Android app to date.</td>\n",
       "      <td>Android App</td>\n",
       "      <td>1</td>\n",
       "      <td>['foursquare', 'ups', 'game', 'time', 'sxsw', 'httpjmpgrn7pk', 'still', 'prefer', 'gowalla', 'far', 'best', 'looking', 'android', 'app', 'date']</td>\n",
       "      <td>1</td>\n",
       "      <td>1</td>\n",
       "      <td>1</td>\n",
       "      <td>21</td>\n",
       "      <td>4</td>\n",
       "    </tr>\n",
       "    <tr>\n",
       "      <td>12</td>\n",
       "      <td>Gotta love this #SXSW Google Calendar featuring top parties/ show cases to check out. RT @hamsandwich via @ischafer =&gt;http://bit.ly/aXZwxB</td>\n",
       "      <td>Other Google product or service</td>\n",
       "      <td>1</td>\n",
       "      <td>['gotta', 'love', 'sxsw', 'google', 'calendar', 'featuring', 'top', 'party', 'show', 'case', 'check', 'rt', 'hamsandwich', 'via', 'ischafer', 'httpbitlyaxzwxb']</td>\n",
       "      <td>1</td>\n",
       "      <td>2</td>\n",
       "      <td>1</td>\n",
       "      <td>19</td>\n",
       "      <td>2</td>\n",
       "    </tr>\n",
       "    <tr>\n",
       "      <td>13</td>\n",
       "      <td>Great #sxsw ipad app from @madebymany: http://tinyurl.com/4nqv92l</td>\n",
       "      <td>iPad or iPhone App</td>\n",
       "      <td>1</td>\n",
       "      <td>['great', 'sxsw', 'ipad', 'app', 'madebymany', 'httptinyurlcom4nqv92l']</td>\n",
       "      <td>1</td>\n",
       "      <td>1</td>\n",
       "      <td>1</td>\n",
       "      <td>7</td>\n",
       "      <td>1</td>\n",
       "    </tr>\n",
       "    <tr>\n",
       "      <td>14</td>\n",
       "      <td>haha, awesomely rad iPad app by @madebymany http://bit.ly/hTdFim #hollergram #sxsw</td>\n",
       "      <td>iPad or iPhone App</td>\n",
       "      <td>1</td>\n",
       "      <td>['haha', 'awesomely', 'rad', 'ipad', 'app', 'madebymany', 'httpbitlyhtdfim', 'hollergram', 'sxsw']</td>\n",
       "      <td>2</td>\n",
       "      <td>1</td>\n",
       "      <td>1</td>\n",
       "      <td>10</td>\n",
       "      <td>1</td>\n",
       "    </tr>\n",
       "    <tr>\n",
       "      <td>15</td>\n",
       "      <td>Holler Gram for iPad on the iTunes App Store - http://t.co/kfN3f5Q (via @marc_is_ken) #sxsw</td>\n",
       "      <td>iPad</td>\n",
       "      <td>0</td>\n",
       "      <td>['holler', 'gram', 'ipad', 'itunes', 'app', 'store', 'httptcokfn3f5q', 'via', 'marcisken', 'sxsw']</td>\n",
       "      <td>1</td>\n",
       "      <td>1</td>\n",
       "      <td>1</td>\n",
       "      <td>13</td>\n",
       "      <td>5</td>\n",
       "    </tr>\n",
       "    <tr>\n",
       "      <td>16</td>\n",
       "      <td>I just noticed DST is coming this weekend. How many iPhone users will be an hour late at SXSW come Sunday morning? #SXSW #iPhone</td>\n",
       "      <td>iPhone</td>\n",
       "      <td>0</td>\n",
       "      <td>['noticed', 'dst', 'coming', 'weekend', 'many', 'iphone', 'user', 'hour', 'late', 'sxsw', 'come', 'sunday', 'morning', 'sxsw', 'iphone']</td>\n",
       "      <td>2</td>\n",
       "      <td>0</td>\n",
       "      <td>0</td>\n",
       "      <td>24</td>\n",
       "      <td>2</td>\n",
       "    </tr>\n",
       "    <tr>\n",
       "      <td>17</td>\n",
       "      <td>Just added my #SXSW flights to @planely. Matching people on planes/airports. Also downloaded the @KLM iPhone app, nicely done.</td>\n",
       "      <td>iPad or iPhone App</td>\n",
       "      <td>1</td>\n",
       "      <td>['added', 'sxsw', 'flight', 'planely', 'matching', 'people', 'planesairports', 'also', 'downloaded', 'klm', 'iphone', 'app', 'nicely', 'done']</td>\n",
       "      <td>1</td>\n",
       "      <td>2</td>\n",
       "      <td>0</td>\n",
       "      <td>19</td>\n",
       "      <td>5</td>\n",
       "    </tr>\n",
       "    <tr>\n",
       "      <td>18</td>\n",
       "      <td>Must have #SXSW app! RT @malbonster: Lovely review from Forbes for our SXSW iPad app Holler Gram - http://t.co/g4GZypV</td>\n",
       "      <td>iPad or iPhone App</td>\n",
       "      <td>1</td>\n",
       "      <td>['must', 'sxsw', 'app', 'rt', 'malbonster', 'lovely', 'review', 'forbes', 'sxsw', 'ipad', 'app', 'holler', 'gram', 'httptcog4gzypv']</td>\n",
       "      <td>1</td>\n",
       "      <td>1</td>\n",
       "      <td>1</td>\n",
       "      <td>18</td>\n",
       "      <td>3</td>\n",
       "    </tr>\n",
       "    <tr>\n",
       "      <td>19</td>\n",
       "      <td>Need to buy an iPad2 while I'm in Austin at #sxsw. Not sure if I'll need to Q up at an Austin Apple store?</td>\n",
       "      <td>iPad</td>\n",
       "      <td>1</td>\n",
       "      <td>['need', 'buy', 'ipad2', 'im', 'austin', 'sxsw', 'sure', 'ill', 'need', 'q', 'austin', 'apple', 'store']</td>\n",
       "      <td>1</td>\n",
       "      <td>0</td>\n",
       "      <td>0</td>\n",
       "      <td>24</td>\n",
       "      <td>4</td>\n",
       "    </tr>\n",
       "  </tbody>\n",
       "</table>\n",
       "</div>"
      ],
      "text/plain": [
       "                                                                                                                                           tweet  \\\n",
       "0                 .@wesley83 I have a 3G iPhone. After 3 hrs tweeting at #RISE_Austin, it was dead! I need to upgrade. Plugin stations at #SXSW.   \n",
       "1    @jessedee Know about @fludapp ? Awesome iPad/iPhone app that you'll likely appreciate for its design. Also, they're giving free Ts at #SXSW   \n",
       "2                                                                @swonderlin Can not wait for #iPad 2 also. They should sale them down at #SXSW.   \n",
       "3                                                             @sxsw I hope this year's festival isn't as crashy as this year's iPhone app. #sxsw   \n",
       "4                @sxtxstate great stuff on Fri #SXSW: Marissa Mayer (Google), Tim O'Reilly (tech books/conferences) & Matt Mullenweg (Wordpress)   \n",
       "5   @teachntech00 New iPad Apps For #SpeechTherapy And Communication Are Showcased At The #SXSW Conference http://ht.ly/49n4M #iear #edchat #asd   \n",
       "6     #SXSW is just starting, #CTIA is around the corner and #googleio is only a hop skip and a jump from there, good time to be an #android fan   \n",
       "7              Beautifully smart and simple idea RT @madebymany @thenextweb wrote about our #hollergram iPad app for #sxsw! http://bit.ly/ieaVOB   \n",
       "8                                                       Counting down the days to #sxsw plus strong Canadian dollar means stock up on Apple gear   \n",
       "9                           Excited to meet the @samsungmobileus at #sxsw so I can show them my Sprint Galaxy S still running Android 2.1. #fail   \n",
       "10                 Find & Start Impromptu Parties at #SXSW With @HurricaneParty http://bit.ly/gVLrIn I can't wait til the Android app comes out.   \n",
       "11         Foursquare ups the game, just in time for #SXSW http://j.mp/grN7pK) - Still prefer @Gowalla by far, best looking Android app to date.   \n",
       "12    Gotta love this #SXSW Google Calendar featuring top parties/ show cases to check out. RT @hamsandwich via @ischafer =>http://bit.ly/aXZwxB   \n",
       "13                                                                             Great #sxsw ipad app from @madebymany: http://tinyurl.com/4nqv92l   \n",
       "14                                                            haha, awesomely rad iPad app by @madebymany http://bit.ly/hTdFim #hollergram #sxsw   \n",
       "15                                                   Holler Gram for iPad on the iTunes App Store - http://t.co/kfN3f5Q (via @marc_is_ken) #sxsw   \n",
       "16              I just noticed DST is coming this weekend. How many iPhone users will be an hour late at SXSW come Sunday morning? #SXSW #iPhone   \n",
       "17                Just added my #SXSW flights to @planely. Matching people on planes/airports. Also downloaded the @KLM iPhone app, nicely done.   \n",
       "18                        Must have #SXSW app! RT @malbonster: Lovely review from Forbes for our SXSW iPad app Holler Gram - http://t.co/g4GZypV   \n",
       "19                                    Need to buy an iPad2 while I'm in Austin at #sxsw. Not sure if I'll need to Q up at an Austin Apple store?   \n",
       "\n",
       "                      brand_product  sentiment  \\\n",
       "0                            iPhone          0   \n",
       "1                iPad or iPhone App          1   \n",
       "2                              iPad          1   \n",
       "3                iPad or iPhone App          0   \n",
       "4                            Google          1   \n",
       "5                              iPad          0   \n",
       "6                           Android          1   \n",
       "7                iPad or iPhone App          1   \n",
       "8                             Apple          1   \n",
       "9                           Android          1   \n",
       "10                      Android App          1   \n",
       "11                      Android App          1   \n",
       "12  Other Google product or service          1   \n",
       "13               iPad or iPhone App          1   \n",
       "14               iPad or iPhone App          1   \n",
       "15                             iPad          0   \n",
       "16                           iPhone          0   \n",
       "17               iPad or iPhone App          1   \n",
       "18               iPad or iPhone App          1   \n",
       "19                             iPad          1   \n",
       "\n",
       "                                                                                                                                                        tweet_tokens  \\\n",
       "0                                          ['wesley83', '3g', 'iphone', '3', 'hr', 'tweeting', 'riseaustin', 'dead', 'need', 'upgrade', 'plugin', 'station', 'sxsw']   \n",
       "1        ['jessedee', 'know', 'fludapp', 'awesome', 'ipadiphone', 'app', 'youll', 'likely', 'appreciate', 'design', 'also', 'theyre', 'giving', 'free', 't', 'sxsw']   \n",
       "2                                                                                                        ['swonderlin', 'wait', 'ipad', '2', 'also', 'sale', 'sxsw']   \n",
       "3                                                                            ['sxsw', 'hope', 'year', 'festival', 'isnt', 'crashy', 'year', 'iphone', 'app', 'sxsw']   \n",
       "4       ['sxtxstate', 'great', 'stuff', 'fri', 'sxsw', 'marissa', 'mayer', 'google', 'tim', 'oreilly', 'tech', 'booksconferences', 'matt', 'mullenweg', 'wordpress']   \n",
       "5             ['teachntech00', 'new', 'ipad', 'apps', 'speechtherapy', 'communication', 'showcased', 'sxsw', 'conference', 'httphtly49n4m', 'iear', 'edchat', 'asd']   \n",
       "6                                              ['sxsw', 'starting', 'ctia', 'around', 'corner', 'googleio', 'hop', 'skip', 'jump', 'good', 'time', 'android', 'fan']   \n",
       "7                      ['beautifully', 'smart', 'simple', 'idea', 'rt', 'madebymany', 'thenextweb', 'wrote', 'hollergram', 'ipad', 'app', 'sxsw', 'httpbitlyieavob']   \n",
       "8                                                              ['counting', 'day', 'sxsw', 'plus', 'strong', 'canadian', 'dollar', 'mean', 'stock', 'apple', 'gear']   \n",
       "9                                            ['excited', 'meet', 'samsungmobileus', 'sxsw', 'show', 'sprint', 'galaxy', 'still', 'running', 'android', '21', 'fail']   \n",
       "10                             ['find', 'start', 'impromptu', 'party', 'sxsw', 'hurricaneparty', 'httpbitlygvlrin', 'cant', 'wait', 'til', 'android', 'app', 'come']   \n",
       "11                  ['foursquare', 'ups', 'game', 'time', 'sxsw', 'httpjmpgrn7pk', 'still', 'prefer', 'gowalla', 'far', 'best', 'looking', 'android', 'app', 'date']   \n",
       "12  ['gotta', 'love', 'sxsw', 'google', 'calendar', 'featuring', 'top', 'party', 'show', 'case', 'check', 'rt', 'hamsandwich', 'via', 'ischafer', 'httpbitlyaxzwxb']   \n",
       "13                                                                                           ['great', 'sxsw', 'ipad', 'app', 'madebymany', 'httptinyurlcom4nqv92l']   \n",
       "14                                                                ['haha', 'awesomely', 'rad', 'ipad', 'app', 'madebymany', 'httpbitlyhtdfim', 'hollergram', 'sxsw']   \n",
       "15                                                                ['holler', 'gram', 'ipad', 'itunes', 'app', 'store', 'httptcokfn3f5q', 'via', 'marcisken', 'sxsw']   \n",
       "16                          ['noticed', 'dst', 'coming', 'weekend', 'many', 'iphone', 'user', 'hour', 'late', 'sxsw', 'come', 'sunday', 'morning', 'sxsw', 'iphone']   \n",
       "17                    ['added', 'sxsw', 'flight', 'planely', 'matching', 'people', 'planesairports', 'also', 'downloaded', 'klm', 'iphone', 'app', 'nicely', 'done']   \n",
       "18                              ['must', 'sxsw', 'app', 'rt', 'malbonster', 'lovely', 'review', 'forbes', 'sxsw', 'ipad', 'app', 'holler', 'gram', 'httptcog4gzypv']   \n",
       "19                                                          ['need', 'buy', 'ipad2', 'im', 'austin', 'sxsw', 'sure', 'ill', 'need', 'q', 'austin', 'apple', 'store']   \n",
       "\n",
       "    hashtag_count  mention_count  weblink_count  tweet_length  punct_count  \n",
       "0               2              1              0            23            7  \n",
       "1               1              2              0            21            6  \n",
       "2               2              1              0            15            2  \n",
       "3               1              1              0            15            4  \n",
       "4               1              1              0            16           11  \n",
       "5               5              1              1            18            0  \n",
       "6               4              0              0            28            2  \n",
       "7               2              2              1            17            1  \n",
       "8               1              0              0            16            0  \n",
       "9               2              1              0            21            2  \n",
       "10              1              1              1            18            3  \n",
       "11              1              1              1            21            4  \n",
       "12              1              2              1            19            2  \n",
       "13              1              1              1             7            1  \n",
       "14              2              1              1            10            1  \n",
       "15              1              1              1            13            5  \n",
       "16              2              0              0            24            2  \n",
       "17              1              2              0            19            5  \n",
       "18              1              1              1            18            3  \n",
       "19              1              0              0            24            4  "
      ]
     },
     "execution_count": 4,
     "metadata": {},
     "output_type": "execute_result"
    }
   ],
   "source": [
    "pd.set_option('max_columns', 10)\n",
    "df_binary.head(20)"
   ]
  },
  {
   "cell_type": "markdown",
   "metadata": {},
   "source": [
    "Let's take a look at the value counts for weblinks and punctuation count."
   ]
  },
  {
   "cell_type": "code",
   "execution_count": 5,
   "metadata": {
    "ExecuteTime": {
     "end_time": "2021-07-11T04:18:57.667805Z",
     "start_time": "2021-07-11T04:18:57.654372Z"
    }
   },
   "outputs": [
    {
     "data": {
      "text/plain": [
       "0    4769\n",
       "1    3466\n",
       "2      91\n",
       "3       4\n",
       "Name: weblink_count, dtype: int64"
      ]
     },
     "execution_count": 5,
     "metadata": {},
     "output_type": "execute_result"
    }
   ],
   "source": [
    "df_binary['weblink_count'].value_counts()"
   ]
  },
  {
   "cell_type": "code",
   "execution_count": 6,
   "metadata": {
    "ExecuteTime": {
     "end_time": "2021-07-11T04:18:58.117040Z",
     "start_time": "2021-07-11T04:18:58.098581Z"
    },
    "scrolled": true
   },
   "outputs": [
    {
     "data": {
      "text/plain": [
       "2     1607\n",
       "3     1454\n",
       "1     1324\n",
       "4     1111\n",
       "5      805\n",
       "0      624\n",
       "6      609\n",
       "7      345\n",
       "8      172\n",
       "9      128\n",
       "10      71\n",
       "11      33\n",
       "12      18\n",
       "14       8\n",
       "13       7\n",
       "15       5\n",
       "16       3\n",
       "22       2\n",
       "18       1\n",
       "20       1\n",
       "21       1\n",
       "19       1\n",
       "Name: punct_count, dtype: int64"
      ]
     },
     "execution_count": 6,
     "metadata": {},
     "output_type": "execute_result"
    }
   ],
   "source": [
    "df_binary['punct_count'].value_counts()"
   ]
  },
  {
   "cell_type": "markdown",
   "metadata": {},
   "source": [
    "We saw in the `EDA_and_modeling` notebook that the punctuation count did not have much variance between sentiments. This means that by introducting this feature we have likely introduced more noise in the data that makes it more difficult to predict.  When we look at the value counts for the number of weblinks in a tweet, we see that more than half of the tweets have 0 weblinks. It's also the case that some tweets have an actual URL while other tweets had a URL replaced with the word '{link}'. Given that we can't immediately decipher what each of those links reference, it's difficult to determine whether it adds or detracts from the sentiment of the tweet. This may be another variable that only introduces more noise.  "
   ]
  },
  {
   "cell_type": "code",
   "execution_count": 7,
   "metadata": {
    "ExecuteTime": {
     "end_time": "2021-07-11T04:18:58.998732Z",
     "start_time": "2021-07-11T04:18:58.987402Z"
    }
   },
   "outputs": [
    {
     "data": {
      "text/plain": [
       "0    5341\n",
       "1    2989\n",
       "Name: sentiment, dtype: int64"
      ]
     },
     "execution_count": 7,
     "metadata": {},
     "output_type": "execute_result"
    }
   ],
   "source": [
    "df_binary.sentiment.value_counts()"
   ]
  },
  {
   "cell_type": "code",
   "execution_count": 8,
   "metadata": {
    "ExecuteTime": {
     "end_time": "2021-07-11T04:18:59.699466Z",
     "start_time": "2021-07-11T04:18:59.488259Z"
    }
   },
   "outputs": [],
   "source": [
    "###create test and training sets with binary categories\n",
    "\n",
    "tfidf_vec_bin = TfidfVectorizer()\n",
    "X_train, X_test, y_train, y_test = train_test_split(df_binary.drop(labels=['sentiment'], axis=1), \n",
    "                                                    df_binary['sentiment'], \n",
    "                                                    test_size=0.3, stratify=df_binary['sentiment'],\n",
    "                                                    random_state=123)\n",
    "\n",
    "\n",
    "###Create sparse matrices using tokenized tweets\n",
    "X_train_sparse = tfidf_vec_bin.fit_transform(X_train['tweet_tokens'])\n",
    "X_test_sparse = tfidf_vec_bin.transform(X_test['tweet_tokens'])"
   ]
  },
  {
   "cell_type": "code",
   "execution_count": 9,
   "metadata": {
    "ExecuteTime": {
     "end_time": "2021-07-11T04:19:04.653565Z",
     "start_time": "2021-07-11T04:19:04.598004Z"
    }
   },
   "outputs": [],
   "source": [
    "#Log transform tweet length and then min-max scale remaining added features\n",
    "X_train['tweet_length'] = X_train['tweet_length'].map(lambda x: np.log(x))\n",
    "X_test['tweet_length'] = X_test['tweet_length'].map(lambda x: np.log(x))\n",
    "\n",
    "scaler = MinMaxScaler()\n",
    "train_af_scaled = pd.DataFrame(scaler.fit_transform(X_train[['hashtag_count', 'mention_count', \n",
    "                                                             'tweet_length']]))\n",
    "train_af_scaled.columns = ['hashtags_count_scaled', 'mentions_count_scaled', 'tweet_len_log_scaled']\n",
    "\n",
    "test_af_scaled = pd.DataFrame(scaler.transform(X_test[['hashtag_count', 'mention_count', 'tweet_length']]))\n",
    "test_af_scaled.columns = ['hashtags_count_scaled', 'mentions_count_scaled', 'tweet_len_log_scaled']\n"
   ]
  },
  {
   "cell_type": "code",
   "execution_count": 10,
   "metadata": {
    "ExecuteTime": {
     "end_time": "2021-07-11T04:19:07.533857Z",
     "start_time": "2021-07-11T04:19:05.898769Z"
    }
   },
   "outputs": [],
   "source": [
    "X_train_df = pd.DataFrame(X_train_sparse.toarray())\n",
    "X_train_df.columns = tfidf_vec_bin.get_feature_names()\n",
    "X_train_af = pd.concat([X_train_df, train_af_scaled], axis=1)\n",
    "\n",
    "\n",
    "X_test_df = pd.DataFrame(X_test_sparse.toarray())\n",
    "X_test_df.columns = tfidf_vec_bin.get_feature_names()\n",
    "X_test_af = pd.concat([X_test_df, test_af_scaled], axis=1)"
   ]
  },
  {
   "cell_type": "markdown",
   "metadata": {},
   "source": [
    "## Modeling"
   ]
  },
  {
   "cell_type": "markdown",
   "metadata": {},
   "source": [
    "For modeling purposes, we will examine and evaluate the same three algorithms as before:\n",
    "- Multinomial Bayes\n",
    "- Random Forests\n",
    "- Support Vector Machines"
   ]
  },
  {
   "cell_type": "code",
   "execution_count": 11,
   "metadata": {
    "ExecuteTime": {
     "end_time": "2021-07-11T04:19:10.053306Z",
     "start_time": "2021-07-11T04:19:10.043471Z"
    }
   },
   "outputs": [],
   "source": [
    "#summary scores function to report evaluation metrics\n",
    "def summary_scores(model, train_set_x, test_set_x, train_set_y, test_set_y, cross_val_var):\n",
    "    print(f'Training Accuracy: {model.score(train_set_x, train_set_y)}')\n",
    "    print(f'Cross Validation Accuracy: {np.mean(cross_val_var)}')\n",
    "    print(f'Testing Accuracy: {model.score(test_set_x, test_set_y)}')\n",
    "    print(f'F1 Score: {f1_score(test_set_y, model.predict(test_set_x), average=\"weighted\")}')\n",
    "    print(f'Recall: {recall_score(test_set_y, model.predict(test_set_x), average=\"weighted\")}')\n",
    "    print(f'Precision: {precision_score(test_set_y, model.predict(test_set_x), average=\"weighted\")}')"
   ]
  },
  {
   "cell_type": "markdown",
   "metadata": {},
   "source": [
    "### Multinomial Naive Bayes"
   ]
  },
  {
   "cell_type": "code",
   "execution_count": 12,
   "metadata": {
    "ExecuteTime": {
     "end_time": "2021-07-11T04:19:11.610731Z",
     "start_time": "2021-07-11T04:19:11.540049Z"
    }
   },
   "outputs": [
    {
     "data": {
      "text/plain": [
       "MultinomialNB()"
      ]
     },
     "execution_count": 12,
     "metadata": {},
     "output_type": "execute_result"
    }
   ],
   "source": [
    "mnb = MultinomialNB()\n",
    "mnb.fit(X_train_sparse, y_train)"
   ]
  },
  {
   "cell_type": "code",
   "execution_count": 13,
   "metadata": {
    "ExecuteTime": {
     "end_time": "2021-07-11T04:19:15.458079Z",
     "start_time": "2021-07-11T04:19:12.338343Z"
    }
   },
   "outputs": [],
   "source": [
    "mnb_cv_mean = np.mean(cross_val_score(mnb, X_train_sparse, y_train, cv=5, scoring='accuracy', n_jobs=-1))"
   ]
  },
  {
   "cell_type": "code",
   "execution_count": 14,
   "metadata": {
    "ExecuteTime": {
     "end_time": "2021-07-11T04:19:15.500103Z",
     "start_time": "2021-07-11T04:19:15.460964Z"
    }
   },
   "outputs": [
    {
     "name": "stdout",
     "output_type": "stream",
     "text": [
      "Training Accuracy: 0.7990053164122792\n",
      "Cross Validation Accuracy: 0.6877018230027883\n",
      "Testing Accuracy: 0.6974789915966386\n",
      "F1 Score: 0.6427735641497019\n",
      "Recall: 0.6974789915966386\n",
      "Precision: 0.7123126182337427\n"
     ]
    }
   ],
   "source": [
    "summary_scores(mnb, X_train_sparse, X_test_sparse, y_train, y_test, mnb_cv_mean)"
   ]
  },
  {
   "cell_type": "code",
   "execution_count": 15,
   "metadata": {
    "ExecuteTime": {
     "end_time": "2021-07-11T04:19:15.516533Z",
     "start_time": "2021-07-11T04:19:15.503780Z"
    }
   },
   "outputs": [
    {
     "name": "stdout",
     "output_type": "stream",
     "text": [
      "              precision    recall  f1-score   support\n",
      "\n",
      "           0       0.69      0.96      0.80      1602\n",
      "           1       0.75      0.24      0.36       897\n",
      "\n",
      "    accuracy                           0.70      2499\n",
      "   macro avg       0.72      0.60      0.58      2499\n",
      "weighted avg       0.71      0.70      0.64      2499\n",
      "\n"
     ]
    }
   ],
   "source": [
    "print(classification_report(y_test, mnb.predict(X_test_sparse)))"
   ]
  },
  {
   "cell_type": "code",
   "execution_count": 16,
   "metadata": {
    "ExecuteTime": {
     "end_time": "2021-07-11T04:19:15.873432Z",
     "start_time": "2021-07-11T04:19:15.520354Z"
    }
   },
   "outputs": [
    {
     "data": {
      "text/plain": [
       "<sklearn.metrics._plot.confusion_matrix.ConfusionMatrixDisplay at 0x7fe654358240>"
      ]
     },
     "execution_count": 16,
     "metadata": {},
     "output_type": "execute_result"
    },
    {
     "data": {
      "image/png": "[encoded data removed]",
      "text/plain": [
       "<Figure size 432x432 with 2 Axes>"
      ]
     },
     "metadata": {
      "needs_background": "light"
     },
     "output_type": "display_data"
    }
   ],
   "source": [
    "fig, ax = plt.subplots(figsize=(6, 6))\n",
    "plt.grid(False)\n",
    "plot_confusion_matrix(mnb, X_test_sparse, y_test, cmap='Blues', ax=ax)"
   ]
  },
  {
   "cell_type": "code",
   "execution_count": 17,
   "metadata": {
    "ExecuteTime": {
     "end_time": "2021-07-11T04:19:15.888301Z",
     "start_time": "2021-07-11T04:19:15.878448Z"
    }
   },
   "outputs": [
    {
     "data": {
      "text/plain": [
       "MultinomialNB(alpha=2, fit_prior=False)"
      ]
     },
     "execution_count": 17,
     "metadata": {},
     "output_type": "execute_result"
    }
   ],
   "source": [
    "mnb_2 = MultinomialNB(alpha=2, fit_prior=False)\n",
    "mnb_2.fit(X_train_sparse, y_train)"
   ]
  },
  {
   "cell_type": "code",
   "execution_count": 18,
   "metadata": {
    "ExecuteTime": {
     "end_time": "2021-07-11T04:19:15.937224Z",
     "start_time": "2021-07-11T04:19:15.892251Z"
    }
   },
   "outputs": [],
   "source": [
    "mnb2_cv_mean = np.mean(cross_val_score(mnb_2, X_train_sparse, y_train, cv=5, scoring='accuracy', n_jobs=-1))"
   ]
  },
  {
   "cell_type": "code",
   "execution_count": 19,
   "metadata": {
    "ExecuteTime": {
     "end_time": "2021-07-11T04:19:20.403857Z",
     "start_time": "2021-07-11T04:19:20.379570Z"
    }
   },
   "outputs": [
    {
     "name": "stdout",
     "output_type": "stream",
     "text": [
      "Training Accuracy: 0.8202709655290688\n",
      "Cross Validation Accuracy: 0.6811852825191332\n",
      "Testing Accuracy: 0.7066826730692277\n",
      "F1 Score: 0.6863711762927263\n",
      "Recall: 0.7066826730692277\n",
      "Precision: 0.6962928508303539\n"
     ]
    }
   ],
   "source": [
    "summary_scores(mnb_2, X_train_sparse, X_test_sparse, y_train, y_test, mnb2_cv_mean)"
   ]
  },
  {
   "cell_type": "code",
   "execution_count": 20,
   "metadata": {
    "ExecuteTime": {
     "end_time": "2021-07-11T04:19:21.250135Z",
     "start_time": "2021-07-11T04:19:21.230453Z"
    }
   },
   "outputs": [
    {
     "name": "stdout",
     "output_type": "stream",
     "text": [
      "              precision    recall  f1-score   support\n",
      "\n",
      "           0       0.72      0.88      0.79      1602\n",
      "           1       0.65      0.40      0.50       897\n",
      "\n",
      "    accuracy                           0.71      2499\n",
      "   macro avg       0.69      0.64      0.64      2499\n",
      "weighted avg       0.70      0.71      0.69      2499\n",
      "\n"
     ]
    }
   ],
   "source": [
    "print(classification_report(y_test, mnb_2.predict(X_test_sparse)))"
   ]
  },
  {
   "cell_type": "code",
   "execution_count": 21,
   "metadata": {
    "ExecuteTime": {
     "end_time": "2021-07-11T04:19:22.406234Z",
     "start_time": "2021-07-11T04:19:22.162133Z"
    }
   },
   "outputs": [
    {
     "data": {
      "text/plain": [
       "<sklearn.metrics._plot.confusion_matrix.ConfusionMatrixDisplay at 0x7fe65432ac88>"
      ]
     },
     "execution_count": 21,
     "metadata": {},
     "output_type": "execute_result"
    },
    {
     "data": {
      "image/png": "[encoded data removed]",
      "text/plain": [
       "<Figure size 432x432 with 2 Axes>"
      ]
     },
     "metadata": {
      "needs_background": "light"
     },
     "output_type": "display_data"
    }
   ],
   "source": [
    "fig, ax = plt.subplots(figsize=(6, 6))\n",
    "plt.grid(False)\n",
    "plot_confusion_matrix(mnb_2, X_test_sparse, y_test, cmap='Blues', ax=ax)"
   ]
  },
  {
   "cell_type": "code",
   "execution_count": 22,
   "metadata": {
    "ExecuteTime": {
     "end_time": "2021-07-11T04:19:24.047859Z",
     "start_time": "2021-07-11T04:19:22.653408Z"
    }
   },
   "outputs": [
    {
     "data": {
      "text/plain": [
       "MultinomialNB()"
      ]
     },
     "execution_count": 22,
     "metadata": {},
     "output_type": "execute_result"
    }
   ],
   "source": [
    "mnb_af = MultinomialNB()\n",
    "mnb_af.fit(X_train_af, y_train)"
   ]
  },
  {
   "cell_type": "code",
   "execution_count": 23,
   "metadata": {
    "ExecuteTime": {
     "end_time": "2021-07-11T04:19:30.345764Z",
     "start_time": "2021-07-11T04:19:24.050965Z"
    }
   },
   "outputs": [],
   "source": [
    "mnb_af_cv_mean = np.mean(cross_val_score(mnb_af, X_train_af, \n",
    "                                         y_train, cv=5, scoring='accuracy', n_jobs=-1))"
   ]
  },
  {
   "cell_type": "code",
   "execution_count": 24,
   "metadata": {
    "ExecuteTime": {
     "end_time": "2021-07-11T04:19:31.028863Z",
     "start_time": "2021-07-11T04:19:30.348819Z"
    }
   },
   "outputs": [
    {
     "name": "stdout",
     "output_type": "stream",
     "text": [
      "Training Accuracy: 0.7818555993826102\n",
      "Cross Validation Accuracy: 0.6839289730010979\n",
      "Testing Accuracy: 0.6890756302521008\n",
      "F1 Score: 0.6249653739110512\n",
      "Recall: 0.6890756302521008\n",
      "Precision: 0.708108708405432\n"
     ]
    }
   ],
   "source": [
    "summary_scores(mnb_af, X_train_af, X_test_af, y_train, y_test, mnb_af_cv_mean)"
   ]
  },
  {
   "cell_type": "markdown",
   "metadata": {},
   "source": [
    "For the Naive Bayes algorithm, we see a noticeable improvement for binary classification compared to the models that were trained on 3 classes. The Naive Bayes model with default hyperparameters also significantly reduced overfitting. \n",
    "\n",
    "The Naive Bayes model seems to be very good at predicting neutral/negative tweets, but struggles with positive tweets. I will try oversampling further down in the notebook to see if we can improve the classification results. The added features here decreased our evaluation metrics by 1% so it seems that even with scaling and log transfomations the added features end up just introducing noise into the dataset."
   ]
  },
  {
   "cell_type": "markdown",
   "metadata": {},
   "source": [
    "### Random Forests"
   ]
  },
  {
   "cell_type": "code",
   "execution_count": 25,
   "metadata": {
    "ExecuteTime": {
     "end_time": "2021-07-11T04:19:34.700080Z",
     "start_time": "2021-07-11T04:19:31.031698Z"
    }
   },
   "outputs": [
    {
     "data": {
      "text/plain": [
       "RandomForestClassifier()"
      ]
     },
     "execution_count": 25,
     "metadata": {},
     "output_type": "execute_result"
    }
   ],
   "source": [
    "rfc = RandomForestClassifier()\n",
    "rfc.fit(X_train_sparse, y_train)"
   ]
  },
  {
   "cell_type": "code",
   "execution_count": 26,
   "metadata": {
    "ExecuteTime": {
     "end_time": "2021-07-11T04:19:51.024015Z",
     "start_time": "2021-07-11T04:19:34.702510Z"
    }
   },
   "outputs": [],
   "source": [
    "rfc_cv_mean = np.mean(cross_val_score(rfc, X_train_sparse, y_train, cv=5, scoring='accuracy', n_jobs=-1))"
   ]
  },
  {
   "cell_type": "code",
   "execution_count": 27,
   "metadata": {
    "ExecuteTime": {
     "end_time": "2021-07-11T04:19:52.141269Z",
     "start_time": "2021-07-11T04:19:51.026499Z"
    }
   },
   "outputs": [
    {
     "name": "stdout",
     "output_type": "stream",
     "text": [
      "Training Accuracy: 0.9945120905505059\n",
      "Cross Validation Accuracy: 0.7146270876784531\n",
      "Testing Accuracy: 0.7138855542216886\n",
      "F1 Score: 0.695080483967162\n",
      "Recall: 0.7138855542216886\n",
      "Precision: 0.7047406343373376\n"
     ]
    }
   ],
   "source": [
    "summary_scores(rfc, X_train_sparse, X_test_sparse, y_train, y_test, rfc_cv_mean)"
   ]
  },
  {
   "cell_type": "code",
   "execution_count": 28,
   "metadata": {
    "ExecuteTime": {
     "end_time": "2021-07-11T04:20:25.440134Z",
     "start_time": "2021-07-11T04:20:25.210966Z"
    }
   },
   "outputs": [
    {
     "name": "stdout",
     "output_type": "stream",
     "text": [
      "              precision    recall  f1-score   support\n",
      "\n",
      "           0       0.73      0.88      0.80      1602\n",
      "           1       0.66      0.42      0.51       897\n",
      "\n",
      "    accuracy                           0.71      2499\n",
      "   macro avg       0.69      0.65      0.65      2499\n",
      "weighted avg       0.70      0.71      0.70      2499\n",
      "\n"
     ]
    }
   ],
   "source": [
    "print(classification_report(y_test, rfc.predict(X_test_sparse)))"
   ]
  },
  {
   "cell_type": "code",
   "execution_count": 29,
   "metadata": {
    "ExecuteTime": {
     "end_time": "2021-07-11T04:20:26.983363Z",
     "start_time": "2021-07-11T04:20:26.585469Z"
    }
   },
   "outputs": [
    {
     "data": {
      "text/plain": [
       "<sklearn.metrics._plot.confusion_matrix.ConfusionMatrixDisplay at 0x7fe6299bd208>"
      ]
     },
     "execution_count": 29,
     "metadata": {},
     "output_type": "execute_result"
    },
    {
     "data": {
      "image/png": "[encoded data removed]",
      "text/plain": [
       "<Figure size 432x432 with 2 Axes>"
      ]
     },
     "metadata": {
      "needs_background": "light"
     },
     "output_type": "display_data"
    }
   ],
   "source": [
    "fig, ax = plt.subplots(figsize=(6, 6))\n",
    "plt.grid(False)\n",
    "plot_confusion_matrix(rfc, X_test_sparse, y_test, cmap='Blues', ax=ax)"
   ]
  },
  {
   "cell_type": "code",
   "execution_count": 30,
   "metadata": {
    "ExecuteTime": {
     "end_time": "2021-07-11T04:20:45.107144Z",
     "start_time": "2021-07-11T04:20:27.611747Z"
    }
   },
   "outputs": [
    {
     "data": {
      "text/plain": [
       "RandomForestClassifier()"
      ]
     },
     "execution_count": 30,
     "metadata": {},
     "output_type": "execute_result"
    }
   ],
   "source": [
    "rfc_af = RandomForestClassifier()\n",
    "rfc_af.fit(X_train_af, y_train)"
   ]
  },
  {
   "cell_type": "code",
   "execution_count": 31,
   "metadata": {
    "ExecuteTime": {
     "end_time": "2021-07-11T17:37:15.184150Z",
     "start_time": "2021-07-11T17:36:24.425548Z"
    }
   },
   "outputs": [],
   "source": [
    "rfc_af_cv_mean = np.mean(cross_val_score(rfc_af, X_train_af, y_train, \n",
    "                                        cv=5, scoring='accuracy', n_jobs=-1))"
   ]
  },
  {
   "cell_type": "code",
   "execution_count": 32,
   "metadata": {
    "ExecuteTime": {
     "end_time": "2021-07-11T17:37:17.851024Z",
     "start_time": "2021-07-11T17:37:15.302129Z"
    }
   },
   "outputs": [
    {
     "name": "stdout",
     "output_type": "stream",
     "text": [
      "Training Accuracy: 0.9957125707425828\n",
      "Cross Validation Accuracy: 0.7154845736307636\n",
      "Testing Accuracy: 0.7150860344137655\n",
      "F1 Score: 0.6917212562186136\n",
      "Recall: 0.7150860344137655\n",
      "Precision: 0.7082557850888554\n"
     ]
    }
   ],
   "source": [
    "summary_scores(rfc_af, X_train_af, X_test_af, y_train, y_test, rfc_af_cv_mean)"
   ]
  },
  {
   "cell_type": "markdown",
   "metadata": {},
   "source": [
    "The Random Forest Classifier with default hyperparameters also sees an improvement to overall accuracy with binary classification. In terms of accuracy, both the vanilla model with just tokens and the model trained with added features are not overfitting and meet the criteria to be generalizable. Similar to Naive Bayes, the model performs excellently in predicting the negative/neutral class while there is still room for lots of improvement when it comes to predicting the positive class.\n",
    "\n",
    "The model trained on the data with added features does slightly worse in each of the evaluation metrics so this is further confirmation that the added features are introducing noise into the data."
   ]
  },
  {
   "cell_type": "markdown",
   "metadata": {},
   "source": [
    "### Support Vector Machines"
   ]
  },
  {
   "cell_type": "code",
   "execution_count": 33,
   "metadata": {
    "ExecuteTime": {
     "end_time": "2021-07-11T17:43:03.651376Z",
     "start_time": "2021-07-11T17:37:48.121189Z"
    }
   },
   "outputs": [
    {
     "data": {
      "text/plain": [
       "SVC(kernel='linear')"
      ]
     },
     "execution_count": 33,
     "metadata": {},
     "output_type": "execute_result"
    }
   ],
   "source": [
    "linear_svc = SVC(kernel='linear')\n",
    "linear_svc.fit(X_train_df, y_train)"
   ]
  },
  {
   "cell_type": "code",
   "execution_count": 34,
   "metadata": {
    "ExecuteTime": {
     "end_time": "2021-07-11T17:53:26.734907Z",
     "start_time": "2021-07-11T17:43:03.662184Z"
    }
   },
   "outputs": [],
   "source": [
    "linear_svc_cv_mean = np.mean(cross_val_score(linear_svc, X_train_df, y_train,\n",
    "                                            cv=5, scoring='accuracy', n_jobs=-1))"
   ]
  },
  {
   "cell_type": "code",
   "execution_count": 35,
   "metadata": {
    "ExecuteTime": {
     "end_time": "2021-07-11T18:07:42.521234Z",
     "start_time": "2021-07-11T17:53:26.755040Z"
    }
   },
   "outputs": [
    {
     "name": "stdout",
     "output_type": "stream",
     "text": [
      "Training Accuracy: 0.8590293260161207\n",
      "Cross Validation Accuracy: 0.7187438727381493\n",
      "Testing Accuracy: 0.7214885954381752\n",
      "F1 Score: 0.7037434656222104\n",
      "Recall: 0.7214885954381752\n",
      "Precision: 0.7136718970332416\n"
     ]
    }
   ],
   "source": [
    "summary_scores(linear_svc, X_train_df, X_test_df, y_train, y_test, linear_svc_cv_mean)"
   ]
  },
  {
   "cell_type": "code",
   "execution_count": 36,
   "metadata": {
    "ExecuteTime": {
     "end_time": "2021-07-11T18:10:22.028470Z",
     "start_time": "2021-07-11T18:07:42.531337Z"
    }
   },
   "outputs": [
    {
     "name": "stdout",
     "output_type": "stream",
     "text": [
      "              precision    recall  f1-score   support\n",
      "\n",
      "           0       0.74      0.88      0.80      1602\n",
      "           1       0.67      0.43      0.53       897\n",
      "\n",
      "    accuracy                           0.72      2499\n",
      "   macro avg       0.71      0.66      0.66      2499\n",
      "weighted avg       0.71      0.72      0.70      2499\n",
      "\n"
     ]
    }
   ],
   "source": [
    "print(classification_report(y_test, linear_svc.predict(X_test_df)))"
   ]
  },
  {
   "cell_type": "code",
   "execution_count": 37,
   "metadata": {
    "ExecuteTime": {
     "end_time": "2021-07-11T18:13:26.430315Z",
     "start_time": "2021-07-11T18:10:22.037033Z"
    }
   },
   "outputs": [
    {
     "data": {
      "image/png": "[encoded data removed]",
      "text/plain": [
       "<Figure size 432x432 with 2 Axes>"
      ]
     },
     "metadata": {
      "needs_background": "light"
     },
     "output_type": "display_data"
    }
   ],
   "source": [
    "fig, ax = plt.subplots(figsize=(6, 6))\n",
    "plt.grid(False)\n",
    "plot_confusion_matrix(linear_svc, X_test_df, y_test, cmap='Blues', ax=ax)\n",
    "plt.title('Linear SVC - Binary Classification')\n",
    "plt.savefig('linear_svc_confusion_matrix.png')"
   ]
  },
  {
   "cell_type": "markdown",
   "metadata": {},
   "source": [
    "Similar to both the Naive Bayes and random forest, the model does well in predicting the negative/neutral class and struggles to achieve the same performance when predicting positive tweets.\n",
    "\n",
    "However, the linear SVM does have the best overall accuracy of any of the models so far at 72.7%. It performs noticeably better than any of the models trained on 3 classes.\n",
    "\n",
    "We see that this model has a very high recall score of 88% for negative neutral/tweets! Out of all of the negative/neutral tweets in the test set, the model correctly predicted 88% of them. With 88% of negative tweets correctly identified, we can perform more exploratory data analysis to try and see why Twitter users don't have a favorable opinion of the brand.\n",
    "\n",
    "Given that this model performed the best we will also take a look at the AUC and ROC curve."
   ]
  },
  {
   "cell_type": "code",
   "execution_count": 38,
   "metadata": {
    "ExecuteTime": {
     "end_time": "2021-07-11T18:35:35.058103Z",
     "start_time": "2021-07-11T18:35:34.706271Z"
    }
   },
   "outputs": [],
   "source": [
    "token_names = tfidf_vec_bin.get_feature_names()\n",
    "feature_weights = list(linear_svc.coef_[0])\n",
    "feat_coef_pair = list(zip(token_names, feature_weights))\n",
    "\n",
    "sorted_feats = sorted(feat_coef_pair, key=lambda x: x[1], reverse=True)\n"
   ]
  },
  {
   "cell_type": "code",
   "execution_count": 40,
   "metadata": {
    "ExecuteTime": {
     "end_time": "2021-07-11T18:35:46.503619Z",
     "start_time": "2021-07-11T18:35:46.494192Z"
    }
   },
   "outputs": [
    {
     "data": {
      "text/plain": [
       "[('cool', 4.261131015120118),\n",
       " ('smart', 4.164374124621977),\n",
       " ('great', 3.5666793272607404),\n",
       " ('awesome', 3.3811605432143033),\n",
       " ('nice', 3.293648649170029),\n",
       " ('love', 3.02672277844141),\n",
       " ('genius', 2.947055289639655),\n",
       " ('amazing', 2.918421547546283),\n",
       " ('wow', 2.637999188981658),\n",
       " ('congrats', 2.599539389590961),\n",
       " ('woot', 2.5603710252718415),\n",
       " ('ill', 2.297721422095022),\n",
       " ('attendee', 2.254970901962231),\n",
       " ('excited', 2.2462171759192486),\n",
       " ('save', 2.1787806885293293),\n",
       " ('brilliant', 2.171088622135753),\n",
       " ('sound', 2.1497967317165356),\n",
       " ('swarm', 2.1179172255441916),\n",
       " ('rock', 2.0853594413507417),\n",
       " ('sweet', 2.075099479057083)]"
      ]
     },
     "execution_count": 40,
     "metadata": {},
     "output_type": "execute_result"
    }
   ],
   "source": [
    "sorted_feats[:20]"
   ]
  },
  {
   "cell_type": "code",
   "execution_count": 41,
   "metadata": {
    "ExecuteTime": {
     "end_time": "2021-07-11T18:35:50.538171Z",
     "start_time": "2021-07-11T18:35:50.526495Z"
    }
   },
   "outputs": [
    {
     "data": {
      "text/plain": [
       "[('except', -1.170389229542848),\n",
       " ('kicked', -1.1800475894854818),\n",
       " ('5pm', -1.1883164326807387),\n",
       " ('fail', -1.2045882091523599),\n",
       " ('11', -1.2061803793123633),\n",
       " ('created', -1.2277389536565608),\n",
       " ('twitter', -1.2725927124531422),\n",
       " ('realize', -1.2840416795772371),\n",
       " ('art', -1.3229291444230002),\n",
       " ('tattoo', -1.3291843355596105),\n",
       " ('film', -1.3365019339636304),\n",
       " ('size', -1.3649507420217448),\n",
       " ('challenge', -1.3723433514508292),\n",
       " ('battery', -1.3732944583022655),\n",
       " ('yesterday', -1.3819275912190265),\n",
       " ('enough', -1.3923301027332726),\n",
       " ('spending', -1.4287792029189985),\n",
       " ('find', -1.517858078128065),\n",
       " ('webdoccom', -1.5657933405766808),\n",
       " ('headache', -1.7992884527446313)]"
      ]
     },
     "execution_count": 41,
     "metadata": {},
     "output_type": "execute_result"
    }
   ],
   "source": [
    "sorted_feats[-20:]"
   ]
  },
  {
   "cell_type": "code",
   "execution_count": 42,
   "metadata": {
    "ExecuteTime": {
     "end_time": "2021-07-11T18:36:10.737519Z",
     "start_time": "2021-07-11T18:36:10.657378Z"
    }
   },
   "outputs": [
    {
     "data": {
      "text/plain": [
       "0    1602\n",
       "1     897\n",
       "Name: sentiment, dtype: int64"
      ]
     },
     "execution_count": 42,
     "metadata": {},
     "output_type": "execute_result"
    }
   ],
   "source": [
    "y_test.value_counts()"
   ]
  },
  {
   "cell_type": "code",
   "execution_count": 44,
   "metadata": {
    "ExecuteTime": {
     "end_time": "2021-07-11T18:39:02.600672Z",
     "start_time": "2021-07-11T18:36:51.863510Z"
    }
   },
   "outputs": [
    {
     "name": "stdout",
     "output_type": "stream",
     "text": [
      "AUC: 0.7556980056980056\n"
     ]
    }
   ],
   "source": [
    "from sklearn.metrics import roc_curve, auc\n",
    "\n",
    "y_score = linear_svc.decision_function(X_test_df)\n",
    "fpr, tpr, thresholds = roc_curve(y_test, y_score)\n",
    "\n",
    "print(f\"AUC: {auc(fpr, tpr)}\")"
   ]
  },
  {
   "cell_type": "markdown",
   "metadata": {},
   "source": [
    "We see that the AUC for the top performing model is 0.758 which is indicative that the model if fairly capable of distinguishing between classes. Although we would certainly like to see this number be a bit closer to 1, we can have some confidence in the model's predictability."
   ]
  },
  {
   "cell_type": "code",
   "execution_count": 45,
   "metadata": {
    "ExecuteTime": {
     "end_time": "2021-07-11T18:41:50.421131Z",
     "start_time": "2021-07-11T18:41:49.779401Z"
    },
    "scrolled": false
   },
   "outputs": [
    {
     "data": {
      "image/png": "[encoded data removed]",
      "text/plain": [
       "<Figure size 720x576 with 1 Axes>"
      ]
     },
     "metadata": {
      "needs_background": "light"
     },
     "output_type": "display_data"
    }
   ],
   "source": [
    "plt.figure(figsize=(10, 8))\n",
    "lw = 2\n",
    "plt.plot(fpr, tpr, color='darkorange',\n",
    "         lw=lw, label='ROC curve')\n",
    "plt.plot([0, 1], [0, 1], color='navy', lw=lw, linestyle='--')\n",
    "plt.xlim([0.0, 1.0])\n",
    "plt.ylim([0.0, 1.05])\n",
    "plt.yticks([i/20.0 for i in range(21)])\n",
    "plt.xticks([i/20.0 for i in range(21)])\n",
    "plt.xlabel('False Positive Rate')\n",
    "plt.ylabel('True Positive Rate')\n",
    "plt.title('Receiver operating characteristic (ROC) Curve')\n",
    "plt.legend(loc='lower right')\n",
    "plt.savefig('roc_curve.png')"
   ]
  },
  {
   "cell_type": "markdown",
   "metadata": {},
   "source": [
    "The ROC curve further demonstrates that the model is better than a 50/50 guess. We would need to improve upon the recall rate for the positive class in order to improve the AUC and see an ROC curve that is indicative of strong model performance."
   ]
  },
  {
   "cell_type": "code",
   "execution_count": 69,
   "metadata": {
    "ExecuteTime": {
     "end_time": "2021-07-11T20:21:18.922032Z",
     "start_time": "2021-07-11T20:21:18.916424Z"
    }
   },
   "outputs": [],
   "source": [
    "gs_svc = SVC()"
   ]
  },
  {
   "cell_type": "code",
   "execution_count": 71,
   "metadata": {
    "ExecuteTime": {
     "end_time": "2021-07-11T20:24:02.632352Z",
     "start_time": "2021-07-11T20:22:04.534998Z"
    }
   },
   "outputs": [
    {
     "data": {
      "text/plain": [
       "{'C': 1, 'class_weight': 'balanced', 'kernel': 'rbf'}"
      ]
     },
     "execution_count": 71,
     "metadata": {},
     "output_type": "execute_result"
    }
   ],
   "source": [
    "svc_param = {'C':[0.1, 1, 10],\n",
    "                     'kernel':['linear', 'rbf'], \n",
    "                    'class_weight':[None, 'balanced'], \n",
    "                    }\n",
    "\n",
    "gs_svc = GridSearchCV(gs_svc, param_grid=svc_param, cv=5, n_jobs=-1)\n",
    "gs_svc.fit(X_train_sparse, y_train)\n",
    "\n",
    "gs_svc.best_params_"
   ]
  },
  {
   "cell_type": "code",
   "execution_count": 72,
   "metadata": {
    "ExecuteTime": {
     "end_time": "2021-07-11T20:32:32.658971Z",
     "start_time": "2021-07-11T20:30:48.577558Z"
    }
   },
   "outputs": [
    {
     "data": {
      "text/plain": [
       "{'C': 0.1, 'class_weight': None, 'kernel': 'rbf'}"
      ]
     },
     "execution_count": 72,
     "metadata": {},
     "output_type": "execute_result"
    }
   ],
   "source": [
    "gs_svc_2 = SVC()\n",
    "svc_param_2 = {'C':[0.1, 1, 10], \n",
    "               'kernel':['linear', 'rbf'],\n",
    "               'class_weight':[None, 'balanced']}\n",
    "\n",
    "gs_svc_2 = GridSearchCV(gs_svc_2, param_grid=svc_param_2, cv=5, n_jobs=-1, scoring='precision')\n",
    "gs_svc_2.fit(X_train_sparse, y_train)\n",
    "\n",
    "gs_svc_2.best_params_"
   ]
  },
  {
   "cell_type": "code",
   "execution_count": 56,
   "metadata": {
    "ExecuteTime": {
     "end_time": "2021-07-11T19:36:31.538013Z",
     "start_time": "2021-07-11T19:36:27.489514Z"
    }
   },
   "outputs": [
    {
     "data": {
      "text/plain": [
       "SVC(C=1, class_weight='balanced')"
      ]
     },
     "execution_count": 56,
     "metadata": {},
     "output_type": "execute_result"
    }
   ],
   "source": [
    "rbf_svc = SVC(C=1, kernel='rbf', class_weight='balanced')\n",
    "rbf_svc.fit(X_train_sparse, y_train)"
   ]
  },
  {
   "cell_type": "code",
   "execution_count": 57,
   "metadata": {
    "ExecuteTime": {
     "end_time": "2021-07-11T19:36:48.874720Z",
     "start_time": "2021-07-11T19:36:40.824622Z"
    }
   },
   "outputs": [],
   "source": [
    "rbf_svc_cv_mean = np.mean(cross_val_score(rbf_svc, X_train_sparse, y_train,\n",
    "                                         cv=5, scoring='accuracy', n_jobs=-1))"
   ]
  },
  {
   "cell_type": "code",
   "execution_count": 58,
   "metadata": {
    "ExecuteTime": {
     "end_time": "2021-07-11T19:37:00.957485Z",
     "start_time": "2021-07-11T19:36:51.368200Z"
    }
   },
   "outputs": [
    {
     "name": "stdout",
     "output_type": "stream",
     "text": [
      "Training Accuracy: 0.9375750300120048\n",
      "Cross Validation Accuracy: 0.7206330168836839\n",
      "Testing Accuracy: 0.718687474989996\n",
      "F1 Score: 0.7160264802529627\n",
      "Recall: 0.718687474989996\n",
      "Precision: 0.7144947147021585\n"
     ]
    }
   ],
   "source": [
    "summary_scores(rbf_svc, X_train_sparse, X_test_sparse, y_train, y_test, rbf_svc_cv_mean)\n"
   ]
  },
  {
   "cell_type": "code",
   "execution_count": 59,
   "metadata": {
    "ExecuteTime": {
     "end_time": "2021-07-11T19:56:03.294773Z",
     "start_time": "2021-07-11T19:56:01.724456Z"
    }
   },
   "outputs": [
    {
     "name": "stdout",
     "output_type": "stream",
     "text": [
      "              precision    recall  f1-score   support\n",
      "\n",
      "           0       0.77      0.80      0.79      1602\n",
      "           1       0.62      0.57      0.59       897\n",
      "\n",
      "    accuracy                           0.72      2499\n",
      "   macro avg       0.69      0.69      0.69      2499\n",
      "weighted avg       0.71      0.72      0.72      2499\n",
      "\n"
     ]
    }
   ],
   "source": [
    "print(classification_report(y_test, rbf_svc.predict(X_test_sparse)))"
   ]
  },
  {
   "cell_type": "code",
   "execution_count": 116,
   "metadata": {
    "ExecuteTime": {
     "end_time": "2021-07-11T22:34:21.803032Z",
     "start_time": "2021-07-11T22:34:19.965670Z"
    }
   },
   "outputs": [
    {
     "data": {
      "image/png": "[encoded data removed]",
      "text/plain": [
       "<Figure size 432x432 with 2 Axes>"
      ]
     },
     "metadata": {
      "needs_background": "light"
     },
     "output_type": "display_data"
    }
   ],
   "source": [
    "fig, ax = plt.subplots(figsize=(6, 6))\n",
    "plt.grid(False)\n",
    "plot_confusion_matrix(rbf_svc, X_test_sparse, y_test, cmap='Blues', ax=ax)\n",
    "plt.title('RBF SVC - Binary Classification')\n",
    "plt.savefig('rbf_svc_confusion_matrix.png')"
   ]
  },
  {
   "cell_type": "code",
   "execution_count": 75,
   "metadata": {
    "ExecuteTime": {
     "end_time": "2021-07-11T20:36:43.657030Z",
     "start_time": "2021-07-11T20:36:39.789116Z"
    }
   },
   "outputs": [
    {
     "data": {
      "text/plain": [
       "SVC(C=0.1)"
      ]
     },
     "execution_count": 75,
     "metadata": {},
     "output_type": "execute_result"
    }
   ],
   "source": [
    "rbf_svc_2 = SVC(C=0.1, kernel='rbf')\n",
    "rbf_svc_2.fit(X_train_sparse, y_train)"
   ]
  },
  {
   "cell_type": "code",
   "execution_count": 78,
   "metadata": {
    "ExecuteTime": {
     "end_time": "2021-07-11T20:37:34.975332Z",
     "start_time": "2021-07-11T20:37:27.381985Z"
    }
   },
   "outputs": [],
   "source": [
    "rbf_svc_cv_mean_2 = np.mean(cross_val_score(rbf_svc_2, X_train_sparse, y_train,\n",
    "                                         cv=5, scoring='accuracy', n_jobs=-1))"
   ]
  },
  {
   "cell_type": "code",
   "execution_count": 79,
   "metadata": {
    "ExecuteTime": {
     "end_time": "2021-07-11T20:37:44.207406Z",
     "start_time": "2021-07-11T20:37:34.977869Z"
    }
   },
   "outputs": [
    {
     "name": "stdout",
     "output_type": "stream",
     "text": [
      "Training Accuracy: 0.6467158291888184\n",
      "Cross Validation Accuracy: 0.6448294361375799\n",
      "Testing Accuracy: 0.6466586634653861\n",
      "F1 Score: 0.5135879043278403\n",
      "Recall: 0.6466586634653861\n",
      "Precision: 0.7722121444151101\n"
     ]
    }
   ],
   "source": [
    "summary_scores(rbf_svc_2, X_train_sparse, X_test_sparse, y_train, y_test, rbf_svc_cv_mean_2)\n"
   ]
  },
  {
   "cell_type": "code",
   "execution_count": 80,
   "metadata": {
    "ExecuteTime": {
     "end_time": "2021-07-11T20:39:09.932438Z",
     "start_time": "2021-07-11T20:39:08.437836Z"
    }
   },
   "outputs": [
    {
     "name": "stdout",
     "output_type": "stream",
     "text": [
      "              precision    recall  f1-score   support\n",
      "\n",
      "           0       0.64      1.00      0.78      1602\n",
      "           1       1.00      0.02      0.03       897\n",
      "\n",
      "    accuracy                           0.65      2499\n",
      "   macro avg       0.82      0.51      0.41      2499\n",
      "weighted avg       0.77      0.65      0.51      2499\n",
      "\n"
     ]
    }
   ],
   "source": [
    "print(classification_report(y_test, rbf_svc_2.predict(X_test_sparse)))"
   ]
  },
  {
   "cell_type": "markdown",
   "metadata": {},
   "source": [
    "The RBF kernel SVM performs slightly worse than the linear SVM in terms of accuracy for binary classification.  This is the opposite of what we saw when modeling with 3 classes, as it was the RBF kernel that had a slightly improved accuracy. The precision of the overall model is slightly better with the RBF kernel. I argue that precision for the negative/neutral class is the most important metric because the negative tweets are more detrimental to a company than positive tweets. Negative sentiment may indicate that a company has made a bad decision and may need to reverse course in order to prevent financial losses. \n",
    "\n",
    "The Grid Search model where precision was used as the scoring metric (`rbf_svc_2`) did result in a much higher overall precision, but the model did suffer in terms of accuracy and recall for the positive class. Precision for the negative class decreased, so although overall precision has improved, this is not the best generalizable model for this business problem."
   ]
  },
  {
   "cell_type": "markdown",
   "metadata": {},
   "source": [
    "### Oversampling with Two Classes"
   ]
  },
  {
   "cell_type": "markdown",
   "metadata": {},
   "source": [
    "See below for the value counts of each class for our binary model. Here the minority class (positive tweets) makes up 35% of the data while the negative class makes up 65%. We again have a class imbalance, so we should check to see if oversampling will improve model performance.\n",
    "\n",
    "It's important to note here that the GridSearch peformed on the linear SVM did NOT return `balanced` for the class weight hyperparameter. This means that the optimized model was able to determine some linear separation between the two classes without accounting for the difference in class quantity.\n",
    "\n",
    "Here, I will choose to make the two classes equal and train a linear SVM model to see if it outperforms the linear SVM trained and tests on the original data."
   ]
  },
  {
   "cell_type": "code",
   "execution_count": 64,
   "metadata": {
    "ExecuteTime": {
     "end_time": "2021-07-11T20:19:50.995784Z",
     "start_time": "2021-07-11T20:19:50.617404Z"
    }
   },
   "outputs": [],
   "source": [
    "from imblearn.over_sampling import RandomOverSampler"
   ]
  },
  {
   "cell_type": "code",
   "execution_count": 65,
   "metadata": {
    "ExecuteTime": {
     "end_time": "2021-07-11T20:19:52.661597Z",
     "start_time": "2021-07-11T20:19:52.650308Z"
    }
   },
   "outputs": [
    {
     "data": {
      "text/plain": [
       "0    5341\n",
       "1    2989\n",
       "Name: sentiment, dtype: int64"
      ]
     },
     "execution_count": 65,
     "metadata": {},
     "output_type": "execute_result"
    }
   ],
   "source": [
    "df_binary.sentiment.value_counts()"
   ]
  },
  {
   "cell_type": "code",
   "execution_count": 66,
   "metadata": {
    "ExecuteTime": {
     "end_time": "2021-07-11T20:19:53.276397Z",
     "start_time": "2021-07-11T20:19:53.265462Z"
    }
   },
   "outputs": [
    {
     "data": {
      "text/plain": [
       "0    3739\n",
       "1    2092\n",
       "Name: sentiment, dtype: int64"
      ]
     },
     "execution_count": 66,
     "metadata": {},
     "output_type": "execute_result"
    }
   ],
   "source": [
    "y_train.value_counts()"
   ]
  },
  {
   "cell_type": "code",
   "execution_count": 73,
   "metadata": {
    "ExecuteTime": {
     "end_time": "2021-07-11T20:32:32.685568Z",
     "start_time": "2021-07-11T20:32:32.663690Z"
    }
   },
   "outputs": [],
   "source": [
    "oversample = RandomOverSampler(sampling_strategy='minority', random_state=123)\n",
    "X_over_train, y_over_train = oversample.fit_resample(X_train_sparse, y_train)"
   ]
  },
  {
   "cell_type": "code",
   "execution_count": 74,
   "metadata": {
    "ExecuteTime": {
     "end_time": "2021-07-11T20:32:39.172314Z",
     "start_time": "2021-07-11T20:32:39.155568Z"
    }
   },
   "outputs": [
    {
     "data": {
      "text/plain": [
       "1    3739\n",
       "0    3739\n",
       "Name: sentiment, dtype: int64"
      ]
     },
     "execution_count": 74,
     "metadata": {},
     "output_type": "execute_result"
    }
   ],
   "source": [
    "y_over_train.value_counts()"
   ]
  },
  {
   "cell_type": "code",
   "execution_count": 81,
   "metadata": {
    "ExecuteTime": {
     "end_time": "2021-07-11T20:55:14.386339Z",
     "start_time": "2021-07-11T20:55:08.828482Z"
    }
   },
   "outputs": [
    {
     "data": {
      "text/plain": [
       "SVC(kernel='linear')"
      ]
     },
     "execution_count": 81,
     "metadata": {},
     "output_type": "execute_result"
    }
   ],
   "source": [
    "svc_over = SVC(kernel='linear')\n",
    "svc_over.fit(X_over_train, y_over_train)"
   ]
  },
  {
   "cell_type": "code",
   "execution_count": 82,
   "metadata": {
    "ExecuteTime": {
     "end_time": "2021-07-11T20:55:32.262190Z",
     "start_time": "2021-07-11T20:55:16.744439Z"
    }
   },
   "outputs": [],
   "source": [
    "svc_over_cv_mean = np.mean(cross_val_score(svc_over, X_over_train, y_over_train,\n",
    "                                          cv=5, scoring='accuracy', n_jobs=-1))"
   ]
  },
  {
   "cell_type": "code",
   "execution_count": 83,
   "metadata": {
    "ExecuteTime": {
     "end_time": "2021-07-11T20:55:56.515736Z",
     "start_time": "2021-07-11T20:55:47.264622Z"
    }
   },
   "outputs": [
    {
     "name": "stdout",
     "output_type": "stream",
     "text": [
      "Training Accuracy: 0.8792659921111302\n",
      "Cross Validation Accuracy: 0.7674634700338026\n",
      "Testing Accuracy: 0.7054821928771509\n",
      "F1 Score: 0.7051893503919036\n",
      "Recall: 0.7054821928771509\n",
      "Precision: 0.7049111071043569\n"
     ]
    }
   ],
   "source": [
    "summary_scores(svc_over, X_train_sparse, X_test_sparse, y_train, y_test, svc_over_cv_mean)"
   ]
  },
  {
   "cell_type": "code",
   "execution_count": 84,
   "metadata": {
    "ExecuteTime": {
     "end_time": "2021-07-11T21:00:37.028202Z",
     "start_time": "2021-07-11T21:00:30.468647Z"
    }
   },
   "outputs": [
    {
     "data": {
      "text/plain": [
       "SVC(C=1)"
      ]
     },
     "execution_count": 84,
     "metadata": {},
     "output_type": "execute_result"
    }
   ],
   "source": [
    "svc_over_rbf = SVC(C=1, kernel='rbf')\n",
    "svc_over_rbf.fit(X_over_train, y_over_train)"
   ]
  },
  {
   "cell_type": "code",
   "execution_count": 85,
   "metadata": {
    "ExecuteTime": {
     "end_time": "2021-07-11T21:00:55.376477Z",
     "start_time": "2021-07-11T21:00:37.030970Z"
    }
   },
   "outputs": [],
   "source": [
    "svc_over_cv_mean_rbf = np.mean(cross_val_score(svc_over_rbf, X_over_train, y_over_train, cv=5,\n",
    "                                              scoring='accuracy', n_jobs=-1))"
   ]
  },
  {
   "cell_type": "code",
   "execution_count": 86,
   "metadata": {
    "ExecuteTime": {
     "end_time": "2021-07-11T21:01:06.883028Z",
     "start_time": "2021-07-11T21:00:55.380865Z"
    }
   },
   "outputs": [
    {
     "name": "stdout",
     "output_type": "stream",
     "text": [
      "Training Accuracy: 0.9410049734179387\n",
      "Cross Validation Accuracy: 0.8194848246382774\n",
      "Testing Accuracy: 0.7270908363345339\n",
      "F1 Score: 0.719682102548928\n",
      "Recall: 0.7270908363345339\n",
      "Precision: 0.7194904466082204\n"
     ]
    }
   ],
   "source": [
    "summary_scores(svc_over_rbf, X_train_sparse, X_test_sparse, y_train, y_test, svc_over_cv_mean_rbf)"
   ]
  },
  {
   "cell_type": "markdown",
   "metadata": {},
   "source": [
    "Here we did have an improvment in the cross validation accuracy of the model, but we can see from the test accuracy that we did again have overfitting. Clearly, oversampling is not a feasible method for improving model performance. It could be that we oversampled too much, but if we oversampled too little we might only see marginal improvements.  It would be better to get more data or to use some technique like Named Entity Recognition to create synthetic tweets where certain words have been replaced with their synonyms."
   ]
  },
  {
   "cell_type": "markdown",
   "metadata": {},
   "source": [
    "### Removing Common Words\n",
    "\n",
    "Here we will use binary modeling with a TF-IDF vector but we will remove other common words found in across all sentiments."
   ]
  },
  {
   "cell_type": "code",
   "execution_count": 101,
   "metadata": {
    "ExecuteTime": {
     "end_time": "2021-07-11T21:51:23.296828Z",
     "start_time": "2021-07-11T21:51:23.162917Z"
    }
   },
   "outputs": [],
   "source": [
    "stopwords = nltk.corpus.stopwords.words('english')"
   ]
  },
  {
   "cell_type": "code",
   "execution_count": 102,
   "metadata": {
    "ExecuteTime": {
     "end_time": "2021-07-11T21:51:23.832943Z",
     "start_time": "2021-07-11T21:51:23.824057Z"
    }
   },
   "outputs": [],
   "source": [
    "#add twitter stopwords to stopwords list\n",
    "twitter_stopwords = ['rt', 'sxsw', 'mention', 'link', 'apple', 'google', 'iphone', 'ipad', '2']\n",
    "stopwords.extend(twitter_stopwords)"
   ]
  },
  {
   "cell_type": "code",
   "execution_count": 103,
   "metadata": {
    "ExecuteTime": {
     "end_time": "2021-07-11T21:59:37.736850Z",
     "start_time": "2021-07-11T21:59:37.010143Z"
    }
   },
   "outputs": [],
   "source": [
    "#initialize new vectorizer and train-test split data\n",
    "tfidf_vec_2 = TfidfVectorizer(stop_words=stopwords)\n",
    "X_train_2, X_test_2, y_train_2, y_test_2 = train_test_split(df_binary.drop(labels=['sentiment'], axis=1),\n",
    "                                                           df_binary['sentiment'], test_size=0.3, \n",
    "                                                           stratify=df_binary['sentiment'],\n",
    "                                                           random_state=123)\n",
    "#create sparse matrices\n",
    "X_train_2_sparse = tfidf_vec_2.fit_transform(X_train_2['tweet_tokens'])\n",
    "X_test_2_sparse = tfidf_vec_2.transform(X_test_2['tweet_tokens'])\n",
    "\n",
    "#create dense dataframes \n",
    "X_train_df_2 = pd.DataFrame(X_train_2_sparse.toarray())\n",
    "X_train_df_2.columns = tfidf_vec_2.get_feature_names()\n",
    "\n",
    "X_test_df_2 = pd.DataFrame(X_test_2_sparse.toarray())\n",
    "X_test_df_2.columns = tfidf_vec_2.get_feature_names()"
   ]
  },
  {
   "cell_type": "code",
   "execution_count": 104,
   "metadata": {
    "ExecuteTime": {
     "end_time": "2021-07-11T22:07:46.231270Z",
     "start_time": "2021-07-11T22:07:43.366668Z"
    }
   },
   "outputs": [
    {
     "data": {
      "text/plain": [
       "SVC(kernel='linear')"
      ]
     },
     "execution_count": 104,
     "metadata": {},
     "output_type": "execute_result"
    }
   ],
   "source": [
    "svc_linear_2 = SVC(kernel='linear')\n",
    "svc_linear_2.fit(X_train_2_sparse, y_train_2)"
   ]
  },
  {
   "cell_type": "code",
   "execution_count": 106,
   "metadata": {
    "ExecuteTime": {
     "end_time": "2021-07-11T22:08:21.654134Z",
     "start_time": "2021-07-11T22:08:11.860054Z"
    }
   },
   "outputs": [],
   "source": [
    "svc_linear_2_cv_mean = np.mean(cross_val_score(svc_linear_2, X_train_2_sparse, y_train_2, cv=5, \n",
    "                                               scoring='accuracy'))"
   ]
  },
  {
   "cell_type": "code",
   "execution_count": 107,
   "metadata": {
    "ExecuteTime": {
     "end_time": "2021-07-11T22:08:29.790366Z",
     "start_time": "2021-07-11T22:08:24.722523Z"
    }
   },
   "outputs": [
    {
     "name": "stdout",
     "output_type": "stream",
     "text": [
      "Training Accuracy: 0.8597153146973074\n",
      "Cross Validation Accuracy: 0.7148003780346023\n",
      "Testing Accuracy: 0.7214885954381752\n",
      "F1 Score: 0.7046837291418323\n",
      "Recall: 0.7214885954381752\n",
      "Precision: 0.7133366565389744\n"
     ]
    }
   ],
   "source": [
    "summary_scores(svc_linear_2, X_train_2_sparse, X_test_2_sparse, y_train_2, y_test_2, svc_linear_2_cv_mean)"
   ]
  },
  {
   "cell_type": "code",
   "execution_count": 108,
   "metadata": {
    "ExecuteTime": {
     "end_time": "2021-07-11T22:10:34.908255Z",
     "start_time": "2021-07-11T22:10:34.082077Z"
    }
   },
   "outputs": [
    {
     "name": "stdout",
     "output_type": "stream",
     "text": [
      "              precision    recall  f1-score   support\n",
      "\n",
      "           0       0.74      0.88      0.80      1602\n",
      "           1       0.67      0.44      0.53       897\n",
      "\n",
      "    accuracy                           0.72      2499\n",
      "   macro avg       0.70      0.66      0.67      2499\n",
      "weighted avg       0.71      0.72      0.70      2499\n",
      "\n"
     ]
    }
   ],
   "source": [
    "print(classification_report(y_test_2, svc_linear_2.predict(X_test_2_sparse)))"
   ]
  },
  {
   "cell_type": "code",
   "execution_count": 109,
   "metadata": {
    "ExecuteTime": {
     "end_time": "2021-07-11T22:10:47.128070Z",
     "start_time": "2021-07-11T22:10:46.004836Z"
    }
   },
   "outputs": [
    {
     "data": {
      "image/png": "[encoded data removed]",
      "text/plain": [
       "<Figure size 432x432 with 2 Axes>"
      ]
     },
     "metadata": {
      "needs_background": "light"
     },
     "output_type": "display_data"
    }
   ],
   "source": [
    "fig, ax = plt.subplots(figsize=(6, 6))\n",
    "plt.grid(False)\n",
    "plot_confusion_matrix(svc_linear_2, X_test_2_sparse, y_test_2, cmap='Blues', ax=ax)\n",
    "plt.title('Linear SVC (Common Words Removed)')\n",
    "plt.savefig('Common_words_removed_conf_matrix.png')"
   ]
  },
  {
   "cell_type": "code",
   "execution_count": 110,
   "metadata": {
    "ExecuteTime": {
     "end_time": "2021-07-11T22:11:26.193265Z",
     "start_time": "2021-07-11T22:11:25.338679Z"
    }
   },
   "outputs": [
    {
     "name": "stdout",
     "output_type": "stream",
     "text": [
      "AUC: 0.7470678374439977\n"
     ]
    }
   ],
   "source": [
    "y_score_2 = svc_linear_2.decision_function(X_test_2_sparse)\n",
    "fpr, tpr, thresholds = roc_curve(y_test_2, y_score_2)\n",
    "\n",
    "print(f\"AUC: {auc(fpr, tpr)}\")"
   ]
  },
  {
   "cell_type": "code",
   "execution_count": 111,
   "metadata": {
    "ExecuteTime": {
     "end_time": "2021-07-11T22:29:18.607586Z",
     "start_time": "2021-07-11T22:29:15.375764Z"
    }
   },
   "outputs": [
    {
     "data": {
      "text/plain": [
       "SVC(class_weight='balanced')"
      ]
     },
     "execution_count": 111,
     "metadata": {},
     "output_type": "execute_result"
    }
   ],
   "source": [
    "svc_rbf_stopwords = SVC(kernel='rbf', class_weight='balanced')\n",
    "svc_rbf_stopwords.fit(X_train_2_sparse, y_train_2)"
   ]
  },
  {
   "cell_type": "code",
   "execution_count": 112,
   "metadata": {
    "ExecuteTime": {
     "end_time": "2021-07-11T22:29:30.782623Z",
     "start_time": "2021-07-11T22:29:18.610615Z"
    }
   },
   "outputs": [],
   "source": [
    "svc_rbf_stop_cv = np.mean(cross_val_score(svc_rbf_stopwords, X_train_2_sparse, y_train_2, scoring='accuracy',\n",
    "                                         cv=5))"
   ]
  },
  {
   "cell_type": "code",
   "execution_count": 113,
   "metadata": {
    "ExecuteTime": {
     "end_time": "2021-07-11T22:29:37.913395Z",
     "start_time": "2021-07-11T22:29:30.785784Z"
    }
   },
   "outputs": [
    {
     "name": "stdout",
     "output_type": "stream",
     "text": [
      "Training Accuracy: 0.9404904819070485\n",
      "Cross Validation Accuracy: 0.7148014069001604\n",
      "Testing Accuracy: 0.7174869947979192\n",
      "F1 Score: 0.713976604132741\n",
      "Recall: 0.7174869947979192\n",
      "Precision: 0.7123090527600073\n"
     ]
    }
   ],
   "source": [
    "summary_scores(svc_rbf_stopwords, X_train_2_sparse, X_test_2_sparse, y_train_2, y_test_2, svc_rbf_stop_cv)"
   ]
  },
  {
   "cell_type": "code",
   "execution_count": 114,
   "metadata": {
    "ExecuteTime": {
     "end_time": "2021-07-11T22:31:25.064237Z",
     "start_time": "2021-07-11T22:31:23.903907Z"
    }
   },
   "outputs": [
    {
     "name": "stdout",
     "output_type": "stream",
     "text": [
      "              precision    recall  f1-score   support\n",
      "\n",
      "           0       0.77      0.81      0.79      1602\n",
      "           1       0.62      0.56      0.59       897\n",
      "\n",
      "    accuracy                           0.72      2499\n",
      "   macro avg       0.69      0.68      0.69      2499\n",
      "weighted avg       0.71      0.72      0.71      2499\n",
      "\n"
     ]
    }
   ],
   "source": [
    "print(classification_report(y_test_2, svc_rbf_stopwords.predict(X_test_2_sparse)))"
   ]
  },
  {
   "cell_type": "code",
   "execution_count": 115,
   "metadata": {
    "ExecuteTime": {
     "end_time": "2021-07-11T22:32:12.461546Z",
     "start_time": "2021-07-11T22:32:10.419313Z"
    }
   },
   "outputs": [
    {
     "data": {
      "text/plain": [
       "Text(0.5, 1.0, 'RBF SVC (Common Words Removed)')"
      ]
     },
     "execution_count": 115,
     "metadata": {},
     "output_type": "execute_result"
    },
    {
     "data": {
      "image/png": "[encoded data removed]",
      "text/plain": [
       "<Figure size 432x432 with 2 Axes>"
      ]
     },
     "metadata": {
      "needs_background": "light"
     },
     "output_type": "display_data"
    }
   ],
   "source": [
    "fig, ax = plt.subplots(figsize=(6, 6))\n",
    "plt.grid(False)\n",
    "plot_confusion_matrix(svc_rbf_stopwords, X_test_2_sparse, y_test_2, cmap='Blues', ax=ax)\n",
    "plt.title('RBF SVC (Common Words Removed)')"
   ]
  },
  {
   "cell_type": "markdown",
   "metadata": {},
   "source": [
    "By adding extra words to the `stopwords` list, we don't see much of a change to the overall model accuracy.  The difference between the cross validation mean accuracy and testing accuracy was decreased, however the testing accuracy was slightly lower. We can see from the confusion matrix, that 4 more positive tweets were correctly identified, so there is reason to believe that the removal of other heavily used words might help make a tweet more distinguishable."
   ]
  },
  {
   "cell_type": "markdown",
   "metadata": {},
   "source": [
    "# Conclusion\n",
    "\n",
    "The model I recommend using for this business problem is the RBF model. We achieve the best overall precision using the RBF kernel and we still have an acceptable accuracy. For both the negative/neutral class and the positive class we have more correct predictions. Although minimizing negative tweets may be more pertinent when it comes to promoting a tweet, we still want to make sure that we classify positive tweets correctly because positive tweets are promoting the brand/product for free.\n",
    "\n",
    "Given that Twitter now allows tweets to be 280 characters and many tweets contain other types of data (images, GIFs, and videos) companies looking to perform sentiment analysis on their social media channels will need to ensure that their final model is efficient as today's tweets will simply have more data. Social media posts often have lots of nuance that won't be evident to a computer model so more collecting more data and extensive training is necessary to tackle this business problem."
   ]
  },
  {
   "cell_type": "markdown",
   "metadata": {},
   "source": [
    "## Recommendations\n",
    "\n",
    "1. When releasing a new hardware, make sure there is some type of accompanying software.  For both Apple and Google, the tweets about services and mobile apps were overwhemingly positive. If a good app exists, then that will only provide more incentive to buy your product.\n",
    "\n",
    "2. Determine ways to guide conversations about your product on social media. Before their next iPhone event, Apple could tweet something along the lines of, \"Give us 5 reasons why you're excited for the new iPhone and use the hashtag #TeamiPhone\". In this example we have used a word that conveys positive emotion ('excited') and we have also created a readily identifiable token with a hashtag. We also can use a similar message to identify users who may be on the fence.  We want to avoid provoking users to make negative tweets but we can ask for feedback by saying something like, \"Tell us what improvements you want to see in the next iPhone #iPhoneEvolution\". We again have another unique hashtag which should make those tweets easy to identify and also quantify what may lacking in hardware or user experience without asking for negative feedback. \n",
    "\n",
    "3. It is imperative that when releasing a new product it is both innovative and improves upon the previous version in some way. The word 'battery' shows up as one of the top 20 most negative features and the negative WordCloud also included the bigram \"battery life\". Cell phones are arguably the most important tool in modern society and mobility is one of the most import features of the cell phone.  The convenience of mobility ceases to exist if the phone (or any other mobile device) has to be repeatedly plugged into a wall.  \n",
    "\n",
    "4. Avoid the development of another social network or partnering with existing social networks. Interestingly enough, the word 'twitter' is a top 20 negative feature and the bigrams 'new social' and 'social network' were of moderate significance in the wordcloud based on their size. The optimized model has reinforced what we observed in EDA so at this time is appears that social media should not be on of the app focuses as noted in recommendation #1.\n",
    "\n",
    "\n"
   ]
  },
  {
   "cell_type": "markdown",
   "metadata": {},
   "source": [
    "## Future Work\n",
    "\n",
    "- Developing a script to get tweets from Twitter's API and evaluate those tweets once a certain number of tweets have been collected\n",
    "    - For example we could have a script that can get tweets centered around a certain topic and evaluate sentiment on those tweets made in a certain time interval or evaluate sentiment on the 100,000 most recent tweets about a subject.\n",
    "    \n",
    "- Building a model to evaluate sentiment from other forms of social media\n",
    "    - Since the pandemic started, Apple had broadcasted all of their events during a livestream on Youtube. It would definitely be helpful to evaluate sentiment for the thousands of comments made during the livestream as well as the subsequent comments made at a later time.\n",
    "    \n",
    "- Using Named Entity Recognition to create synthetic tweets\n",
    "\n",
    "- Building, testing, and training a BERT model to predict sentiment\n",
    "\n",
    "- Adding a time series component to see how opinions of brands/products change over time\n",
    "- Evaluate engagement metrics (replies, retweets, and likes) for tweets to understand if those features impact sentiment predictability"
   ]
  },
  {
   "cell_type": "code",
   "execution_count": null,
   "metadata": {},
   "outputs": [],
   "source": []
  }
 ],
 "metadata": {
  "kernelspec": {
   "display_name": "Python 3",
   "language": "python",
   "name": "python3"
  },
  "language_info": {
   "codemirror_mode": {
    "name": "ipython",
    "version": 3
   },
   "file_extension": ".py",
   "mimetype": "text/x-python",
   "name": "python",
   "nbconvert_exporter": "python",
   "pygments_lexer": "ipython3",
   "version": "3.6.9"
  },
  "toc": {
   "base_numbering": 1,
   "nav_menu": {},
   "number_sections": true,
   "sideBar": true,
   "skip_h1_title": false,
   "title_cell": "Table of Contents",
   "title_sidebar": "Contents",
   "toc_cell": false,
   "toc_position": {},
   "toc_section_display": true,
   "toc_window_display": false
  }
 },
 "nbformat": 4,
 "nbformat_minor": 2
}
