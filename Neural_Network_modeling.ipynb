{
 "cells": [
  {
   "cell_type": "markdown",
   "metadata": {},
   "source": [
    "# Neural Networks with Word2Vec"
   ]
  },
  {
   "cell_type": "code",
   "execution_count": 1,
   "metadata": {
    "ExecuteTime": {
     "end_time": "2021-01-25T05:17:31.359088Z",
     "start_time": "2021-01-25T05:17:27.815079Z"
    }
   },
   "outputs": [],
   "source": [
    "import pandas as pd\n",
    "import numpy as np\n",
    "from sklearn.model_selection import train_test_split, cross_val_score\n",
    "from nltk import word_tokenize\n",
    "from gensim.models import word2vec"
   ]
  },
  {
   "cell_type": "code",
   "execution_count": 2,
   "metadata": {
    "ExecuteTime": {
     "end_time": "2021-01-25T05:17:32.382656Z",
     "start_time": "2021-01-25T05:17:32.239254Z"
    }
   },
   "outputs": [],
   "source": [
    "df_tri = pd.read_csv('branded_tweets_clean.csv')\n",
    "df_bin = pd.read_csv('binary_tweets.csv')\n",
    "\n",
    "df_tri.drop(columns=['hashtag_count', 'mention_count', 'weblink_count', \n",
    "                     'tweet_length', 'punct_count'], inplace=True)\n",
    "df_bin.drop(columns=['hashtag_count', 'mention_count', 'weblink_count', \n",
    "                     'tweet_length', 'punct_count'], inplace=True)\n",
    "\n",
    "def clean_string(text):\n",
    "    clean_text = text.replace(\"[\",'').replace(\"]\",'').replace(\"'\",'').replace(\",\",'')\n",
    "    return clean_text\n",
    "\n",
    "df_bin['tweet_tokens'] = df_bin['tweet_tokens'].map(clean_string)\n",
    "df_tri['tweet_tokens'] = df_tri['tweet_tokens'].map(clean_string)"
   ]
  },
  {
   "cell_type": "code",
   "execution_count": 3,
   "metadata": {
    "ExecuteTime": {
     "end_time": "2021-01-25T05:17:33.110756Z",
     "start_time": "2021-01-25T05:17:33.074021Z"
    }
   },
   "outputs": [
    {
     "data": {
      "text/html": [
       "<div>\n",
       "<style scoped>\n",
       "    .dataframe tbody tr th:only-of-type {\n",
       "        vertical-align: middle;\n",
       "    }\n",
       "\n",
       "    .dataframe tbody tr th {\n",
       "        vertical-align: top;\n",
       "    }\n",
       "\n",
       "    .dataframe thead th {\n",
       "        text-align: right;\n",
       "    }\n",
       "</style>\n",
       "<table border=\"1\" class=\"dataframe\">\n",
       "  <thead>\n",
       "    <tr style=\"text-align: right;\">\n",
       "      <th></th>\n",
       "      <th>tweet</th>\n",
       "      <th>brand_product</th>\n",
       "      <th>sentiment</th>\n",
       "      <th>tweet_tokens</th>\n",
       "    </tr>\n",
       "  </thead>\n",
       "  <tbody>\n",
       "    <tr>\n",
       "      <td>0</td>\n",
       "      <td>.@wesley83 I have a 3G iPhone. After 3 hrs twe...</td>\n",
       "      <td>iPhone</td>\n",
       "      <td>0</td>\n",
       "      <td>wesley83 3g iphone 3 hr tweeting riseaustin de...</td>\n",
       "    </tr>\n",
       "    <tr>\n",
       "      <td>1</td>\n",
       "      <td>@jessedee Know about @fludapp ? Awesome iPad/i...</td>\n",
       "      <td>iPad or iPhone App</td>\n",
       "      <td>1</td>\n",
       "      <td>jessedee know fludapp awesome ipadiphone app y...</td>\n",
       "    </tr>\n",
       "    <tr>\n",
       "      <td>2</td>\n",
       "      <td>@swonderlin Can not wait for #iPad 2 also. The...</td>\n",
       "      <td>iPad</td>\n",
       "      <td>1</td>\n",
       "      <td>swonderlin wait ipad 2 also sale sxsw</td>\n",
       "    </tr>\n",
       "    <tr>\n",
       "      <td>3</td>\n",
       "      <td>@sxsw I hope this year's festival isn't as cra...</td>\n",
       "      <td>iPad or iPhone App</td>\n",
       "      <td>0</td>\n",
       "      <td>sxsw hope year festival isnt crashy year iphon...</td>\n",
       "    </tr>\n",
       "    <tr>\n",
       "      <td>4</td>\n",
       "      <td>@sxtxstate great stuff on Fri #SXSW: Marissa M...</td>\n",
       "      <td>Google</td>\n",
       "      <td>1</td>\n",
       "      <td>sxtxstate great stuff fri sxsw marissa mayer g...</td>\n",
       "    </tr>\n",
       "  </tbody>\n",
       "</table>\n",
       "</div>"
      ],
      "text/plain": [
       "                                               tweet       brand_product  \\\n",
       "0  .@wesley83 I have a 3G iPhone. After 3 hrs twe...              iPhone   \n",
       "1  @jessedee Know about @fludapp ? Awesome iPad/i...  iPad or iPhone App   \n",
       "2  @swonderlin Can not wait for #iPad 2 also. The...                iPad   \n",
       "3  @sxsw I hope this year's festival isn't as cra...  iPad or iPhone App   \n",
       "4  @sxtxstate great stuff on Fri #SXSW: Marissa M...              Google   \n",
       "\n",
       "   sentiment                                       tweet_tokens  \n",
       "0          0  wesley83 3g iphone 3 hr tweeting riseaustin de...  \n",
       "1          1  jessedee know fludapp awesome ipadiphone app y...  \n",
       "2          1              swonderlin wait ipad 2 also sale sxsw  \n",
       "3          0  sxsw hope year festival isnt crashy year iphon...  \n",
       "4          1  sxtxstate great stuff fri sxsw marissa mayer g...  "
      ]
     },
     "execution_count": 3,
     "metadata": {},
     "output_type": "execute_result"
    }
   ],
   "source": [
    "df_tri.head()"
   ]
  },
  {
   "cell_type": "code",
   "execution_count": 4,
   "metadata": {
    "ExecuteTime": {
     "end_time": "2021-01-25T05:17:33.921960Z",
     "start_time": "2021-01-25T05:17:33.907336Z"
    }
   },
   "outputs": [
    {
     "data": {
      "text/html": [
       "<div>\n",
       "<style scoped>\n",
       "    .dataframe tbody tr th:only-of-type {\n",
       "        vertical-align: middle;\n",
       "    }\n",
       "\n",
       "    .dataframe tbody tr th {\n",
       "        vertical-align: top;\n",
       "    }\n",
       "\n",
       "    .dataframe thead th {\n",
       "        text-align: right;\n",
       "    }\n",
       "</style>\n",
       "<table border=\"1\" class=\"dataframe\">\n",
       "  <thead>\n",
       "    <tr style=\"text-align: right;\">\n",
       "      <th></th>\n",
       "      <th>tweet</th>\n",
       "      <th>brand_product</th>\n",
       "      <th>sentiment</th>\n",
       "      <th>tweet_tokens</th>\n",
       "    </tr>\n",
       "  </thead>\n",
       "  <tbody>\n",
       "    <tr>\n",
       "      <td>0</td>\n",
       "      <td>.@wesley83 I have a 3G iPhone. After 3 hrs twe...</td>\n",
       "      <td>iPhone</td>\n",
       "      <td>0</td>\n",
       "      <td>wesley83 3g iphone 3 hr tweeting riseaustin de...</td>\n",
       "    </tr>\n",
       "    <tr>\n",
       "      <td>1</td>\n",
       "      <td>@jessedee Know about @fludapp ? Awesome iPad/i...</td>\n",
       "      <td>iPad or iPhone App</td>\n",
       "      <td>1</td>\n",
       "      <td>jessedee know fludapp awesome ipadiphone app y...</td>\n",
       "    </tr>\n",
       "    <tr>\n",
       "      <td>2</td>\n",
       "      <td>@swonderlin Can not wait for #iPad 2 also. The...</td>\n",
       "      <td>iPad</td>\n",
       "      <td>1</td>\n",
       "      <td>swonderlin wait ipad 2 also sale sxsw</td>\n",
       "    </tr>\n",
       "    <tr>\n",
       "      <td>3</td>\n",
       "      <td>@sxsw I hope this year's festival isn't as cra...</td>\n",
       "      <td>iPad or iPhone App</td>\n",
       "      <td>0</td>\n",
       "      <td>sxsw hope year festival isnt crashy year iphon...</td>\n",
       "    </tr>\n",
       "    <tr>\n",
       "      <td>4</td>\n",
       "      <td>@sxtxstate great stuff on Fri #SXSW: Marissa M...</td>\n",
       "      <td>Google</td>\n",
       "      <td>1</td>\n",
       "      <td>sxtxstate great stuff fri sxsw marissa mayer g...</td>\n",
       "    </tr>\n",
       "  </tbody>\n",
       "</table>\n",
       "</div>"
      ],
      "text/plain": [
       "                                               tweet       brand_product  \\\n",
       "0  .@wesley83 I have a 3G iPhone. After 3 hrs twe...              iPhone   \n",
       "1  @jessedee Know about @fludapp ? Awesome iPad/i...  iPad or iPhone App   \n",
       "2  @swonderlin Can not wait for #iPad 2 also. The...                iPad   \n",
       "3  @sxsw I hope this year's festival isn't as cra...  iPad or iPhone App   \n",
       "4  @sxtxstate great stuff on Fri #SXSW: Marissa M...              Google   \n",
       "\n",
       "   sentiment                                       tweet_tokens  \n",
       "0          0  wesley83 3g iphone 3 hr tweeting riseaustin de...  \n",
       "1          1  jessedee know fludapp awesome ipadiphone app y...  \n",
       "2          1              swonderlin wait ipad 2 also sale sxsw  \n",
       "3          0  sxsw hope year festival isnt crashy year iphon...  \n",
       "4          1  sxtxstate great stuff fri sxsw marissa mayer g...  "
      ]
     },
     "execution_count": 4,
     "metadata": {},
     "output_type": "execute_result"
    }
   ],
   "source": [
    "df_bin.head()"
   ]
  },
  {
   "cell_type": "code",
   "execution_count": 5,
   "metadata": {
    "ExecuteTime": {
     "end_time": "2021-01-25T05:17:34.801186Z",
     "start_time": "2021-01-25T05:17:34.728224Z"
    }
   },
   "outputs": [],
   "source": [
    "bag_of_words = df_bin['tweet_tokens']\n",
    "words_list = []\n",
    "for string_ele in bag_of_words:\n",
    "    split_up_words = string_ele.split()\n",
    "    for i in range(0, len(split_up_words)):\n",
    "        words_list.append(split_up_words[i])\n",
    "        \n",
    "total_vocabulary = set(words_list)"
   ]
  },
  {
   "cell_type": "code",
   "execution_count": 6,
   "metadata": {
    "ExecuteTime": {
     "end_time": "2021-01-25T05:17:35.677938Z",
     "start_time": "2021-01-25T05:17:35.670388Z"
    }
   },
   "outputs": [
    {
     "data": {
      "text/plain": [
       "101802"
      ]
     },
     "execution_count": 6,
     "metadata": {},
     "output_type": "execute_result"
    }
   ],
   "source": [
    "len(words_list)"
   ]
  },
  {
   "cell_type": "code",
   "execution_count": 7,
   "metadata": {
    "ExecuteTime": {
     "end_time": "2021-01-25T05:17:36.427393Z",
     "start_time": "2021-01-25T05:17:36.419430Z"
    }
   },
   "outputs": [
    {
     "data": {
      "text/plain": [
       "8929"
      ]
     },
     "execution_count": 7,
     "metadata": {},
     "output_type": "execute_result"
    }
   ],
   "source": [
    "len(total_vocabulary)"
   ]
  },
  {
   "cell_type": "code",
   "execution_count": 39,
   "metadata": {
    "ExecuteTime": {
     "end_time": "2021-01-25T06:10:19.327779Z",
     "start_time": "2021-01-25T06:10:19.310760Z"
    }
   },
   "outputs": [],
   "source": [
    "from keras.preprocessing.sequence import pad_sequences\n",
    "from keras.layers import Input, Dense, LSTM, Embedding\n",
    "from keras import regularizers\n",
    "from keras.layers import Dropout, Activation, Bidirectional, GlobalMaxPool1D\n",
    "from keras.models import Sequential\n",
    "from keras import initializers, regularizers, constraints, optimizers, layers\n",
    "from keras.preprocessing import text, sequence"
   ]
  },
  {
   "cell_type": "code",
   "execution_count": 9,
   "metadata": {
    "ExecuteTime": {
     "end_time": "2021-01-25T05:17:43.137939Z",
     "start_time": "2021-01-25T05:17:43.126532Z"
    }
   },
   "outputs": [],
   "source": [
    "y_bin = df_bin['sentiment']\n",
    "y_tri = pd.get_dummies(df_tri['sentiment']).values"
   ]
  },
  {
   "cell_type": "code",
   "execution_count": 51,
   "metadata": {
    "ExecuteTime": {
     "end_time": "2021-01-25T06:15:48.572327Z",
     "start_time": "2021-01-25T06:15:48.220950Z"
    }
   },
   "outputs": [],
   "source": [
    "tokenizer_bin = text.Tokenizer(num_words=6500)\n",
    "tokenizer_bin.fit_on_texts(list(df_bin['tweet_tokens']))\n",
    "list_tokenized_tweets_bin = tokenizer_bin.texts_to_sequences(df_bin['tweet_tokens'])\n",
    "X_bin = sequence.pad_sequences(list_tokenized_tweets_bin)"
   ]
  },
  {
   "cell_type": "code",
   "execution_count": 52,
   "metadata": {
    "ExecuteTime": {
     "end_time": "2021-01-25T06:15:49.442695Z",
     "start_time": "2021-01-25T06:15:49.436483Z"
    }
   },
   "outputs": [],
   "source": [
    "model_bin = Sequential()"
   ]
  },
  {
   "cell_type": "code",
   "execution_count": 53,
   "metadata": {
    "ExecuteTime": {
     "end_time": "2021-01-25T06:15:57.866182Z",
     "start_time": "2021-01-25T06:15:57.657086Z"
    }
   },
   "outputs": [],
   "source": [
    "embedding_size = 100\n",
    "model_bin.add(Embedding(6500, embedding_size))\n",
    "model_bin.add(LSTM(30))\n",
    "model_bin.add(Dropout(0.5))\n",
    "model_bin.add(Dense(20, activation='relu'))\n",
    "model_bin.add(Dropout(0.5))\n",
    "model_bin.add(Dense(1, activation='sigmoid'))"
   ]
  },
  {
   "cell_type": "code",
   "execution_count": 54,
   "metadata": {
    "ExecuteTime": {
     "end_time": "2021-01-25T06:15:59.666056Z",
     "start_time": "2021-01-25T06:15:59.590593Z"
    }
   },
   "outputs": [],
   "source": [
    "model_bin.compile(loss='binary_crossentropy', optimizer='adam', metrics=['accuracy'])"
   ]
  },
  {
   "cell_type": "code",
   "execution_count": 55,
   "metadata": {
    "ExecuteTime": {
     "end_time": "2021-01-25T06:16:00.783581Z",
     "start_time": "2021-01-25T06:16:00.775200Z"
    }
   },
   "outputs": [
    {
     "name": "stdout",
     "output_type": "stream",
     "text": [
      "_________________________________________________________________\n",
      "Layer (type)                 Output Shape              Param #   \n",
      "=================================================================\n",
      "embedding_13 (Embedding)     (None, None, 100)         650000    \n",
      "_________________________________________________________________\n",
      "lstm_13 (LSTM)               (None, 30)                15720     \n",
      "_________________________________________________________________\n",
      "dropout_28 (Dropout)         (None, 30)                0         \n",
      "_________________________________________________________________\n",
      "dense_27 (Dense)             (None, 20)                620       \n",
      "_________________________________________________________________\n",
      "dropout_29 (Dropout)         (None, 20)                0         \n",
      "_________________________________________________________________\n",
      "dense_28 (Dense)             (None, 1)                 21        \n",
      "=================================================================\n",
      "Total params: 666,361\n",
      "Trainable params: 666,361\n",
      "Non-trainable params: 0\n",
      "_________________________________________________________________\n"
     ]
    }
   ],
   "source": [
    "model_bin.summary()"
   ]
  },
  {
   "cell_type": "code",
   "execution_count": 56,
   "metadata": {
    "ExecuteTime": {
     "end_time": "2021-01-25T06:17:15.865813Z",
     "start_time": "2021-01-25T06:16:01.989822Z"
    },
    "scrolled": true
   },
   "outputs": [
    {
     "name": "stdout",
     "output_type": "stream",
     "text": [
      "Train on 5831 samples, validate on 2499 samples\n",
      "Epoch 1/40\n",
      "5831/5831 [==============================] - 3s 518us/step - loss: 0.6842 - acc: 0.6042 - val_loss: 0.6619 - val_acc: 0.6495\n",
      "Epoch 2/40\n",
      "5831/5831 [==============================] - 1s 253us/step - loss: 0.6547 - acc: 0.6359 - val_loss: 0.6359 - val_acc: 0.6515\n",
      "Epoch 3/40\n",
      "5831/5831 [==============================] - 2s 274us/step - loss: 0.6216 - acc: 0.6438 - val_loss: 0.6031 - val_acc: 0.6623\n",
      "Epoch 4/40\n",
      "5831/5831 [==============================] - 2s 272us/step - loss: 0.5290 - acc: 0.7477 - val_loss: 0.5898 - val_acc: 0.6931\n",
      "Epoch 5/40\n",
      "5831/5831 [==============================] - 2s 270us/step - loss: 0.4420 - acc: 0.8294 - val_loss: 0.6024 - val_acc: 0.7011\n",
      "Epoch 6/40\n",
      "5831/5831 [==============================] - 2s 262us/step - loss: 0.3582 - acc: 0.8643 - val_loss: 0.6856 - val_acc: 0.6995\n",
      "Epoch 7/40\n",
      "5831/5831 [==============================] - 2s 302us/step - loss: 0.2965 - acc: 0.8870 - val_loss: 0.7871 - val_acc: 0.7023\n",
      "Epoch 8/40\n",
      "5831/5831 [==============================] - 2s 283us/step - loss: 0.2637 - acc: 0.9053 - val_loss: 0.8845 - val_acc: 0.7067\n",
      "Epoch 9/40\n",
      "5831/5831 [==============================] - 2s 283us/step - loss: 0.2452 - acc: 0.9101 - val_loss: 0.9544 - val_acc: 0.7007\n",
      "Epoch 10/40\n",
      "5831/5831 [==============================] - 2s 284us/step - loss: 0.2206 - acc: 0.9223 - val_loss: 1.0279 - val_acc: 0.6887\n",
      "Epoch 11/40\n",
      "5831/5831 [==============================] - 2s 284us/step - loss: 0.1975 - acc: 0.9244 - val_loss: 1.1343 - val_acc: 0.6943\n",
      "Epoch 12/40\n",
      "5831/5831 [==============================] - 2s 287us/step - loss: 0.1854 - acc: 0.9299 - val_loss: 1.2737 - val_acc: 0.6899\n",
      "Epoch 13/40\n",
      "5831/5831 [==============================] - 2s 308us/step - loss: 0.1781 - acc: 0.9333 - val_loss: 1.2976 - val_acc: 0.6895\n",
      "Epoch 14/40\n",
      "5831/5831 [==============================] - 2s 322us/step - loss: 0.1642 - acc: 0.9376 - val_loss: 1.3590 - val_acc: 0.6919\n",
      "Epoch 15/40\n",
      "5831/5831 [==============================] - 2s 307us/step - loss: 0.1552 - acc: 0.9403 - val_loss: 1.4984 - val_acc: 0.6899\n",
      "Epoch 16/40\n",
      "5831/5831 [==============================] - 2s 307us/step - loss: 0.1513 - acc: 0.9377 - val_loss: 1.5756 - val_acc: 0.6927\n",
      "Epoch 17/40\n",
      "5831/5831 [==============================] - 2s 295us/step - loss: 0.1432 - acc: 0.9419 - val_loss: 1.7729 - val_acc: 0.6787\n",
      "Epoch 18/40\n",
      "5831/5831 [==============================] - 2s 313us/step - loss: 0.1414 - acc: 0.9396 - val_loss: 1.7745 - val_acc: 0.6823\n",
      "Epoch 19/40\n",
      "5831/5831 [==============================] - 2s 310us/step - loss: 0.1371 - acc: 0.9439 - val_loss: 1.7924 - val_acc: 0.6699\n",
      "Epoch 20/40\n",
      "5831/5831 [==============================] - 2s 313us/step - loss: 0.1380 - acc: 0.9422 - val_loss: 1.9805 - val_acc: 0.6903\n",
      "Epoch 21/40\n",
      "5831/5831 [==============================] - 2s 313us/step - loss: 0.1273 - acc: 0.9460 - val_loss: 1.9815 - val_acc: 0.6919\n",
      "Epoch 22/40\n",
      "5831/5831 [==============================] - 2s 328us/step - loss: 0.1215 - acc: 0.9472 - val_loss: 2.0475 - val_acc: 0.6907\n",
      "Epoch 23/40\n",
      "5831/5831 [==============================] - 2s 330us/step - loss: 0.1161 - acc: 0.9474 - val_loss: 2.1333 - val_acc: 0.6867\n",
      "Epoch 24/40\n",
      "5831/5831 [==============================] - 2s 338us/step - loss: 0.1168 - acc: 0.9479 - val_loss: 2.0602 - val_acc: 0.6887\n",
      "Epoch 25/40\n",
      "5831/5831 [==============================] - 2s 322us/step - loss: 0.1122 - acc: 0.9503 - val_loss: 2.3714 - val_acc: 0.6795\n",
      "Epoch 26/40\n",
      "5831/5831 [==============================] - 2s 345us/step - loss: 0.1078 - acc: 0.9484 - val_loss: 2.5151 - val_acc: 0.6783\n",
      "Epoch 27/40\n",
      "5831/5831 [==============================] - 2s 344us/step - loss: 0.1124 - acc: 0.9510 - val_loss: 2.2351 - val_acc: 0.6759\n",
      "Epoch 28/40\n",
      "5831/5831 [==============================] - 2s 321us/step - loss: 0.1090 - acc: 0.9492 - val_loss: 2.5950 - val_acc: 0.6827\n",
      "Epoch 29/40\n",
      "5831/5831 [==============================] - 2s 320us/step - loss: 0.1182 - acc: 0.9448 - val_loss: 2.2391 - val_acc: 0.6823\n",
      "Epoch 30/40\n",
      "5831/5831 [==============================] - 2s 317us/step - loss: 0.1257 - acc: 0.9484 - val_loss: 2.1045 - val_acc: 0.6891\n",
      "Epoch 31/40\n",
      "5831/5831 [==============================] - 2s 322us/step - loss: 0.1048 - acc: 0.9515 - val_loss: 2.3361 - val_acc: 0.6799\n",
      "Epoch 32/40\n",
      "5831/5831 [==============================] - 2s 326us/step - loss: 0.1045 - acc: 0.9530 - val_loss: 2.5574 - val_acc: 0.6739\n",
      "Epoch 33/40\n",
      "5831/5831 [==============================] - 2s 333us/step - loss: 0.1047 - acc: 0.9523 - val_loss: 2.4598 - val_acc: 0.6891\n",
      "Epoch 34/40\n",
      "5831/5831 [==============================] - 2s 279us/step - loss: 0.0997 - acc: 0.9518 - val_loss: 2.6847 - val_acc: 0.6767\n",
      "Epoch 35/40\n",
      "5831/5831 [==============================] - 2s 316us/step - loss: 0.0943 - acc: 0.9552 - val_loss: 2.7243 - val_acc: 0.6815\n",
      "Epoch 36/40\n",
      "5831/5831 [==============================] - 2s 315us/step - loss: 0.0910 - acc: 0.9594 - val_loss: 2.7916 - val_acc: 0.6847\n",
      "Epoch 37/40\n",
      "5831/5831 [==============================] - 2s 316us/step - loss: 0.0975 - acc: 0.9539 - val_loss: 2.8838 - val_acc: 0.6767\n",
      "Epoch 38/40\n",
      "5831/5831 [==============================] - 2s 329us/step - loss: 0.0981 - acc: 0.9554 - val_loss: 2.5547 - val_acc: 0.6875\n",
      "Epoch 39/40\n",
      "5831/5831 [==============================] - 2s 326us/step - loss: 0.0911 - acc: 0.9587 - val_loss: 2.9283 - val_acc: 0.6695\n",
      "Epoch 40/40\n",
      "5831/5831 [==============================] - 2s 321us/step - loss: 0.0858 - acc: 0.9580 - val_loss: 3.0007 - val_acc: 0.6747\n"
     ]
    },
    {
     "data": {
      "text/plain": [
       "<keras.callbacks.History at 0x7fb2b69c9438>"
      ]
     },
     "execution_count": 56,
     "metadata": {},
     "output_type": "execute_result"
    }
   ],
   "source": [
    "model_bin.fit(X_bin, y_bin, epochs=40, batch_size=256, validation_split=0.3)"
   ]
  },
  {
   "cell_type": "code",
   "execution_count": 57,
   "metadata": {
    "ExecuteTime": {
     "end_time": "2021-01-25T06:17:24.507901Z",
     "start_time": "2021-01-25T06:17:24.317358Z"
    }
   },
   "outputs": [],
   "source": [
    "model_bin2 = Sequential()\n",
    "model_bin2.add(Embedding(6500, 32))\n",
    "model_bin2.add(LSTM(15))\n",
    "model_bin2.add(Dropout(0.5))\n",
    "model_bin2.add(Dense(10, activation='relu'))\n",
    "model_bin2.add(Dropout(0.5))\n",
    "model_bin2.add(Dense(1, activation='sigmoid'))"
   ]
  },
  {
   "cell_type": "code",
   "execution_count": 58,
   "metadata": {
    "ExecuteTime": {
     "end_time": "2021-01-25T06:17:25.194436Z",
     "start_time": "2021-01-25T06:17:25.128392Z"
    }
   },
   "outputs": [],
   "source": [
    "model_bin2.compile(loss='binary_crossentropy', optimizer='adam', metrics=['accuracy'])"
   ]
  },
  {
   "cell_type": "code",
   "execution_count": 59,
   "metadata": {
    "ExecuteTime": {
     "end_time": "2021-01-25T06:17:25.999030Z",
     "start_time": "2021-01-25T06:17:25.989755Z"
    }
   },
   "outputs": [
    {
     "name": "stdout",
     "output_type": "stream",
     "text": [
      "_________________________________________________________________\n",
      "Layer (type)                 Output Shape              Param #   \n",
      "=================================================================\n",
      "embedding_14 (Embedding)     (None, None, 32)          208000    \n",
      "_________________________________________________________________\n",
      "lstm_14 (LSTM)               (None, 15)                2880      \n",
      "_________________________________________________________________\n",
      "dropout_30 (Dropout)         (None, 15)                0         \n",
      "_________________________________________________________________\n",
      "dense_29 (Dense)             (None, 10)                160       \n",
      "_________________________________________________________________\n",
      "dropout_31 (Dropout)         (None, 10)                0         \n",
      "_________________________________________________________________\n",
      "dense_30 (Dense)             (None, 1)                 11        \n",
      "=================================================================\n",
      "Total params: 211,051\n",
      "Trainable params: 211,051\n",
      "Non-trainable params: 0\n",
      "_________________________________________________________________\n"
     ]
    }
   ],
   "source": [
    "model_bin2.summary()"
   ]
  },
  {
   "cell_type": "code",
   "execution_count": 60,
   "metadata": {
    "ExecuteTime": {
     "end_time": "2021-01-25T06:17:59.434112Z",
     "start_time": "2021-01-25T06:17:27.080490Z"
    },
    "scrolled": true
   },
   "outputs": [
    {
     "name": "stdout",
     "output_type": "stream",
     "text": [
      "Train on 5831 samples, validate on 2499 samples\n",
      "Epoch 1/30\n",
      "5831/5831 [==============================] - 3s 482us/step - loss: 0.6866 - acc: 0.6109 - val_loss: 0.6766 - val_acc: 0.6495\n",
      "Epoch 2/30\n",
      "5831/5831 [==============================] - 1s 148us/step - loss: 0.6690 - acc: 0.6357 - val_loss: 0.6504 - val_acc: 0.6495\n",
      "Epoch 3/30\n",
      "5831/5831 [==============================] - 1s 161us/step - loss: 0.6567 - acc: 0.6321 - val_loss: 0.6430 - val_acc: 0.6495\n",
      "Epoch 4/30\n",
      "5831/5831 [==============================] - 1s 168us/step - loss: 0.6366 - acc: 0.6381 - val_loss: 0.6246 - val_acc: 0.6515\n",
      "Epoch 5/30\n",
      "5831/5831 [==============================] - 1s 166us/step - loss: 0.5994 - acc: 0.6534 - val_loss: 0.5949 - val_acc: 0.6731\n",
      "Epoch 6/30\n",
      "5831/5831 [==============================] - 1s 163us/step - loss: 0.5315 - acc: 0.7366 - val_loss: 0.5848 - val_acc: 0.7035\n",
      "Epoch 7/30\n",
      "5831/5831 [==============================] - 1s 169us/step - loss: 0.4612 - acc: 0.7973 - val_loss: 0.6011 - val_acc: 0.6879\n",
      "Epoch 8/30\n",
      "5831/5831 [==============================] - 1s 162us/step - loss: 0.4027 - acc: 0.8391 - val_loss: 0.6288 - val_acc: 0.6871\n",
      "Epoch 9/30\n",
      "5831/5831 [==============================] - 1s 161us/step - loss: 0.3571 - acc: 0.8659 - val_loss: 0.6823 - val_acc: 0.6859\n",
      "Epoch 10/30\n",
      "5831/5831 [==============================] - 1s 169us/step - loss: 0.3247 - acc: 0.8758 - val_loss: 0.7400 - val_acc: 0.6875\n",
      "Epoch 11/30\n",
      "5831/5831 [==============================] - 1s 170us/step - loss: 0.3014 - acc: 0.8877 - val_loss: 0.8345 - val_acc: 0.6943\n",
      "Epoch 12/30\n",
      "5831/5831 [==============================] - 1s 176us/step - loss: 0.2782 - acc: 0.8978 - val_loss: 0.9111 - val_acc: 0.7015\n",
      "Epoch 13/30\n",
      "5831/5831 [==============================] - 1s 167us/step - loss: 0.2682 - acc: 0.9026 - val_loss: 0.8857 - val_acc: 0.6851\n",
      "Epoch 14/30\n",
      "5831/5831 [==============================] - 1s 166us/step - loss: 0.2476 - acc: 0.9105 - val_loss: 1.0037 - val_acc: 0.7011\n",
      "Epoch 15/30\n",
      "5831/5831 [==============================] - 1s 174us/step - loss: 0.2421 - acc: 0.9088 - val_loss: 0.9930 - val_acc: 0.6971\n",
      "Epoch 16/30\n",
      "5831/5831 [==============================] - 1s 173us/step - loss: 0.2367 - acc: 0.9115 - val_loss: 0.9866 - val_acc: 0.6899\n",
      "Epoch 17/30\n",
      "5831/5831 [==============================] - 1s 168us/step - loss: 0.2227 - acc: 0.9161 - val_loss: 1.1359 - val_acc: 0.6915\n",
      "Epoch 18/30\n",
      "5831/5831 [==============================] - 1s 165us/step - loss: 0.2098 - acc: 0.9209 - val_loss: 1.2241 - val_acc: 0.6939\n",
      "Epoch 19/30\n",
      "5831/5831 [==============================] - 1s 168us/step - loss: 0.2001 - acc: 0.9263 - val_loss: 1.2872 - val_acc: 0.6943\n",
      "Epoch 20/30\n",
      "5831/5831 [==============================] - 1s 168us/step - loss: 0.1949 - acc: 0.9242 - val_loss: 1.3116 - val_acc: 0.6923\n",
      "Epoch 21/30\n",
      "5831/5831 [==============================] - 1s 168us/step - loss: 0.1906 - acc: 0.9263 - val_loss: 1.3459 - val_acc: 0.6839\n",
      "Epoch 22/30\n",
      "5831/5831 [==============================] - 1s 174us/step - loss: 0.1856 - acc: 0.9335 - val_loss: 1.4270 - val_acc: 0.6827\n",
      "Epoch 23/30\n",
      "5831/5831 [==============================] - 1s 171us/step - loss: 0.1745 - acc: 0.9374 - val_loss: 1.5075 - val_acc: 0.6847\n",
      "Epoch 24/30\n",
      "5831/5831 [==============================] - 1s 182us/step - loss: 0.1731 - acc: 0.9314 - val_loss: 1.5461 - val_acc: 0.6843\n",
      "Epoch 25/30\n",
      "5831/5831 [==============================] - 1s 173us/step - loss: 0.1666 - acc: 0.9338 - val_loss: 1.6428 - val_acc: 0.6827\n",
      "Epoch 26/30\n",
      "5831/5831 [==============================] - 1s 159us/step - loss: 0.1623 - acc: 0.9331 - val_loss: 1.6056 - val_acc: 0.6831\n",
      "Epoch 27/30\n",
      "5831/5831 [==============================] - 1s 170us/step - loss: 0.1628 - acc: 0.9336 - val_loss: 1.6199 - val_acc: 0.6819\n",
      "Epoch 28/30\n",
      "5831/5831 [==============================] - 1s 194us/step - loss: 0.1657 - acc: 0.9312 - val_loss: 1.7491 - val_acc: 0.6843\n",
      "Epoch 29/30\n",
      "5831/5831 [==============================] - 1s 182us/step - loss: 0.1536 - acc: 0.9403 - val_loss: 1.7125 - val_acc: 0.6803\n",
      "Epoch 30/30\n",
      "5831/5831 [==============================] - 1s 172us/step - loss: 0.1627 - acc: 0.9336 - val_loss: 1.7694 - val_acc: 0.6843\n"
     ]
    },
    {
     "data": {
      "text/plain": [
       "<keras.callbacks.History at 0x7fb2b98f2ac8>"
      ]
     },
     "execution_count": 60,
     "metadata": {},
     "output_type": "execute_result"
    }
   ],
   "source": [
    "model_bin2.fit(X_bin, y_bin, epochs=30, batch_size=256, validation_split=0.3)"
   ]
  },
  {
   "cell_type": "code",
   "execution_count": 64,
   "metadata": {
    "ExecuteTime": {
     "end_time": "2021-01-25T06:18:42.393871Z",
     "start_time": "2021-01-25T06:18:42.022071Z"
    }
   },
   "outputs": [],
   "source": [
    "model_bin3 = Sequential()\n",
    "model_bin3.add(Embedding(6500, 16))\n",
    "model_bin3.add(LSTM(10))\n",
    "model_bin3.add(Dropout(0.5))\n",
    "model_bin3.add(Dense(5, activation='relu'))\n",
    "model_bin3.add(Dropout(0.5))\n",
    "model_bin3.add(Dense(1, activation='sigmoid'))"
   ]
  },
  {
   "cell_type": "code",
   "execution_count": 65,
   "metadata": {
    "ExecuteTime": {
     "end_time": "2021-01-25T06:18:44.129807Z",
     "start_time": "2021-01-25T06:18:44.062615Z"
    }
   },
   "outputs": [
    {
     "name": "stdout",
     "output_type": "stream",
     "text": [
      "_________________________________________________________________\n",
      "Layer (type)                 Output Shape              Param #   \n",
      "=================================================================\n",
      "embedding_16 (Embedding)     (None, None, 16)          104000    \n",
      "_________________________________________________________________\n",
      "lstm_16 (LSTM)               (None, 10)                1080      \n",
      "_________________________________________________________________\n",
      "dropout_34 (Dropout)         (None, 10)                0         \n",
      "_________________________________________________________________\n",
      "dense_33 (Dense)             (None, 5)                 55        \n",
      "_________________________________________________________________\n",
      "dropout_35 (Dropout)         (None, 5)                 0         \n",
      "_________________________________________________________________\n",
      "dense_34 (Dense)             (None, 1)                 6         \n",
      "=================================================================\n",
      "Total params: 105,141\n",
      "Trainable params: 105,141\n",
      "Non-trainable params: 0\n",
      "_________________________________________________________________\n"
     ]
    }
   ],
   "source": [
    "model_bin3.compile(loss='binary_crossentropy', optimizer='adam', metrics=['accuracy'])\n",
    "model_bin3.summary()"
   ]
  },
  {
   "cell_type": "code",
   "execution_count": 66,
   "metadata": {
    "ExecuteTime": {
     "end_time": "2021-01-25T06:19:13.632991Z",
     "start_time": "2021-01-25T06:18:45.711077Z"
    },
    "scrolled": true
   },
   "outputs": [
    {
     "name": "stdout",
     "output_type": "stream",
     "text": [
      "Train on 5831 samples, validate on 2499 samples\n",
      "Epoch 1/30\n",
      "5831/5831 [==============================] - 3s 453us/step - loss: 0.6862 - acc: 0.6277 - val_loss: 0.6766 - val_acc: 0.6495\n",
      "Epoch 2/30\n",
      "5831/5831 [==============================] - 1s 137us/step - loss: 0.6725 - acc: 0.6349 - val_loss: 0.6602 - val_acc: 0.6495\n",
      "Epoch 3/30\n",
      "5831/5831 [==============================] - 1s 130us/step - loss: 0.6617 - acc: 0.6333 - val_loss: 0.6479 - val_acc: 0.6495\n",
      "Epoch 4/30\n",
      "5831/5831 [==============================] - 1s 146us/step - loss: 0.6585 - acc: 0.6356 - val_loss: 0.6449 - val_acc: 0.6495\n",
      "Epoch 5/30\n",
      "5831/5831 [==============================] - 1s 137us/step - loss: 0.6428 - acc: 0.6364 - val_loss: 0.6291 - val_acc: 0.6495\n",
      "Epoch 6/30\n",
      "5831/5831 [==============================] - 1s 139us/step - loss: 0.6211 - acc: 0.6361 - val_loss: 0.6106 - val_acc: 0.6495\n",
      "Epoch 7/30\n",
      "5831/5831 [==============================] - 1s 144us/step - loss: 0.5842 - acc: 0.6369 - val_loss: 0.5963 - val_acc: 0.6495\n",
      "Epoch 8/30\n",
      "5831/5831 [==============================] - 1s 148us/step - loss: 0.5482 - acc: 0.6387 - val_loss: 0.6019 - val_acc: 0.6495\n",
      "Epoch 9/30\n",
      "5831/5831 [==============================] - 1s 153us/step - loss: 0.5222 - acc: 0.6457 - val_loss: 0.6110 - val_acc: 0.6511\n",
      "Epoch 10/30\n",
      "5831/5831 [==============================] - 1s 143us/step - loss: 0.4933 - acc: 0.6735 - val_loss: 0.6585 - val_acc: 0.6815\n",
      "Epoch 11/30\n",
      "5831/5831 [==============================] - 1s 146us/step - loss: 0.4639 - acc: 0.7145 - val_loss: 0.6607 - val_acc: 0.6943\n",
      "Epoch 12/30\n",
      "5831/5831 [==============================] - 1s 157us/step - loss: 0.4375 - acc: 0.7524 - val_loss: 0.7119 - val_acc: 0.6915\n",
      "Epoch 13/30\n",
      "5831/5831 [==============================] - 1s 145us/step - loss: 0.4011 - acc: 0.7867 - val_loss: 0.7526 - val_acc: 0.6839\n",
      "Epoch 14/30\n",
      "5831/5831 [==============================] - 1s 140us/step - loss: 0.3796 - acc: 0.8426 - val_loss: 0.7963 - val_acc: 0.6779\n",
      "Epoch 15/30\n",
      "5831/5831 [==============================] - 1s 138us/step - loss: 0.3588 - acc: 0.8513 - val_loss: 0.8514 - val_acc: 0.6783\n",
      "Epoch 16/30\n",
      "5831/5831 [==============================] - 1s 149us/step - loss: 0.3583 - acc: 0.8511 - val_loss: 0.8390 - val_acc: 0.6703\n",
      "Epoch 17/30\n",
      "5831/5831 [==============================] - 1s 150us/step - loss: 0.3438 - acc: 0.8559 - val_loss: 1.0335 - val_acc: 0.6895\n",
      "Epoch 18/30\n",
      "5831/5831 [==============================] - 1s 144us/step - loss: 0.3214 - acc: 0.8702 - val_loss: 1.0148 - val_acc: 0.6779\n",
      "Epoch 19/30\n",
      "5831/5831 [==============================] - 1s 139us/step - loss: 0.3164 - acc: 0.8661 - val_loss: 1.1569 - val_acc: 0.6835\n",
      "Epoch 20/30\n",
      "5831/5831 [==============================] - 1s 143us/step - loss: 0.3082 - acc: 0.8762 - val_loss: 1.2360 - val_acc: 0.6875\n",
      "Epoch 21/30\n",
      "5831/5831 [==============================] - 1s 142us/step - loss: 0.3068 - acc: 0.8769 - val_loss: 1.1611 - val_acc: 0.6779\n",
      "Epoch 22/30\n",
      "5831/5831 [==============================] - 1s 143us/step - loss: 0.2934 - acc: 0.8860 - val_loss: 1.2149 - val_acc: 0.6803\n",
      "Epoch 23/30\n",
      "5831/5831 [==============================] - 1s 143us/step - loss: 0.3005 - acc: 0.8798 - val_loss: 1.2184 - val_acc: 0.6815\n",
      "Epoch 24/30\n",
      "5831/5831 [==============================] - 1s 148us/step - loss: 0.2979 - acc: 0.8827 - val_loss: 1.2911 - val_acc: 0.6891\n",
      "Epoch 25/30\n",
      "5831/5831 [==============================] - 1s 149us/step - loss: 0.2930 - acc: 0.8800 - val_loss: 1.2989 - val_acc: 0.6847\n",
      "Epoch 26/30\n",
      "5831/5831 [==============================] - 1s 146us/step - loss: 0.2750 - acc: 0.8944 - val_loss: 1.2493 - val_acc: 0.6743\n",
      "Epoch 27/30\n",
      "5831/5831 [==============================] - 1s 150us/step - loss: 0.2844 - acc: 0.8880 - val_loss: 1.1794 - val_acc: 0.6591\n",
      "Epoch 28/30\n",
      "5831/5831 [==============================] - 1s 151us/step - loss: 0.2907 - acc: 0.8832 - val_loss: 1.3077 - val_acc: 0.6787\n",
      "Epoch 29/30\n",
      "5831/5831 [==============================] - 1s 143us/step - loss: 0.2768 - acc: 0.8909 - val_loss: 1.4705 - val_acc: 0.6935\n",
      "Epoch 30/30\n",
      "5831/5831 [==============================] - 1s 147us/step - loss: 0.2726 - acc: 0.8909 - val_loss: 1.4359 - val_acc: 0.6787\n"
     ]
    },
    {
     "data": {
      "text/plain": [
       "<keras.callbacks.History at 0x7fb2b98bc860>"
      ]
     },
     "execution_count": 66,
     "metadata": {},
     "output_type": "execute_result"
    }
   ],
   "source": [
    "model_bin3.fit(X_bin, y_bin, epochs=30, batch_size=256, validation_split=0.3)"
   ]
  },
  {
   "cell_type": "code",
   "execution_count": 85,
   "metadata": {
    "ExecuteTime": {
     "end_time": "2021-01-25T06:26:40.368387Z",
     "start_time": "2021-01-25T06:26:40.099740Z"
    }
   },
   "outputs": [],
   "source": [
    "model_bin4 = Sequential()\n",
    "model_bin4.add(Embedding(6500, 16))\n",
    "model_bin4.add(Dense(8, activation='relu', kernel_regularizer=regularizers.l1(0.005)))\n",
    "model_bin4.add(Dropout(0.5))\n",
    "model_bin4.add(LSTM(5))\n",
    "model_bin4.add(Dropout(0.3))\n",
    "model_bin4.add(Dense(4, activation='relu', kernel_regularizer=regularizers.l1(0.005)))\n",
    "model_bin4.add(Dropout(0.3))\n",
    "model_bin4.add(Dense(1, activation='sigmoid'))"
   ]
  },
  {
   "cell_type": "code",
   "execution_count": 86,
   "metadata": {
    "ExecuteTime": {
     "end_time": "2021-01-25T06:26:40.439081Z",
     "start_time": "2021-01-25T06:26:40.371506Z"
    }
   },
   "outputs": [
    {
     "name": "stdout",
     "output_type": "stream",
     "text": [
      "_________________________________________________________________\n",
      "Layer (type)                 Output Shape              Param #   \n",
      "=================================================================\n",
      "embedding_23 (Embedding)     (None, None, 16)          104000    \n",
      "_________________________________________________________________\n",
      "dense_53 (Dense)             (None, None, 8)           136       \n",
      "_________________________________________________________________\n",
      "dropout_53 (Dropout)         (None, None, 8)           0         \n",
      "_________________________________________________________________\n",
      "lstm_21 (LSTM)               (None, 5)                 280       \n",
      "_________________________________________________________________\n",
      "dropout_54 (Dropout)         (None, 5)                 0         \n",
      "_________________________________________________________________\n",
      "dense_54 (Dense)             (None, 4)                 24        \n",
      "_________________________________________________________________\n",
      "dropout_55 (Dropout)         (None, 4)                 0         \n",
      "_________________________________________________________________\n",
      "dense_55 (Dense)             (None, 1)                 5         \n",
      "=================================================================\n",
      "Total params: 104,445\n",
      "Trainable params: 104,445\n",
      "Non-trainable params: 0\n",
      "_________________________________________________________________\n"
     ]
    }
   ],
   "source": [
    "model_bin4.compile(loss='binary_crossentropy', optimizer='adam', metrics=['accuracy'])\n",
    "model_bin4.summary()"
   ]
  },
  {
   "cell_type": "code",
   "execution_count": 92,
   "metadata": {
    "ExecuteTime": {
     "end_time": "2021-01-29T19:06:41.886468Z",
     "start_time": "2021-01-29T19:05:23.193477Z"
    },
    "scrolled": true
   },
   "outputs": [
    {
     "name": "stdout",
     "output_type": "stream",
     "text": [
      "Train on 6247 samples, validate on 2083 samples\n",
      "Epoch 1/25\n",
      "6247/6247 [==============================] - 3s 501us/step - loss: 0.4240 - acc: 0.7898 - val_loss: 0.7745 - val_acc: 0.6793\n",
      "Epoch 2/25\n",
      "6247/6247 [==============================] - 3s 452us/step - loss: 0.4300 - acc: 0.7879 - val_loss: 0.7760 - val_acc: 0.7033\n",
      "Epoch 3/25\n",
      "6247/6247 [==============================] - 3s 484us/step - loss: 0.4281 - acc: 0.7903 - val_loss: 0.7734 - val_acc: 0.6880\n",
      "Epoch 4/25\n",
      "6247/6247 [==============================] - 3s 493us/step - loss: 0.4246 - acc: 0.7937 - val_loss: 0.7804 - val_acc: 0.6899\n",
      "Epoch 5/25\n",
      "6247/6247 [==============================] - 3s 511us/step - loss: 0.4210 - acc: 0.7972 - val_loss: 0.8084 - val_acc: 0.7072\n",
      "Epoch 6/25\n",
      "6247/6247 [==============================] - 3s 486us/step - loss: 0.4262 - acc: 0.8031 - val_loss: 0.7726 - val_acc: 0.6855\n",
      "Epoch 7/25\n",
      "6247/6247 [==============================] - 3s 560us/step - loss: 0.4194 - acc: 0.8119 - val_loss: 0.7964 - val_acc: 0.7024\n",
      "Epoch 8/25\n",
      "6247/6247 [==============================] - 3s 504us/step - loss: 0.4265 - acc: 0.8053 - val_loss: 0.7834 - val_acc: 0.6956\n",
      "Epoch 9/25\n",
      "6247/6247 [==============================] - 3s 490us/step - loss: 0.4066 - acc: 0.8202 - val_loss: 0.8113 - val_acc: 0.6990\n",
      "Epoch 10/25\n",
      "6247/6247 [==============================] - 3s 514us/step - loss: 0.4159 - acc: 0.8109 - val_loss: 0.8082 - val_acc: 0.6980\n",
      "Epoch 11/25\n",
      "6247/6247 [==============================] - 3s 478us/step - loss: 0.4199 - acc: 0.8073 - val_loss: 0.8161 - val_acc: 0.6985\n",
      "Epoch 12/25\n",
      "6247/6247 [==============================] - 3s 435us/step - loss: 0.4188 - acc: 0.8057 - val_loss: 0.8143 - val_acc: 0.6932\n",
      "Epoch 13/25\n",
      "6247/6247 [==============================] - 3s 461us/step - loss: 0.4169 - acc: 0.8119 - val_loss: 0.8261 - val_acc: 0.6956\n",
      "Epoch 14/25\n",
      "6247/6247 [==============================] - 3s 450us/step - loss: 0.4039 - acc: 0.8194 - val_loss: 0.8363 - val_acc: 0.6961\n",
      "Epoch 15/25\n",
      "6247/6247 [==============================] - 3s 464us/step - loss: 0.4052 - acc: 0.8191 - val_loss: 0.8475 - val_acc: 0.6980\n",
      "Epoch 16/25\n",
      "6247/6247 [==============================] - 3s 485us/step - loss: 0.4121 - acc: 0.8138 - val_loss: 0.8704 - val_acc: 0.7004\n",
      "Epoch 17/25\n",
      "6247/6247 [==============================] - 3s 523us/step - loss: 0.4111 - acc: 0.8066 - val_loss: 0.8309 - val_acc: 0.6947\n",
      "Epoch 18/25\n",
      "6247/6247 [==============================] - 3s 505us/step - loss: 0.4148 - acc: 0.8098 - val_loss: 0.8402 - val_acc: 0.6880\n",
      "Epoch 19/25\n",
      "6247/6247 [==============================] - 3s 489us/step - loss: 0.4099 - acc: 0.8122 - val_loss: 0.8737 - val_acc: 0.6942\n",
      "Epoch 20/25\n",
      "6247/6247 [==============================] - 3s 533us/step - loss: 0.4092 - acc: 0.8065 - val_loss: 0.8594 - val_acc: 0.6990\n",
      "Epoch 21/25\n",
      "6247/6247 [==============================] - 4s 600us/step - loss: 0.4114 - acc: 0.8106 - val_loss: 0.8626 - val_acc: 0.6985\n",
      "Epoch 22/25\n",
      "6247/6247 [==============================] - 5s 774us/step - loss: 0.3999 - acc: 0.8158 - val_loss: 0.8457 - val_acc: 0.6980\n",
      "Epoch 23/25\n",
      "6247/6247 [==============================] - 3s 472us/step - loss: 0.4119 - acc: 0.8156 - val_loss: 0.8276 - val_acc: 0.6966\n",
      "Epoch 24/25\n",
      "6247/6247 [==============================] - 3s 458us/step - loss: 0.4075 - acc: 0.8117 - val_loss: 0.8455 - val_acc: 0.6841\n",
      "Epoch 25/25\n",
      "6247/6247 [==============================] - 3s 458us/step - loss: 0.4017 - acc: 0.8233 - val_loss: 0.8448 - val_acc: 0.6985\n"
     ]
    },
    {
     "data": {
      "text/plain": [
       "<keras.callbacks.History at 0x7fb2a95a99e8>"
      ]
     },
     "execution_count": 92,
     "metadata": {},
     "output_type": "execute_result"
    }
   ],
   "source": [
    "model_bin4.fit(X_bin, y_bin, epochs=25, batch_size=150, validation_split=0.25)"
   ]
  },
  {
   "cell_type": "code",
   "execution_count": null,
   "metadata": {},
   "outputs": [],
   "source": []
  }
 ],
 "metadata": {
  "kernelspec": {
   "display_name": "Python 3",
   "language": "python",
   "name": "python3"
  },
  "language_info": {
   "codemirror_mode": {
    "name": "ipython",
    "version": 3
   },
   "file_extension": ".py",
   "mimetype": "text/x-python",
   "name": "python",
   "nbconvert_exporter": "python",
   "pygments_lexer": "ipython3",
   "version": "3.6.9"
  },
  "toc": {
   "base_numbering": 1,
   "nav_menu": {},
   "number_sections": true,
   "sideBar": true,
   "skip_h1_title": false,
   "title_cell": "Table of Contents",
   "title_sidebar": "Contents",
   "toc_cell": false,
   "toc_position": {},
   "toc_section_display": true,
   "toc_window_display": false
  }
 },
 "nbformat": 4,
 "nbformat_minor": 2
}
