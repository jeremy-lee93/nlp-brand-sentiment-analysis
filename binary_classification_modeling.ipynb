{
 "cells": [
  {
   "cell_type": "markdown",
   "metadata": {},
   "source": [
    "# Binary Classification Modeling\n",
    "\n",
    "**Refer to `EDA_and_modeling.ipynb` for exploratory data analysis and NLP modeling with 3 classes.** \n",
    "\n",
    "In this notebook, I will attempt to build a model to classify tweet by sentiment.  This notebook will differe in that negative and neutral tweets will be classified together. I will also remove some of the added features to see if that will help in predicting sentiment.\n",
    "\n",
    "Let's discuss why binary modeling is useful and applicable to this dataset.\n",
    "\n",
    "Binary modeling is useful here because of the stark class imbalance in this dataset. There were simply not enough negative tweets for any of the models to perform well in classifying negative tweets. Without acquiring more data or creating enough synthetic, negative tweets, the class imbalance will limit how accurate the model can be.\n",
    "\n",
    "The business purpose for having two classes is simple. A company like Apple or Google likely just needs to know if if the tweet is positive or not positive. There may not be a need to distinguish between negative and neutral. If we know that an individual has tweeted something positive about a brand or product, then it's reasonable to assume that they have a favorable opinion about that product. Somebody who has a favorable opinion is likely to be a customer as well. [This blog](https://mention.com/en/blog/online-reviews/) discusses a few of the reasons why somebody sharing their positive opinion is good for a company, and it states that people who have good things to say are more likely to share their positive opinion. This means that the neutral/negative tweets should be the focus of a company. We want the NLP model to detect those negative/neutral tweets because those may not be guaranteed customers. Big Tech companies want to identify those individuals that may be reticent to use or purchase their product so they can understand how they should market themselves such that they can increase their customer base.\n",
    "\n",
    "Per [market research](https://marketing.twitter.com/en_gb/insights/twitters-audience-is-hugely-influential-heres-what-it-means-for-brands) from Twitter:\n",
    "- 3 in 4 poeple said Twitter users were the first people they looked to for advice\n",
    "- 9 in 10 people said they changed their opinion aobut a purchase bedcause of advice that was given to them by someone they knew on Twitter"
   ]
  },
  {
   "cell_type": "code",
   "execution_count": 1,
   "metadata": {
    "ExecuteTime": {
     "end_time": "2021-07-10T21:18:32.209912Z",
     "start_time": "2021-07-10T21:18:27.998908Z"
    }
   },
   "outputs": [],
   "source": [
    "import numpy as np\n",
    "import pandas as pd\n",
    "pd.set_option('display.max_colwidth', 200)\n",
    "import re\n",
    "import matplotlib.pyplot as plt\n",
    "import seaborn as sns\n",
    "%matplotlib inline\n",
    "\n",
    "import string\n",
    "import nltk\n",
    "from sklearn.model_selection import train_test_split, cross_val_score, GridSearchCV\n",
    "from sklearn.metrics import plot_confusion_matrix\n",
    "from sklearn.metrics import classification_report\n",
    "from sklearn.feature_extraction.text import CountVectorizer\n",
    "from sklearn.feature_extraction.text import TfidfVectorizer\n",
    "from sklearn.naive_bayes import MultinomialNB\n",
    "from sklearn.ensemble import RandomForestClassifier\n",
    "from sklearn.svm import SVC\n",
    "from bs4 import BeautifulSoup\n",
    "\n",
    "sns.set_style('darkgrid')\n",
    "plt.style.use('fivethirtyeight')"
   ]
  },
  {
   "cell_type": "code",
   "execution_count": 9,
   "metadata": {
    "ExecuteTime": {
     "end_time": "2021-07-10T21:23:59.658002Z",
     "start_time": "2021-07-10T21:23:59.640865Z"
    }
   },
   "outputs": [],
   "source": [
    "from sklearn.preprocessing import StandardScaler\n",
    "from sklearn.preprocessing import MinMaxScaler"
   ]
  },
  {
   "cell_type": "code",
   "execution_count": 2,
   "metadata": {
    "ExecuteTime": {
     "end_time": "2021-07-10T21:18:32.994656Z",
     "start_time": "2021-07-10T21:18:32.828140Z"
    }
   },
   "outputs": [
    {
     "data": {
      "text/html": [
       "<div>\n",
       "<style scoped>\n",
       "    .dataframe tbody tr th:only-of-type {\n",
       "        vertical-align: middle;\n",
       "    }\n",
       "\n",
       "    .dataframe tbody tr th {\n",
       "        vertical-align: top;\n",
       "    }\n",
       "\n",
       "    .dataframe thead tr th {\n",
       "        text-align: left;\n",
       "    }\n",
       "\n",
       "    .dataframe thead tr:last-of-type th {\n",
       "        text-align: right;\n",
       "    }\n",
       "</style>\n",
       "<table border=\"1\" class=\"dataframe\">\n",
       "  <thead>\n",
       "    <tr>\n",
       "      <th></th>\n",
       "      <th colspan=\"8\" halign=\"left\">hashtag_count</th>\n",
       "      <th colspan=\"8\" halign=\"left\">mention_count</th>\n",
       "      <th colspan=\"8\" halign=\"left\">weblink_count</th>\n",
       "      <th colspan=\"8\" halign=\"left\">tweet_length</th>\n",
       "      <th colspan=\"8\" halign=\"left\">punct_count</th>\n",
       "    </tr>\n",
       "    <tr>\n",
       "      <th></th>\n",
       "      <th>count</th>\n",
       "      <th>mean</th>\n",
       "      <th>std</th>\n",
       "      <th>min</th>\n",
       "      <th>25%</th>\n",
       "      <th>50%</th>\n",
       "      <th>75%</th>\n",
       "      <th>max</th>\n",
       "      <th>count</th>\n",
       "      <th>mean</th>\n",
       "      <th>std</th>\n",
       "      <th>min</th>\n",
       "      <th>25%</th>\n",
       "      <th>50%</th>\n",
       "      <th>75%</th>\n",
       "      <th>max</th>\n",
       "      <th>count</th>\n",
       "      <th>mean</th>\n",
       "      <th>std</th>\n",
       "      <th>min</th>\n",
       "      <th>25%</th>\n",
       "      <th>50%</th>\n",
       "      <th>75%</th>\n",
       "      <th>max</th>\n",
       "      <th>count</th>\n",
       "      <th>mean</th>\n",
       "      <th>std</th>\n",
       "      <th>min</th>\n",
       "      <th>25%</th>\n",
       "      <th>50%</th>\n",
       "      <th>75%</th>\n",
       "      <th>max</th>\n",
       "      <th>count</th>\n",
       "      <th>mean</th>\n",
       "      <th>std</th>\n",
       "      <th>min</th>\n",
       "      <th>25%</th>\n",
       "      <th>50%</th>\n",
       "      <th>75%</th>\n",
       "      <th>max</th>\n",
       "    </tr>\n",
       "    <tr>\n",
       "      <th>sentiment</th>\n",
       "      <th></th>\n",
       "      <th></th>\n",
       "      <th></th>\n",
       "      <th></th>\n",
       "      <th></th>\n",
       "      <th></th>\n",
       "      <th></th>\n",
       "      <th></th>\n",
       "      <th></th>\n",
       "      <th></th>\n",
       "      <th></th>\n",
       "      <th></th>\n",
       "      <th></th>\n",
       "      <th></th>\n",
       "      <th></th>\n",
       "      <th></th>\n",
       "      <th></th>\n",
       "      <th></th>\n",
       "      <th></th>\n",
       "      <th></th>\n",
       "      <th></th>\n",
       "      <th></th>\n",
       "      <th></th>\n",
       "      <th></th>\n",
       "      <th></th>\n",
       "      <th></th>\n",
       "      <th></th>\n",
       "      <th></th>\n",
       "      <th></th>\n",
       "      <th></th>\n",
       "      <th></th>\n",
       "      <th></th>\n",
       "      <th></th>\n",
       "      <th></th>\n",
       "      <th></th>\n",
       "      <th></th>\n",
       "      <th></th>\n",
       "      <th></th>\n",
       "      <th></th>\n",
       "      <th></th>\n",
       "    </tr>\n",
       "  </thead>\n",
       "  <tbody>\n",
       "    <tr>\n",
       "      <td>0</td>\n",
       "      <td>5341.0</td>\n",
       "      <td>1.758285</td>\n",
       "      <td>1.116353</td>\n",
       "      <td>0.0</td>\n",
       "      <td>1.0</td>\n",
       "      <td>1.0</td>\n",
       "      <td>2.0</td>\n",
       "      <td>12.0</td>\n",
       "      <td>5341.0</td>\n",
       "      <td>0.752106</td>\n",
       "      <td>0.905020</td>\n",
       "      <td>0.0</td>\n",
       "      <td>0.0</td>\n",
       "      <td>1.0</td>\n",
       "      <td>1.0</td>\n",
       "      <td>8.0</td>\n",
       "      <td>5341.0</td>\n",
       "      <td>0.457218</td>\n",
       "      <td>0.529199</td>\n",
       "      <td>0.0</td>\n",
       "      <td>0.0</td>\n",
       "      <td>0.0</td>\n",
       "      <td>1.0</td>\n",
       "      <td>3.0</td>\n",
       "      <td>5341.0</td>\n",
       "      <td>17.340573</td>\n",
       "      <td>4.926567</td>\n",
       "      <td>4.0</td>\n",
       "      <td>14.0</td>\n",
       "      <td>17.0</td>\n",
       "      <td>21.0</td>\n",
       "      <td>32.0</td>\n",
       "      <td>5341.0</td>\n",
       "      <td>3.264183</td>\n",
       "      <td>2.425220</td>\n",
       "      <td>0.0</td>\n",
       "      <td>1.0</td>\n",
       "      <td>3.0</td>\n",
       "      <td>5.0</td>\n",
       "      <td>22.0</td>\n",
       "    </tr>\n",
       "    <tr>\n",
       "      <td>1</td>\n",
       "      <td>2989.0</td>\n",
       "      <td>1.686183</td>\n",
       "      <td>0.969004</td>\n",
       "      <td>0.0</td>\n",
       "      <td>1.0</td>\n",
       "      <td>1.0</td>\n",
       "      <td>2.0</td>\n",
       "      <td>10.0</td>\n",
       "      <td>2989.0</td>\n",
       "      <td>0.740381</td>\n",
       "      <td>0.853871</td>\n",
       "      <td>0.0</td>\n",
       "      <td>0.0</td>\n",
       "      <td>1.0</td>\n",
       "      <td>1.0</td>\n",
       "      <td>7.0</td>\n",
       "      <td>2989.0</td>\n",
       "      <td>0.407494</td>\n",
       "      <td>0.503559</td>\n",
       "      <td>0.0</td>\n",
       "      <td>0.0</td>\n",
       "      <td>0.0</td>\n",
       "      <td>1.0</td>\n",
       "      <td>2.0</td>\n",
       "      <td>2989.0</td>\n",
       "      <td>17.892606</td>\n",
       "      <td>4.879626</td>\n",
       "      <td>4.0</td>\n",
       "      <td>14.0</td>\n",
       "      <td>18.0</td>\n",
       "      <td>22.0</td>\n",
       "      <td>33.0</td>\n",
       "      <td>2989.0</td>\n",
       "      <td>3.435597</td>\n",
       "      <td>2.326356</td>\n",
       "      <td>0.0</td>\n",
       "      <td>2.0</td>\n",
       "      <td>3.0</td>\n",
       "      <td>5.0</td>\n",
       "      <td>19.0</td>\n",
       "    </tr>\n",
       "  </tbody>\n",
       "</table>\n",
       "</div>"
      ],
      "text/plain": [
       "          hashtag_count                                                \\\n",
       "                  count      mean       std  min  25%  50%  75%   max   \n",
       "sentiment                                                               \n",
       "0                5341.0  1.758285  1.116353  0.0  1.0  1.0  2.0  12.0   \n",
       "1                2989.0  1.686183  0.969004  0.0  1.0  1.0  2.0  10.0   \n",
       "\n",
       "          mention_count                                               \\\n",
       "                  count      mean       std  min  25%  50%  75%  max   \n",
       "sentiment                                                              \n",
       "0                5341.0  0.752106  0.905020  0.0  0.0  1.0  1.0  8.0   \n",
       "1                2989.0  0.740381  0.853871  0.0  0.0  1.0  1.0  7.0   \n",
       "\n",
       "          weblink_count                                               \\\n",
       "                  count      mean       std  min  25%  50%  75%  max   \n",
       "sentiment                                                              \n",
       "0                5341.0  0.457218  0.529199  0.0  0.0  0.0  1.0  3.0   \n",
       "1                2989.0  0.407494  0.503559  0.0  0.0  0.0  1.0  2.0   \n",
       "\n",
       "          tweet_length                                                    \\\n",
       "                 count       mean       std  min   25%   50%   75%   max   \n",
       "sentiment                                                                  \n",
       "0               5341.0  17.340573  4.926567  4.0  14.0  17.0  21.0  32.0   \n",
       "1               2989.0  17.892606  4.879626  4.0  14.0  18.0  22.0  33.0   \n",
       "\n",
       "          punct_count                                                \n",
       "                count      mean       std  min  25%  50%  75%   max  \n",
       "sentiment                                                            \n",
       "0              5341.0  3.264183  2.425220  0.0  1.0  3.0  5.0  22.0  \n",
       "1              2989.0  3.435597  2.326356  0.0  2.0  3.0  5.0  19.0  "
      ]
     },
     "execution_count": 2,
     "metadata": {},
     "output_type": "execute_result"
    }
   ],
   "source": [
    "df_binary = pd.read_csv('binary_tweets.csv')\n",
    "pd.set_option('max_columns', None)\n",
    "df_binary.groupby('sentiment').describe()"
   ]
  },
  {
   "cell_type": "code",
   "execution_count": 3,
   "metadata": {
    "ExecuteTime": {
     "end_time": "2021-07-10T21:18:33.799773Z",
     "start_time": "2021-07-10T21:18:33.776081Z"
    },
    "scrolled": true
   },
   "outputs": [
    {
     "data": {
      "text/html": [
       "<div>\n",
       "<style scoped>\n",
       "    .dataframe tbody tr th:only-of-type {\n",
       "        vertical-align: middle;\n",
       "    }\n",
       "\n",
       "    .dataframe tbody tr th {\n",
       "        vertical-align: top;\n",
       "    }\n",
       "\n",
       "    .dataframe thead th {\n",
       "        text-align: right;\n",
       "    }\n",
       "</style>\n",
       "<table border=\"1\" class=\"dataframe\">\n",
       "  <thead>\n",
       "    <tr style=\"text-align: right;\">\n",
       "      <th></th>\n",
       "      <th>tweet</th>\n",
       "      <th>brand_product</th>\n",
       "      <th>sentiment</th>\n",
       "      <th>tweet_tokens</th>\n",
       "      <th>hashtag_count</th>\n",
       "      <th>mention_count</th>\n",
       "      <th>weblink_count</th>\n",
       "      <th>tweet_length</th>\n",
       "      <th>punct_count</th>\n",
       "    </tr>\n",
       "  </thead>\n",
       "  <tbody>\n",
       "    <tr>\n",
       "      <td>0</td>\n",
       "      <td>.@wesley83 I have a 3G iPhone. After 3 hrs tweeting at #RISE_Austin, it was dead! I need to upgrade. Plugin stations at #SXSW.</td>\n",
       "      <td>iPhone</td>\n",
       "      <td>0</td>\n",
       "      <td>['wesley83', '3g', 'iphone', '3', 'hr', 'tweeting', 'riseaustin', 'dead', 'need', 'upgrade', 'plugin', 'station', 'sxsw']</td>\n",
       "      <td>2</td>\n",
       "      <td>1</td>\n",
       "      <td>0</td>\n",
       "      <td>23</td>\n",
       "      <td>7</td>\n",
       "    </tr>\n",
       "    <tr>\n",
       "      <td>1</td>\n",
       "      <td>@jessedee Know about @fludapp ? Awesome iPad/iPhone app that you'll likely appreciate for its design. Also, they're giving free Ts at #SXSW</td>\n",
       "      <td>iPad or iPhone App</td>\n",
       "      <td>1</td>\n",
       "      <td>['jessedee', 'know', 'fludapp', 'awesome', 'ipadiphone', 'app', 'youll', 'likely', 'appreciate', 'design', 'also', 'theyre', 'giving', 'free', 't', 'sxsw']</td>\n",
       "      <td>1</td>\n",
       "      <td>2</td>\n",
       "      <td>0</td>\n",
       "      <td>21</td>\n",
       "      <td>6</td>\n",
       "    </tr>\n",
       "    <tr>\n",
       "      <td>2</td>\n",
       "      <td>@swonderlin Can not wait for #iPad 2 also. They should sale them down at #SXSW.</td>\n",
       "      <td>iPad</td>\n",
       "      <td>1</td>\n",
       "      <td>['swonderlin', 'wait', 'ipad', '2', 'also', 'sale', 'sxsw']</td>\n",
       "      <td>2</td>\n",
       "      <td>1</td>\n",
       "      <td>0</td>\n",
       "      <td>15</td>\n",
       "      <td>2</td>\n",
       "    </tr>\n",
       "    <tr>\n",
       "      <td>3</td>\n",
       "      <td>@sxsw I hope this year's festival isn't as crashy as this year's iPhone app. #sxsw</td>\n",
       "      <td>iPad or iPhone App</td>\n",
       "      <td>0</td>\n",
       "      <td>['sxsw', 'hope', 'year', 'festival', 'isnt', 'crashy', 'year', 'iphone', 'app', 'sxsw']</td>\n",
       "      <td>1</td>\n",
       "      <td>1</td>\n",
       "      <td>0</td>\n",
       "      <td>15</td>\n",
       "      <td>4</td>\n",
       "    </tr>\n",
       "    <tr>\n",
       "      <td>4</td>\n",
       "      <td>@sxtxstate great stuff on Fri #SXSW: Marissa Mayer (Google), Tim O'Reilly (tech books/conferences) &amp; Matt Mullenweg (Wordpress)</td>\n",
       "      <td>Google</td>\n",
       "      <td>1</td>\n",
       "      <td>['sxtxstate', 'great', 'stuff', 'fri', 'sxsw', 'marissa', 'mayer', 'google', 'tim', 'oreilly', 'tech', 'booksconferences', 'matt', 'mullenweg', 'wordpress']</td>\n",
       "      <td>1</td>\n",
       "      <td>1</td>\n",
       "      <td>0</td>\n",
       "      <td>16</td>\n",
       "      <td>11</td>\n",
       "    </tr>\n",
       "    <tr>\n",
       "      <td>5</td>\n",
       "      <td>@teachntech00 New iPad Apps For #SpeechTherapy And Communication Are Showcased At The #SXSW Conference http://ht.ly/49n4M #iear #edchat #asd</td>\n",
       "      <td>iPad</td>\n",
       "      <td>0</td>\n",
       "      <td>['teachntech00', 'new', 'ipad', 'apps', 'speechtherapy', 'communication', 'showcased', 'sxsw', 'conference', 'httphtly49n4m', 'iear', 'edchat', 'asd']</td>\n",
       "      <td>5</td>\n",
       "      <td>1</td>\n",
       "      <td>1</td>\n",
       "      <td>18</td>\n",
       "      <td>0</td>\n",
       "    </tr>\n",
       "    <tr>\n",
       "      <td>6</td>\n",
       "      <td>#SXSW is just starting, #CTIA is around the corner and #googleio is only a hop skip and a jump from there, good time to be an #android fan</td>\n",
       "      <td>Android</td>\n",
       "      <td>1</td>\n",
       "      <td>['sxsw', 'starting', 'ctia', 'around', 'corner', 'googleio', 'hop', 'skip', 'jump', 'good', 'time', 'android', 'fan']</td>\n",
       "      <td>4</td>\n",
       "      <td>0</td>\n",
       "      <td>0</td>\n",
       "      <td>28</td>\n",
       "      <td>2</td>\n",
       "    </tr>\n",
       "    <tr>\n",
       "      <td>7</td>\n",
       "      <td>Beautifully smart and simple idea RT @madebymany @thenextweb wrote about our #hollergram iPad app for #sxsw! http://bit.ly/ieaVOB</td>\n",
       "      <td>iPad or iPhone App</td>\n",
       "      <td>1</td>\n",
       "      <td>['beautifully', 'smart', 'simple', 'idea', 'rt', 'madebymany', 'thenextweb', 'wrote', 'hollergram', 'ipad', 'app', 'sxsw', 'httpbitlyieavob']</td>\n",
       "      <td>2</td>\n",
       "      <td>2</td>\n",
       "      <td>1</td>\n",
       "      <td>17</td>\n",
       "      <td>1</td>\n",
       "    </tr>\n",
       "    <tr>\n",
       "      <td>8</td>\n",
       "      <td>Counting down the days to #sxsw plus strong Canadian dollar means stock up on Apple gear</td>\n",
       "      <td>Apple</td>\n",
       "      <td>1</td>\n",
       "      <td>['counting', 'day', 'sxsw', 'plus', 'strong', 'canadian', 'dollar', 'mean', 'stock', 'apple', 'gear']</td>\n",
       "      <td>1</td>\n",
       "      <td>0</td>\n",
       "      <td>0</td>\n",
       "      <td>16</td>\n",
       "      <td>0</td>\n",
       "    </tr>\n",
       "    <tr>\n",
       "      <td>9</td>\n",
       "      <td>Excited to meet the @samsungmobileus at #sxsw so I can show them my Sprint Galaxy S still running Android 2.1. #fail</td>\n",
       "      <td>Android</td>\n",
       "      <td>1</td>\n",
       "      <td>['excited', 'meet', 'samsungmobileus', 'sxsw', 'show', 'sprint', 'galaxy', 'still', 'running', 'android', '21', 'fail']</td>\n",
       "      <td>2</td>\n",
       "      <td>1</td>\n",
       "      <td>0</td>\n",
       "      <td>21</td>\n",
       "      <td>2</td>\n",
       "    </tr>\n",
       "    <tr>\n",
       "      <td>10</td>\n",
       "      <td>Find &amp; Start Impromptu Parties at #SXSW With @HurricaneParty http://bit.ly/gVLrIn I can't wait til the Android app comes out.</td>\n",
       "      <td>Android App</td>\n",
       "      <td>1</td>\n",
       "      <td>['find', 'start', 'impromptu', 'party', 'sxsw', 'hurricaneparty', 'httpbitlygvlrin', 'cant', 'wait', 'til', 'android', 'app', 'come']</td>\n",
       "      <td>1</td>\n",
       "      <td>1</td>\n",
       "      <td>1</td>\n",
       "      <td>18</td>\n",
       "      <td>3</td>\n",
       "    </tr>\n",
       "    <tr>\n",
       "      <td>11</td>\n",
       "      <td>Foursquare ups the game, just in time for #SXSW http://j.mp/grN7pK) - Still prefer @Gowalla by far, best looking Android app to date.</td>\n",
       "      <td>Android App</td>\n",
       "      <td>1</td>\n",
       "      <td>['foursquare', 'ups', 'game', 'time', 'sxsw', 'httpjmpgrn7pk', 'still', 'prefer', 'gowalla', 'far', 'best', 'looking', 'android', 'app', 'date']</td>\n",
       "      <td>1</td>\n",
       "      <td>1</td>\n",
       "      <td>1</td>\n",
       "      <td>21</td>\n",
       "      <td>4</td>\n",
       "    </tr>\n",
       "    <tr>\n",
       "      <td>12</td>\n",
       "      <td>Gotta love this #SXSW Google Calendar featuring top parties/ show cases to check out. RT @hamsandwich via @ischafer =&gt;http://bit.ly/aXZwxB</td>\n",
       "      <td>Other Google product or service</td>\n",
       "      <td>1</td>\n",
       "      <td>['gotta', 'love', 'sxsw', 'google', 'calendar', 'featuring', 'top', 'party', 'show', 'case', 'check', 'rt', 'hamsandwich', 'via', 'ischafer', 'httpbitlyaxzwxb']</td>\n",
       "      <td>1</td>\n",
       "      <td>2</td>\n",
       "      <td>1</td>\n",
       "      <td>19</td>\n",
       "      <td>2</td>\n",
       "    </tr>\n",
       "    <tr>\n",
       "      <td>13</td>\n",
       "      <td>Great #sxsw ipad app from @madebymany: http://tinyurl.com/4nqv92l</td>\n",
       "      <td>iPad or iPhone App</td>\n",
       "      <td>1</td>\n",
       "      <td>['great', 'sxsw', 'ipad', 'app', 'madebymany', 'httptinyurlcom4nqv92l']</td>\n",
       "      <td>1</td>\n",
       "      <td>1</td>\n",
       "      <td>1</td>\n",
       "      <td>7</td>\n",
       "      <td>1</td>\n",
       "    </tr>\n",
       "    <tr>\n",
       "      <td>14</td>\n",
       "      <td>haha, awesomely rad iPad app by @madebymany http://bit.ly/hTdFim #hollergram #sxsw</td>\n",
       "      <td>iPad or iPhone App</td>\n",
       "      <td>1</td>\n",
       "      <td>['haha', 'awesomely', 'rad', 'ipad', 'app', 'madebymany', 'httpbitlyhtdfim', 'hollergram', 'sxsw']</td>\n",
       "      <td>2</td>\n",
       "      <td>1</td>\n",
       "      <td>1</td>\n",
       "      <td>10</td>\n",
       "      <td>1</td>\n",
       "    </tr>\n",
       "    <tr>\n",
       "      <td>15</td>\n",
       "      <td>Holler Gram for iPad on the iTunes App Store - http://t.co/kfN3f5Q (via @marc_is_ken) #sxsw</td>\n",
       "      <td>iPad</td>\n",
       "      <td>0</td>\n",
       "      <td>['holler', 'gram', 'ipad', 'itunes', 'app', 'store', 'httptcokfn3f5q', 'via', 'marcisken', 'sxsw']</td>\n",
       "      <td>1</td>\n",
       "      <td>1</td>\n",
       "      <td>1</td>\n",
       "      <td>13</td>\n",
       "      <td>5</td>\n",
       "    </tr>\n",
       "    <tr>\n",
       "      <td>16</td>\n",
       "      <td>I just noticed DST is coming this weekend. How many iPhone users will be an hour late at SXSW come Sunday morning? #SXSW #iPhone</td>\n",
       "      <td>iPhone</td>\n",
       "      <td>0</td>\n",
       "      <td>['noticed', 'dst', 'coming', 'weekend', 'many', 'iphone', 'user', 'hour', 'late', 'sxsw', 'come', 'sunday', 'morning', 'sxsw', 'iphone']</td>\n",
       "      <td>2</td>\n",
       "      <td>0</td>\n",
       "      <td>0</td>\n",
       "      <td>24</td>\n",
       "      <td>2</td>\n",
       "    </tr>\n",
       "    <tr>\n",
       "      <td>17</td>\n",
       "      <td>Just added my #SXSW flights to @planely. Matching people on planes/airports. Also downloaded the @KLM iPhone app, nicely done.</td>\n",
       "      <td>iPad or iPhone App</td>\n",
       "      <td>1</td>\n",
       "      <td>['added', 'sxsw', 'flight', 'planely', 'matching', 'people', 'planesairports', 'also', 'downloaded', 'klm', 'iphone', 'app', 'nicely', 'done']</td>\n",
       "      <td>1</td>\n",
       "      <td>2</td>\n",
       "      <td>0</td>\n",
       "      <td>19</td>\n",
       "      <td>5</td>\n",
       "    </tr>\n",
       "    <tr>\n",
       "      <td>18</td>\n",
       "      <td>Must have #SXSW app! RT @malbonster: Lovely review from Forbes for our SXSW iPad app Holler Gram - http://t.co/g4GZypV</td>\n",
       "      <td>iPad or iPhone App</td>\n",
       "      <td>1</td>\n",
       "      <td>['must', 'sxsw', 'app', 'rt', 'malbonster', 'lovely', 'review', 'forbes', 'sxsw', 'ipad', 'app', 'holler', 'gram', 'httptcog4gzypv']</td>\n",
       "      <td>1</td>\n",
       "      <td>1</td>\n",
       "      <td>1</td>\n",
       "      <td>18</td>\n",
       "      <td>3</td>\n",
       "    </tr>\n",
       "    <tr>\n",
       "      <td>19</td>\n",
       "      <td>Need to buy an iPad2 while I'm in Austin at #sxsw. Not sure if I'll need to Q up at an Austin Apple store?</td>\n",
       "      <td>iPad</td>\n",
       "      <td>1</td>\n",
       "      <td>['need', 'buy', 'ipad2', 'im', 'austin', 'sxsw', 'sure', 'ill', 'need', 'q', 'austin', 'apple', 'store']</td>\n",
       "      <td>1</td>\n",
       "      <td>0</td>\n",
       "      <td>0</td>\n",
       "      <td>24</td>\n",
       "      <td>4</td>\n",
       "    </tr>\n",
       "  </tbody>\n",
       "</table>\n",
       "</div>"
      ],
      "text/plain": [
       "                                                                                                                                           tweet  \\\n",
       "0                 .@wesley83 I have a 3G iPhone. After 3 hrs tweeting at #RISE_Austin, it was dead! I need to upgrade. Plugin stations at #SXSW.   \n",
       "1    @jessedee Know about @fludapp ? Awesome iPad/iPhone app that you'll likely appreciate for its design. Also, they're giving free Ts at #SXSW   \n",
       "2                                                                @swonderlin Can not wait for #iPad 2 also. They should sale them down at #SXSW.   \n",
       "3                                                             @sxsw I hope this year's festival isn't as crashy as this year's iPhone app. #sxsw   \n",
       "4                @sxtxstate great stuff on Fri #SXSW: Marissa Mayer (Google), Tim O'Reilly (tech books/conferences) & Matt Mullenweg (Wordpress)   \n",
       "5   @teachntech00 New iPad Apps For #SpeechTherapy And Communication Are Showcased At The #SXSW Conference http://ht.ly/49n4M #iear #edchat #asd   \n",
       "6     #SXSW is just starting, #CTIA is around the corner and #googleio is only a hop skip and a jump from there, good time to be an #android fan   \n",
       "7              Beautifully smart and simple idea RT @madebymany @thenextweb wrote about our #hollergram iPad app for #sxsw! http://bit.ly/ieaVOB   \n",
       "8                                                       Counting down the days to #sxsw plus strong Canadian dollar means stock up on Apple gear   \n",
       "9                           Excited to meet the @samsungmobileus at #sxsw so I can show them my Sprint Galaxy S still running Android 2.1. #fail   \n",
       "10                 Find & Start Impromptu Parties at #SXSW With @HurricaneParty http://bit.ly/gVLrIn I can't wait til the Android app comes out.   \n",
       "11         Foursquare ups the game, just in time for #SXSW http://j.mp/grN7pK) - Still prefer @Gowalla by far, best looking Android app to date.   \n",
       "12    Gotta love this #SXSW Google Calendar featuring top parties/ show cases to check out. RT @hamsandwich via @ischafer =>http://bit.ly/aXZwxB   \n",
       "13                                                                             Great #sxsw ipad app from @madebymany: http://tinyurl.com/4nqv92l   \n",
       "14                                                            haha, awesomely rad iPad app by @madebymany http://bit.ly/hTdFim #hollergram #sxsw   \n",
       "15                                                   Holler Gram for iPad on the iTunes App Store - http://t.co/kfN3f5Q (via @marc_is_ken) #sxsw   \n",
       "16              I just noticed DST is coming this weekend. How many iPhone users will be an hour late at SXSW come Sunday morning? #SXSW #iPhone   \n",
       "17                Just added my #SXSW flights to @planely. Matching people on planes/airports. Also downloaded the @KLM iPhone app, nicely done.   \n",
       "18                        Must have #SXSW app! RT @malbonster: Lovely review from Forbes for our SXSW iPad app Holler Gram - http://t.co/g4GZypV   \n",
       "19                                    Need to buy an iPad2 while I'm in Austin at #sxsw. Not sure if I'll need to Q up at an Austin Apple store?   \n",
       "\n",
       "                      brand_product  sentiment  \\\n",
       "0                            iPhone          0   \n",
       "1                iPad or iPhone App          1   \n",
       "2                              iPad          1   \n",
       "3                iPad or iPhone App          0   \n",
       "4                            Google          1   \n",
       "5                              iPad          0   \n",
       "6                           Android          1   \n",
       "7                iPad or iPhone App          1   \n",
       "8                             Apple          1   \n",
       "9                           Android          1   \n",
       "10                      Android App          1   \n",
       "11                      Android App          1   \n",
       "12  Other Google product or service          1   \n",
       "13               iPad or iPhone App          1   \n",
       "14               iPad or iPhone App          1   \n",
       "15                             iPad          0   \n",
       "16                           iPhone          0   \n",
       "17               iPad or iPhone App          1   \n",
       "18               iPad or iPhone App          1   \n",
       "19                             iPad          1   \n",
       "\n",
       "                                                                                                                                                        tweet_tokens  \\\n",
       "0                                          ['wesley83', '3g', 'iphone', '3', 'hr', 'tweeting', 'riseaustin', 'dead', 'need', 'upgrade', 'plugin', 'station', 'sxsw']   \n",
       "1        ['jessedee', 'know', 'fludapp', 'awesome', 'ipadiphone', 'app', 'youll', 'likely', 'appreciate', 'design', 'also', 'theyre', 'giving', 'free', 't', 'sxsw']   \n",
       "2                                                                                                        ['swonderlin', 'wait', 'ipad', '2', 'also', 'sale', 'sxsw']   \n",
       "3                                                                            ['sxsw', 'hope', 'year', 'festival', 'isnt', 'crashy', 'year', 'iphone', 'app', 'sxsw']   \n",
       "4       ['sxtxstate', 'great', 'stuff', 'fri', 'sxsw', 'marissa', 'mayer', 'google', 'tim', 'oreilly', 'tech', 'booksconferences', 'matt', 'mullenweg', 'wordpress']   \n",
       "5             ['teachntech00', 'new', 'ipad', 'apps', 'speechtherapy', 'communication', 'showcased', 'sxsw', 'conference', 'httphtly49n4m', 'iear', 'edchat', 'asd']   \n",
       "6                                              ['sxsw', 'starting', 'ctia', 'around', 'corner', 'googleio', 'hop', 'skip', 'jump', 'good', 'time', 'android', 'fan']   \n",
       "7                      ['beautifully', 'smart', 'simple', 'idea', 'rt', 'madebymany', 'thenextweb', 'wrote', 'hollergram', 'ipad', 'app', 'sxsw', 'httpbitlyieavob']   \n",
       "8                                                              ['counting', 'day', 'sxsw', 'plus', 'strong', 'canadian', 'dollar', 'mean', 'stock', 'apple', 'gear']   \n",
       "9                                            ['excited', 'meet', 'samsungmobileus', 'sxsw', 'show', 'sprint', 'galaxy', 'still', 'running', 'android', '21', 'fail']   \n",
       "10                             ['find', 'start', 'impromptu', 'party', 'sxsw', 'hurricaneparty', 'httpbitlygvlrin', 'cant', 'wait', 'til', 'android', 'app', 'come']   \n",
       "11                  ['foursquare', 'ups', 'game', 'time', 'sxsw', 'httpjmpgrn7pk', 'still', 'prefer', 'gowalla', 'far', 'best', 'looking', 'android', 'app', 'date']   \n",
       "12  ['gotta', 'love', 'sxsw', 'google', 'calendar', 'featuring', 'top', 'party', 'show', 'case', 'check', 'rt', 'hamsandwich', 'via', 'ischafer', 'httpbitlyaxzwxb']   \n",
       "13                                                                                           ['great', 'sxsw', 'ipad', 'app', 'madebymany', 'httptinyurlcom4nqv92l']   \n",
       "14                                                                ['haha', 'awesomely', 'rad', 'ipad', 'app', 'madebymany', 'httpbitlyhtdfim', 'hollergram', 'sxsw']   \n",
       "15                                                                ['holler', 'gram', 'ipad', 'itunes', 'app', 'store', 'httptcokfn3f5q', 'via', 'marcisken', 'sxsw']   \n",
       "16                          ['noticed', 'dst', 'coming', 'weekend', 'many', 'iphone', 'user', 'hour', 'late', 'sxsw', 'come', 'sunday', 'morning', 'sxsw', 'iphone']   \n",
       "17                    ['added', 'sxsw', 'flight', 'planely', 'matching', 'people', 'planesairports', 'also', 'downloaded', 'klm', 'iphone', 'app', 'nicely', 'done']   \n",
       "18                              ['must', 'sxsw', 'app', 'rt', 'malbonster', 'lovely', 'review', 'forbes', 'sxsw', 'ipad', 'app', 'holler', 'gram', 'httptcog4gzypv']   \n",
       "19                                                          ['need', 'buy', 'ipad2', 'im', 'austin', 'sxsw', 'sure', 'ill', 'need', 'q', 'austin', 'apple', 'store']   \n",
       "\n",
       "    hashtag_count  mention_count  weblink_count  tweet_length  punct_count  \n",
       "0               2              1              0            23            7  \n",
       "1               1              2              0            21            6  \n",
       "2               2              1              0            15            2  \n",
       "3               1              1              0            15            4  \n",
       "4               1              1              0            16           11  \n",
       "5               5              1              1            18            0  \n",
       "6               4              0              0            28            2  \n",
       "7               2              2              1            17            1  \n",
       "8               1              0              0            16            0  \n",
       "9               2              1              0            21            2  \n",
       "10              1              1              1            18            3  \n",
       "11              1              1              1            21            4  \n",
       "12              1              2              1            19            2  \n",
       "13              1              1              1             7            1  \n",
       "14              2              1              1            10            1  \n",
       "15              1              1              1            13            5  \n",
       "16              2              0              0            24            2  \n",
       "17              1              2              0            19            5  \n",
       "18              1              1              1            18            3  \n",
       "19              1              0              0            24            4  "
      ]
     },
     "execution_count": 3,
     "metadata": {},
     "output_type": "execute_result"
    }
   ],
   "source": [
    "pd.set_option('max_columns', 10)\n",
    "df_binary.head(20)"
   ]
  },
  {
   "cell_type": "markdown",
   "metadata": {},
   "source": [
    "Let's take a look at the value counts for weblinks and punctuation count."
   ]
  },
  {
   "cell_type": "code",
   "execution_count": 4,
   "metadata": {
    "ExecuteTime": {
     "end_time": "2021-07-10T21:18:35.358804Z",
     "start_time": "2021-07-10T21:18:35.346837Z"
    }
   },
   "outputs": [
    {
     "data": {
      "text/plain": [
       "0    4769\n",
       "1    3466\n",
       "2      91\n",
       "3       4\n",
       "Name: weblink_count, dtype: int64"
      ]
     },
     "execution_count": 4,
     "metadata": {},
     "output_type": "execute_result"
    }
   ],
   "source": [
    "df_binary['weblink_count'].value_counts()"
   ]
  },
  {
   "cell_type": "code",
   "execution_count": 5,
   "metadata": {
    "ExecuteTime": {
     "end_time": "2021-07-10T21:18:36.101793Z",
     "start_time": "2021-07-10T21:18:36.089285Z"
    },
    "scrolled": true
   },
   "outputs": [
    {
     "data": {
      "text/plain": [
       "2     1607\n",
       "3     1454\n",
       "1     1324\n",
       "4     1111\n",
       "5      805\n",
       "0      624\n",
       "6      609\n",
       "7      345\n",
       "8      172\n",
       "9      128\n",
       "10      71\n",
       "11      33\n",
       "12      18\n",
       "14       8\n",
       "13       7\n",
       "15       5\n",
       "16       3\n",
       "22       2\n",
       "18       1\n",
       "20       1\n",
       "21       1\n",
       "19       1\n",
       "Name: punct_count, dtype: int64"
      ]
     },
     "execution_count": 5,
     "metadata": {},
     "output_type": "execute_result"
    }
   ],
   "source": [
    "df_binary['punct_count'].value_counts()"
   ]
  },
  {
   "cell_type": "markdown",
   "metadata": {},
   "source": [
    "We saw in the `EDA_and_modeling` notebook that the punctuation count did not have much variance between sentiments. This means that by introducting this feature we have likely introduced more noise in the data that makes it more difficult to predict.  When we look at the value counts for the number of weblinks in a tweet, we see that more than half of the tweets have 0 weblinks. It's also the case that some tweets have an actual URL while other tweets had a URL replaced with the word '{link}'. Given that we can't immediately decipher what each of those links reference, it's difficult to determine whether it adds or detracts from the sentiment of the tweet. This may be another variable that only introduces more noise.  "
   ]
  },
  {
   "cell_type": "code",
   "execution_count": 6,
   "metadata": {
    "ExecuteTime": {
     "end_time": "2021-07-10T21:18:41.671243Z",
     "start_time": "2021-07-10T21:18:41.662283Z"
    }
   },
   "outputs": [
    {
     "data": {
      "text/plain": [
       "0    5341\n",
       "1    2989\n",
       "Name: sentiment, dtype: int64"
      ]
     },
     "execution_count": 6,
     "metadata": {},
     "output_type": "execute_result"
    }
   ],
   "source": [
    "df_binary.sentiment.value_counts()"
   ]
  },
  {
   "cell_type": "code",
   "execution_count": 8,
   "metadata": {
    "ExecuteTime": {
     "end_time": "2021-07-10T21:21:24.040359Z",
     "start_time": "2021-07-10T21:21:23.848426Z"
    }
   },
   "outputs": [],
   "source": [
    "###create test and training sets with binary categories\n",
    "\n",
    "tfidf_vec_bin = TfidfVectorizer()\n",
    "X_train, X_test, y_train, y_test = train_test_split(df_binary.drop(labels=['sentiment'], axis=1), \n",
    "                                                    df_binary['sentiment'], \n",
    "                                                    test_size=0.3, stratify=df_binary['sentiment'],\n",
    "                                                    random_state=123)\n",
    "\n",
    "\n",
    "###Create sparse matrices using tokenized tweets\n",
    "X_train_sparse = tfidf_vec_bin.fit_transform(X_train['tweet_tokens'])\n",
    "X_test_sparse = tfidf_vec_bin.transform(X_test['tweet_tokens'])"
   ]
  },
  {
   "cell_type": "code",
   "execution_count": 10,
   "metadata": {
    "ExecuteTime": {
     "end_time": "2021-07-10T21:37:02.749955Z",
     "start_time": "2021-07-10T21:37:02.594718Z"
    }
   },
   "outputs": [],
   "source": [
    "#Log transform tweet length and then standard scale remaining added features\n",
    "X_train['tweet_length'] = X_train['tweet_length'].map(lambda x: np.log(x))\n",
    "X_test['tweet_length'] = X_test['tweet_length'].map(lambda x: np.log(x))\n",
    "\n",
    "scaler = StandardScaler()\n",
    "train_af_scaled = pd.DataFrame(scaler.fit_transform(X_train[['hashtag_count', 'mention_count', \n",
    "                                                             'tweet_length']]))\n",
    "train_af_scaled.columns = ['hashtags_count_scaled', 'mentions_count_scaled', 'tweet_len_log_scaled']\n",
    "\n",
    "test_af_scaled = pd.DataFrame(scaler.transform(X_test[['hashtag_count', 'mention_count', 'tweet_length']]))\n",
    "test_af_scaled.columns = ['hashtags_count_scaled', 'mentions_count_scaled', 'tweet_len_log_scaled']\n"
   ]
  },
  {
   "cell_type": "code",
   "execution_count": 13,
   "metadata": {
    "ExecuteTime": {
     "end_time": "2021-01-23T01:44:15.494162Z",
     "start_time": "2021-01-23T01:44:15.468197Z"
    }
   },
   "outputs": [],
   "source": []
  },
  {
   "cell_type": "code",
   "execution_count": 9,
   "metadata": {
    "ExecuteTime": {
     "end_time": "2021-01-23T01:44:08.544269Z",
     "start_time": "2021-01-23T01:44:07.461731Z"
    }
   },
   "outputs": [],
   "source": [
    "X_bin_af = pd.concat([added_feats, df_binary], axis=1)"
   ]
  },
  {
   "cell_type": "code",
   "execution_count": 11,
   "metadata": {
    "ExecuteTime": {
     "end_time": "2021-01-23T01:44:10.803209Z",
     "start_time": "2021-01-23T01:44:10.465188Z"
    }
   },
   "outputs": [],
   "source": [
    "#train test split for just TF-IDF matrix\n",
    "y_binary = df_binary['sentiment']\n",
    "\n",
    "X_train_bin, X_test_bin, y_train_bin, y_test_bin = train_test_split(X_tfidf_df_bin, y_binary, test_size=0.3, \n",
    "                                                                    stratify=y_binary, random_state=123)"
   ]
  },
  {
   "cell_type": "code",
   "execution_count": 12,
   "metadata": {
    "ExecuteTime": {
     "end_time": "2021-01-23T01:44:14.791313Z",
     "start_time": "2021-01-23T01:44:13.793686Z"
    }
   },
   "outputs": [],
   "source": [
    "#train test split for added features matrix\n",
    "X_train_bin_af, X_test_bin_af, y_train_bin_af, y_test_bin_af = train_test_split(X_bin_af, y_binary, \n",
    "                                                                                test_size=0.3, \n",
    "                                                                                stratify=y_binary, \n",
    "                                                                                random_state=123)"
   ]
  },
  {
   "cell_type": "code",
   "execution_count": 14,
   "metadata": {
    "ExecuteTime": {
     "end_time": "2021-01-23T01:44:18.827024Z",
     "start_time": "2021-01-23T01:44:16.845577Z"
    },
    "scrolled": true
   },
   "outputs": [],
   "source": [
    "#Resetting indices so that scaled features can be added back to training TF-IDF matrix\n",
    "X_train_af_drop = X_train_bin_af.drop(columns = ['hashtag_count', 'mention_count', 'tweet_length'])\n",
    "d = X_train_af_drop.reset_index()\n",
    "e = train_af_transformed\n",
    "f = pd.concat([d, e], axis=1)\n",
    "f.set_index(d['level_0'].values, inplace=True)\n",
    "X_train_bin_af_scaled = f\n",
    "X_train_bin_af_scaled.drop(columns=['level_0'], inplace=True)"
   ]
  },
  {
   "cell_type": "code",
   "execution_count": 15,
   "metadata": {
    "ExecuteTime": {
     "end_time": "2021-01-23T01:44:23.243856Z",
     "start_time": "2021-01-23T01:44:22.549393Z"
    }
   },
   "outputs": [],
   "source": [
    "#Reseeting indices so that scaled features can be added back to test TF-IDF matrix\n",
    "X_test_af_drop = X_test_bin_af.drop(columns = ['hashtag_count', 'mention_count', 'tweet_length'])\n",
    "a = X_test_af_drop.reset_index()\n",
    "b = test_af_transformed\n",
    "c = pd.concat([b, a], axis=1)\n",
    "c.set_index(a['level_0'].values, inplace=True)\n",
    "X_test_bin_af_scaled = c\n",
    "X_test_bin_af_scaled.drop(columns=['level_0'], inplace=True)"
   ]
  },
  {
   "cell_type": "markdown",
   "metadata": {},
   "source": [
    "## Modeling"
   ]
  },
  {
   "cell_type": "markdown",
   "metadata": {},
   "source": [
    "For modeling purposes, we will examine and evaluate the same three algorithms as before:\n",
    "- Multinomial Bayes\n",
    "- Random Forests\n",
    "- Support Vector Machines"
   ]
  },
  {
   "cell_type": "markdown",
   "metadata": {},
   "source": [
    "### Multinomial Naive Bayes"
   ]
  },
  {
   "cell_type": "code",
   "execution_count": 20,
   "metadata": {
    "ExecuteTime": {
     "end_time": "2021-01-23T02:05:38.200146Z",
     "start_time": "2021-01-23T02:05:37.770602Z"
    }
   },
   "outputs": [
    {
     "data": {
      "text/plain": [
       "MultinomialNB()"
      ]
     },
     "execution_count": 20,
     "metadata": {},
     "output_type": "execute_result"
    }
   ],
   "source": [
    "mnb = MultinomialNB()\n",
    "mnb.fit(X_train_bin, y_train_bin)"
   ]
  },
  {
   "cell_type": "code",
   "execution_count": 22,
   "metadata": {
    "ExecuteTime": {
     "end_time": "2021-01-23T02:06:13.464947Z",
     "start_time": "2021-01-23T02:06:05.055145Z"
    }
   },
   "outputs": [],
   "source": [
    "mnb_cv_mean = np.mean(cross_val_score(mnb, X_train_bin, y_train_bin, cv=5, scoring='accuracy', n_jobs=-1))"
   ]
  },
  {
   "cell_type": "code",
   "execution_count": 23,
   "metadata": {
    "ExecuteTime": {
     "end_time": "2021-01-23T02:06:39.944454Z",
     "start_time": "2021-01-23T02:06:39.652802Z"
    }
   },
   "outputs": [
    {
     "name": "stdout",
     "output_type": "stream",
     "text": [
      "Training Accuracy: 0.7849425484479506\n",
      "Mean Cross Validation Training Accuracy: 0.6858160594155163\n",
      "Testing Accuracy: 0.687875150060024\n"
     ]
    }
   ],
   "source": [
    "print(f\"Training Accuracy: {mnb.score(X_train_bin, y_train_bin)}\")\n",
    "print(f\"Mean Cross Validation Training Accuracy: {mnb_cv_mean}\")\n",
    "print(f\"Testing Accuracy: {mnb.score(X_test_bin, y_test_bin)}\")"
   ]
  },
  {
   "cell_type": "code",
   "execution_count": 24,
   "metadata": {
    "ExecuteTime": {
     "end_time": "2021-01-23T02:17:25.263758Z",
     "start_time": "2021-01-23T02:17:25.102630Z"
    }
   },
   "outputs": [
    {
     "data": {
      "text/plain": [
       "MultinomialNB(alpha=2, fit_prior=False)"
      ]
     },
     "execution_count": 24,
     "metadata": {},
     "output_type": "execute_result"
    }
   ],
   "source": [
    "mnb_2 = MultinomialNB(alpha=2, fit_prior=False)\n",
    "mnb_2.fit(X_train_bin, y_train_bin)"
   ]
  },
  {
   "cell_type": "code",
   "execution_count": 25,
   "metadata": {
    "ExecuteTime": {
     "end_time": "2021-01-23T02:17:34.223800Z",
     "start_time": "2021-01-23T02:17:28.855734Z"
    }
   },
   "outputs": [],
   "source": [
    "mnb2_cv_mean = np.mean(cross_val_score(mnb_2, X_train_bin, y_train_bin, cv=5, scoring='accuracy', n_jobs=-1))"
   ]
  },
  {
   "cell_type": "code",
   "execution_count": 26,
   "metadata": {
    "ExecuteTime": {
     "end_time": "2021-01-23T02:17:39.141464Z",
     "start_time": "2021-01-23T02:17:38.922380Z"
    }
   },
   "outputs": [
    {
     "name": "stdout",
     "output_type": "stream",
     "text": [
      "Training Accuracy: 0.8188989881666953\n",
      "Mean Cross Validation Training Accuracy: 0.6854731532230683\n",
      "Testing Accuracy: 0.6994797919167667\n"
     ]
    }
   ],
   "source": [
    "print(f\"Training Accuracy: {mnb_2.score(X_train_bin, y_train_bin)}\")\n",
    "print(f\"Mean Cross Validation Training Accuracy: {mnb2_cv_mean}\")\n",
    "print(f\"Testing Accuracy: {mnb_2.score(X_test_bin, y_test_bin)}\")"
   ]
  },
  {
   "cell_type": "code",
   "execution_count": 60,
   "metadata": {
    "ExecuteTime": {
     "end_time": "2021-01-23T07:00:15.042924Z",
     "start_time": "2021-01-23T07:00:14.904388Z"
    }
   },
   "outputs": [
    {
     "name": "stdout",
     "output_type": "stream",
     "text": [
      "              precision    recall  f1-score   support\n",
      "\n",
      "           0       0.72      0.86      0.79      1602\n",
      "           1       0.62      0.42      0.50       897\n",
      "\n",
      "    accuracy                           0.70      2499\n",
      "   macro avg       0.67      0.64      0.64      2499\n",
      "weighted avg       0.69      0.70      0.68      2499\n",
      "\n"
     ]
    }
   ],
   "source": [
    "print(classification_report(y_test_bin, mnb_2.predict(X_test_bin)))"
   ]
  },
  {
   "cell_type": "code",
   "execution_count": 61,
   "metadata": {
    "ExecuteTime": {
     "end_time": "2021-01-23T07:01:26.544769Z",
     "start_time": "2021-01-23T07:01:26.034522Z"
    }
   },
   "outputs": [
    {
     "data": {
      "text/plain": [
       "<sklearn.metrics._plot.confusion_matrix.ConfusionMatrixDisplay at 0x7fba1b884908>"
      ]
     },
     "execution_count": 61,
     "metadata": {},
     "output_type": "execute_result"
    },
    {
     "data": {
      "image/png": "[encoded data removed]",
      "text/plain": [
       "<Figure size 432x432 with 2 Axes>"
      ]
     },
     "metadata": {
      "needs_background": "light"
     },
     "output_type": "display_data"
    }
   ],
   "source": [
    "fig, ax = plt.subplots(figsize=(6, 6))\n",
    "plt.grid(False)\n",
    "plot_confusion_matrix(mnb_2, X_test_bin, y_test_bin, cmap='Blues', ax=ax)"
   ]
  },
  {
   "cell_type": "code",
   "execution_count": 28,
   "metadata": {
    "ExecuteTime": {
     "end_time": "2021-01-23T02:24:33.293876Z",
     "start_time": "2021-01-23T02:24:32.847217Z"
    }
   },
   "outputs": [
    {
     "data": {
      "text/plain": [
       "MultinomialNB()"
      ]
     },
     "execution_count": 28,
     "metadata": {},
     "output_type": "execute_result"
    }
   ],
   "source": [
    "mnb_af = MultinomialNB()\n",
    "mnb_af.fit(X_train_bin_af, y_train_bin_af)"
   ]
  },
  {
   "cell_type": "code",
   "execution_count": 29,
   "metadata": {
    "ExecuteTime": {
     "end_time": "2021-01-23T02:25:16.593900Z",
     "start_time": "2021-01-23T02:25:05.657959Z"
    }
   },
   "outputs": [],
   "source": [
    "mnb_af_cv_mean = np.mean(cross_val_score(mnb_af, X_train_bin_af, \n",
    "                                         y_train_bin_af, cv=5, scoring='accuracy', n_jobs=-1))"
   ]
  },
  {
   "cell_type": "code",
   "execution_count": 31,
   "metadata": {
    "ExecuteTime": {
     "end_time": "2021-01-23T02:26:29.982985Z",
     "start_time": "2021-01-23T02:26:29.577859Z"
    }
   },
   "outputs": [
    {
     "name": "stdout",
     "output_type": "stream",
     "text": [
      "Training Accuracy: 0.7208026067569885\n",
      "Mean Cross Validation Training Accuracy: 0.6854731532230683\n",
      "Testing Accuracy: 0.6718687474989996\n"
     ]
    }
   ],
   "source": [
    "print(f\"Training Accuracy: {mnb_af.score(X_train_bin_af, y_train_bin_af)}\")\n",
    "print(f\"Mean Cross Validation Training Accuracy: {mnb2_cv_mean}\")\n",
    "print(f\"Testing Accuracy: {mnb_af.score(X_test_bin_af, y_test_bin_af)}\")"
   ]
  },
  {
   "cell_type": "markdown",
   "metadata": {},
   "source": [
    "For the Naive Bayes algorithm, we see a noticeable improvement for binary classification compared to the models that were trained on 3 classes. The Naive Bayes model with default hyperparameters also significantly reduced overfitting. Using the optimized hyperparameters from the GridSearch model, we increased the accuracy by 1% for the binary problem.\n",
    "\n",
    "The Naive Bayes model seems to be very good at predicting neutral/negative tweets, but struggles with positive tweets. The added features here decreased accuracy by 1% so it seems that even with scaling and log transfomations the added features end up just introducing noise into the dataset."
   ]
  },
  {
   "cell_type": "markdown",
   "metadata": {},
   "source": [
    "### Random Forests"
   ]
  },
  {
   "cell_type": "code",
   "execution_count": 32,
   "metadata": {
    "ExecuteTime": {
     "end_time": "2021-01-23T02:37:57.593589Z",
     "start_time": "2021-01-23T02:37:14.806671Z"
    }
   },
   "outputs": [
    {
     "data": {
      "text/plain": [
       "RandomForestClassifier()"
      ]
     },
     "execution_count": 32,
     "metadata": {},
     "output_type": "execute_result"
    }
   ],
   "source": [
    "rfc = RandomForestClassifier()\n",
    "rfc.fit(X_train_bin, y_train_bin)"
   ]
  },
  {
   "cell_type": "code",
   "execution_count": 34,
   "metadata": {
    "ExecuteTime": {
     "end_time": "2021-01-23T02:40:45.298991Z",
     "start_time": "2021-01-23T02:39:08.862549Z"
    }
   },
   "outputs": [],
   "source": [
    "rfc_cv_mean = np.mean(cross_val_score(rfc, X_train_bin, y_train_bin, cv=5, scoring='accuracy', n_jobs=-1))"
   ]
  },
  {
   "cell_type": "code",
   "execution_count": 35,
   "metadata": {
    "ExecuteTime": {
     "end_time": "2021-01-23T02:41:23.948897Z",
     "start_time": "2021-01-23T02:41:22.557188Z"
    }
   },
   "outputs": [
    {
     "name": "stdout",
     "output_type": "stream",
     "text": [
      "Training Accuracy: 0.9945120905505059\n",
      "Mean Cross Validation Training Accuracy: 0.7168566393429371\n",
      "Testing Accuracy: 0.7054821928771509\n"
     ]
    }
   ],
   "source": [
    "print(f\"Training Accuracy: {rfc.score(X_train_bin, y_train_bin)}\")\n",
    "print(f\"Mean Cross Validation Training Accuracy: {rfc_cv_mean}\")\n",
    "print(f\"Testing Accuracy: {rfc.score(X_test_bin, y_test_bin)}\")"
   ]
  },
  {
   "cell_type": "code",
   "execution_count": 62,
   "metadata": {
    "ExecuteTime": {
     "end_time": "2021-01-23T07:02:50.701823Z",
     "start_time": "2021-01-23T07:02:50.176337Z"
    }
   },
   "outputs": [
    {
     "name": "stdout",
     "output_type": "stream",
     "text": [
      "              precision    recall  f1-score   support\n",
      "\n",
      "           0       0.72      0.89      0.79      1602\n",
      "           1       0.65      0.38      0.48       897\n",
      "\n",
      "    accuracy                           0.71      2499\n",
      "   macro avg       0.69      0.63      0.64      2499\n",
      "weighted avg       0.70      0.71      0.68      2499\n",
      "\n"
     ]
    }
   ],
   "source": [
    "print(classification_report(y_test_bin, rfc.predict(X_test_bin)))"
   ]
  },
  {
   "cell_type": "code",
   "execution_count": 64,
   "metadata": {
    "ExecuteTime": {
     "end_time": "2021-01-23T07:03:53.753635Z",
     "start_time": "2021-01-23T07:03:53.174198Z"
    }
   },
   "outputs": [
    {
     "data": {
      "text/plain": [
       "<sklearn.metrics._plot.confusion_matrix.ConfusionMatrixDisplay at 0x7fba1c97ffd0>"
      ]
     },
     "execution_count": 64,
     "metadata": {},
     "output_type": "execute_result"
    },
    {
     "data": {
      "image/png": "[encoded data removed]",
      "text/plain": [
       "<Figure size 432x432 with 2 Axes>"
      ]
     },
     "metadata": {
      "needs_background": "light"
     },
     "output_type": "display_data"
    }
   ],
   "source": [
    "fig, ax = plt.subplots(figsize=(6, 6))\n",
    "plt.grid(False)\n",
    "plot_confusion_matrix(rfc, X_test_bin, y_test_bin, cmap='Blues', ax=ax)"
   ]
  },
  {
   "cell_type": "code",
   "execution_count": 48,
   "metadata": {
    "ExecuteTime": {
     "end_time": "2021-01-23T03:06:09.160287Z",
     "start_time": "2021-01-23T03:05:53.681377Z"
    }
   },
   "outputs": [
    {
     "data": {
      "text/plain": [
       "RandomForestClassifier()"
      ]
     },
     "execution_count": 48,
     "metadata": {},
     "output_type": "execute_result"
    }
   ],
   "source": [
    "rfc_af = RandomForestClassifier()\n",
    "rfc_af.fit(X_train_bin_af_scaled, y_train_bin_af)"
   ]
  },
  {
   "cell_type": "code",
   "execution_count": 50,
   "metadata": {
    "ExecuteTime": {
     "end_time": "2021-01-23T03:08:01.679487Z",
     "start_time": "2021-01-23T03:07:28.442732Z"
    }
   },
   "outputs": [],
   "source": [
    "rfc_af_cv_mean = np.mean(cross_val_score(rfc_af, X_train_bin_af_scaled, y_train_bin_af, \n",
    "                                        cv=5, scoring='accuracy', n_jobs=-1))"
   ]
  },
  {
   "cell_type": "code",
   "execution_count": 51,
   "metadata": {
    "ExecuteTime": {
     "end_time": "2021-01-23T03:08:11.802778Z",
     "start_time": "2021-01-23T03:08:10.734548Z"
    }
   },
   "outputs": [
    {
     "name": "stdout",
     "output_type": "stream",
     "text": [
      "Training Accuracy: 0.9957125707425828\n",
      "Mean Cross Validation Training Accuracy: 0.7122267443313182\n",
      "Testing Accuracy: 0.6350540216086434\n"
     ]
    }
   ],
   "source": [
    "print(f\"Training Accuracy: {rfc_af.score(X_train_bin_af_scaled, y_train_bin_af)}\")\n",
    "print(f\"Mean Cross Validation Training Accuracy: {rfc_af_cv_mean}\")\n",
    "print(f\"Testing Accuracy: {rfc_af.score(X_test_bin_af_scaled, y_test_bin_af)}\")"
   ]
  },
  {
   "cell_type": "markdown",
   "metadata": {},
   "source": [
    "The Random Forest Classifier with default hyperparameters also sees an improvement to overall accuracy with binary classification. The difference between the training and testing accuracies is approximately 1.1%, so there may be some overfitting but the model itself is much more generalizable than the model trained on 3 classes. Similar to Naive Bayes, the model performs excellently in predicting the negative/neutral class while there is still room for improvement when it comes to predicting the positive class.\n",
    "\n",
    "The added features result in a model that is overfitting the data so it would not make a good candidate for a generalizable model."
   ]
  },
  {
   "cell_type": "markdown",
   "metadata": {},
   "source": [
    "### Support Vector Machines"
   ]
  },
  {
   "cell_type": "code",
   "execution_count": 53,
   "metadata": {
    "ExecuteTime": {
     "end_time": "2021-01-23T04:16:26.267816Z",
     "start_time": "2021-01-23T04:11:14.174291Z"
    }
   },
   "outputs": [
    {
     "data": {
      "text/plain": [
       "SVC(kernel='linear')"
      ]
     },
     "execution_count": 53,
     "metadata": {},
     "output_type": "execute_result"
    }
   ],
   "source": [
    "linear_svc = SVC(kernel='linear')\n",
    "linear_svc.fit(X_train_bin, y_train_bin)"
   ]
  },
  {
   "cell_type": "code",
   "execution_count": 54,
   "metadata": {
    "ExecuteTime": {
     "end_time": "2021-01-23T04:27:25.911947Z",
     "start_time": "2021-01-23T04:16:46.335724Z"
    }
   },
   "outputs": [],
   "source": [
    "linear_svc_cv_mean = np.mean(cross_val_score(linear_svc, X_train_bin, y_train_bin,\n",
    "                                            cv=5, scoring='accuracy', n_jobs=-1))"
   ]
  },
  {
   "cell_type": "code",
   "execution_count": 56,
   "metadata": {
    "ExecuteTime": {
     "end_time": "2021-01-23T05:19:09.783753Z",
     "start_time": "2021-01-23T05:12:00.510897Z"
    }
   },
   "outputs": [
    {
     "name": "stdout",
     "output_type": "stream",
     "text": [
      "Training Accuracy: 0.8605728005487909\n",
      "Mean Cross Validation Training Accuracy: 0.7197725913154928\n",
      "Testing Accuracy: 0.7278911564625851\n"
     ]
    }
   ],
   "source": [
    "print(f\"Training Accuracy: {linear_svc.score(X_train_bin, y_train_bin)}\")\n",
    "print(f\"Mean Cross Validation Training Accuracy: {linear_svc_cv_mean}\")\n",
    "print(f\"Testing Accuracy: {linear_svc.score(X_test_bin, y_test_bin)}\")"
   ]
  },
  {
   "cell_type": "code",
   "execution_count": 65,
   "metadata": {
    "ExecuteTime": {
     "end_time": "2021-01-23T07:06:33.541099Z",
     "start_time": "2021-01-23T07:04:26.942087Z"
    }
   },
   "outputs": [
    {
     "name": "stdout",
     "output_type": "stream",
     "text": [
      "              precision    recall  f1-score   support\n",
      "\n",
      "           0       0.74      0.90      0.81      1602\n",
      "           1       0.70      0.42      0.53       897\n",
      "\n",
      "    accuracy                           0.73      2499\n",
      "   macro avg       0.72      0.66      0.67      2499\n",
      "weighted avg       0.72      0.73      0.71      2499\n",
      "\n"
     ]
    }
   ],
   "source": [
    "print(classification_report(y_test_bin, linear_svc.predict(X_test_bin)))"
   ]
  },
  {
   "cell_type": "code",
   "execution_count": 81,
   "metadata": {
    "ExecuteTime": {
     "end_time": "2021-01-24T04:13:48.191610Z",
     "start_time": "2021-01-24T04:11:22.996101Z"
    }
   },
   "outputs": [
    {
     "data": {
      "image/png": "[encoded data removed]",
      "text/plain": [
       "<Figure size 432x432 with 2 Axes>"
      ]
     },
     "metadata": {
      "needs_background": "light"
     },
     "output_type": "display_data"
    }
   ],
   "source": [
    "fig, ax = plt.subplots(figsize=(6, 6))\n",
    "plt.grid(False)\n",
    "plot_confusion_matrix(linear_svc, X_test_bin, y_test_bin, cmap='Blues', ax=ax)\n",
    "plt.title('Linear SVC Confusion Matrix - Binary Classification')\n",
    "plt.savefig('linear_svc_confusion_matrix.png')"
   ]
  },
  {
   "cell_type": "markdown",
   "metadata": {},
   "source": [
    "Similar to both the Naive Bayes and random forest, the model does well in predicting the negative/neutral class and struggles to achieve the same performance when predicting positive tweets.\n",
    "\n",
    "However, the linear SVM does have the best overall accuracy of any of the models so far at 72.7%. It performs noticeably better than any of the models trained on 3 classes.\n",
    "\n",
    "We see that this model has a very high recall score of 90% for negative neutral/tweets! Out of all of the negative/neutral tweets in the test set, the model correctly predicted 90% of them. With 90% of negative tweets correctly identified, we can perform more exploratory data analysis to try and see why Twitter users don't have a favorable opinion of the brand.\n",
    "\n",
    "Given that this model performed the best we will also take a look at the AUC and ROC curve."
   ]
  },
  {
   "cell_type": "code",
   "execution_count": 109,
   "metadata": {
    "ExecuteTime": {
     "end_time": "2021-01-29T08:12:10.449914Z",
     "start_time": "2021-01-29T08:12:09.333680Z"
    }
   },
   "outputs": [],
   "source": [
    "feature_weights = list(linear_svc.coef_[0])\n",
    "feat_coef_pair = list(zip(X_tfidf_df_bin.columns, feature_weights))\n",
    "\n",
    "sorted_feats = sorted(feat_coef_pair, key=lambda x: x[1], reverse=True)\n"
   ]
  },
  {
   "cell_type": "code",
   "execution_count": 111,
   "metadata": {
    "ExecuteTime": {
     "end_time": "2021-01-29T08:12:44.087318Z",
     "start_time": "2021-01-29T08:12:44.079300Z"
    }
   },
   "outputs": [
    {
     "data": {
      "text/plain": [
       "[('cool', 4.274902735239113),\n",
       " ('smart', 4.148420803770919),\n",
       " ('great', 3.603728582854439),\n",
       " ('awesome', 3.3856039864541554),\n",
       " ('nice', 3.2825239553324708),\n",
       " ('love', 3.043830012141948),\n",
       " ('genius', 2.9628431053341333),\n",
       " ('amazing', 2.895054570283431),\n",
       " ('wow', 2.6500832803049974),\n",
       " ('congrats', 2.6017150795087307),\n",
       " ('woot', 2.5589612033364477),\n",
       " ('ill', 2.308438197747975),\n",
       " ('attendee', 2.2409347864610245),\n",
       " ('excited', 2.220775406416539),\n",
       " ('save', 2.1814536276479854),\n",
       " ('brilliant', 2.1808820870620016),\n",
       " ('sound', 2.1634620217808678),\n",
       " ('swarm', 2.1067210769539093),\n",
       " ('rock', 2.0861751391131533),\n",
       " ('sweet', 2.072432088375884)]"
      ]
     },
     "execution_count": 111,
     "metadata": {},
     "output_type": "execute_result"
    }
   ],
   "source": [
    "sorted_feats[:20]"
   ]
  },
  {
   "cell_type": "code",
   "execution_count": 115,
   "metadata": {
    "ExecuteTime": {
     "end_time": "2021-01-29T14:23:33.544519Z",
     "start_time": "2021-01-29T14:23:33.518872Z"
    }
   },
   "outputs": [
    {
     "data": {
      "text/plain": [
       "[('except', -1.1757656104583207),\n",
       " ('fail', -1.18180283024975),\n",
       " ('kicked', -1.1903217446068945),\n",
       " ('sort', -1.190781395941588),\n",
       " ('11', -1.213886895630999),\n",
       " ('created', -1.2183273833366512),\n",
       " ('twitter', -1.2735988175149595),\n",
       " ('realize', -1.281308824339781),\n",
       " ('art', -1.30026620520978),\n",
       " ('film', -1.3168101124971363),\n",
       " ('tattoo', -1.3385114577754664),\n",
       " ('size', -1.3426918167885502),\n",
       " ('battery', -1.355403195284056),\n",
       " ('challenge', -1.3654409770778395),\n",
       " ('yesterday', -1.3743077263399457),\n",
       " ('enough', -1.3854331608610153),\n",
       " ('spending', -1.4110659711647644),\n",
       " ('find', -1.5127722430230475),\n",
       " ('webdoccom', -1.5694445852028895),\n",
       " ('headache', -1.8005499331201753)]"
      ]
     },
     "execution_count": 115,
     "metadata": {},
     "output_type": "execute_result"
    }
   ],
   "source": [
    "sorted_feats[-20:]"
   ]
  },
  {
   "cell_type": "code",
   "execution_count": 87,
   "metadata": {
    "ExecuteTime": {
     "end_time": "2021-01-25T06:36:32.103109Z",
     "start_time": "2021-01-25T06:36:32.049075Z"
    }
   },
   "outputs": [
    {
     "data": {
      "text/plain": [
       "0    1602\n",
       "1     897\n",
       "Name: sentiment, dtype: int64"
      ]
     },
     "execution_count": 87,
     "metadata": {},
     "output_type": "execute_result"
    }
   ],
   "source": [
    "y_test_bin.value_counts()"
   ]
  },
  {
   "cell_type": "code",
   "execution_count": 82,
   "metadata": {
    "ExecuteTime": {
     "end_time": "2021-01-24T04:28:53.543294Z",
     "start_time": "2021-01-24T04:26:44.097923Z"
    }
   },
   "outputs": [
    {
     "name": "stdout",
     "output_type": "stream",
     "text": [
      "AUC: 0.7583650314475913\n"
     ]
    }
   ],
   "source": [
    "from sklearn.metrics import roc_curve, auc\n",
    "\n",
    "y_score = linear_svc.decision_function(X_test_bin)\n",
    "fpr, tpr, thresholds = roc_curve(y_test_bin, y_score)\n",
    "\n",
    "print(f\"AUC: {auc(fpr, tpr)}\")"
   ]
  },
  {
   "cell_type": "markdown",
   "metadata": {},
   "source": [
    "We see that the AUC for the top performing model is 0.758 which is indicative that the model if fairly capable of distinguishing between classes. Although we would certainly like to see this number be a bit closer to 1, we can have some confidence in the model's predictability."
   ]
  },
  {
   "cell_type": "code",
   "execution_count": 83,
   "metadata": {
    "ExecuteTime": {
     "end_time": "2021-01-24T04:29:32.041790Z",
     "start_time": "2021-01-24T04:29:31.580541Z"
    },
    "scrolled": false
   },
   "outputs": [
    {
     "data": {
      "image/png": "[encoded data removed]",
      "text/plain": [
       "<Figure size 720x576 with 1 Axes>"
      ]
     },
     "metadata": {
      "needs_background": "light"
     },
     "output_type": "display_data"
    }
   ],
   "source": [
    "plt.figure(figsize=(10, 8))\n",
    "lw = 2\n",
    "plt.plot(fpr, tpr, color='darkorange',\n",
    "         lw=lw, label='ROC curve')\n",
    "plt.plot([0, 1], [0, 1], color='navy', lw=lw, linestyle='--')\n",
    "plt.xlim([0.0, 1.0])\n",
    "plt.ylim([0.0, 1.05])\n",
    "plt.yticks([i/20.0 for i in range(21)])\n",
    "plt.xticks([i/20.0 for i in range(21)])\n",
    "plt.xlabel('False Positive Rate')\n",
    "plt.ylabel('True Positive Rate')\n",
    "plt.title('Receiver operating characteristic (ROC) Curve')\n",
    "plt.legend(loc='lower right')\n",
    "plt.savefig('roc_curve.png')"
   ]
  },
  {
   "cell_type": "markdown",
   "metadata": {},
   "source": [
    "The ROC curve further demonstrates that the model is better than a 50/50 guess. We would need to improve upon the recall rate for the positive class in order to improve the AUC and see an ROC curve that is indicative of strong model performance."
   ]
  },
  {
   "cell_type": "code",
   "execution_count": 67,
   "metadata": {
    "ExecuteTime": {
     "end_time": "2021-01-23T07:10:34.229195Z",
     "start_time": "2021-01-23T07:10:34.224951Z"
    }
   },
   "outputs": [],
   "source": [
    "gs_linear = SVC()"
   ]
  },
  {
   "cell_type": "code",
   "execution_count": 73,
   "metadata": {
    "ExecuteTime": {
     "end_time": "2021-01-23T08:36:37.986646Z",
     "start_time": "2021-01-23T07:19:27.329459Z"
    }
   },
   "outputs": [
    {
     "data": {
      "text/plain": [
       "{'C': 1, 'class_weight': None, 'kernel': 'linear'}"
      ]
     },
     "execution_count": 73,
     "metadata": {},
     "output_type": "execute_result"
    }
   ],
   "source": [
    "linear_param = {'C':[0.1, 1, 10],\n",
    "                     'kernel':['linear'], \n",
    "                    'class_weight':[None, 'balanced'], \n",
    "                    }\n",
    "\n",
    "gs_linear_svc = GridSearchCV(gs_linear, param_grid=linear_param, cv=5, n_jobs=-1)\n",
    "gs_linear_svc.fit(X_train_bin, y_train_bin)\n",
    "\n",
    "gs_linear_svc.best_params_"
   ]
  },
  {
   "cell_type": "markdown",
   "metadata": {},
   "source": [
    "Running a GridSerach with the linear kernel returns that default parameters so we do not need to check classification metrics again."
   ]
  },
  {
   "cell_type": "code",
   "execution_count": 57,
   "metadata": {
    "ExecuteTime": {
     "end_time": "2021-01-23T05:29:36.650177Z",
     "start_time": "2021-01-23T05:23:33.112352Z"
    }
   },
   "outputs": [
    {
     "data": {
      "text/plain": [
       "SVC()"
      ]
     },
     "execution_count": 57,
     "metadata": {},
     "output_type": "execute_result"
    }
   ],
   "source": [
    "rbf_svc = SVC(kernel='rbf')\n",
    "rbf_svc.fit(X_train_bin, y_train_bin)"
   ]
  },
  {
   "cell_type": "code",
   "execution_count": 58,
   "metadata": {
    "ExecuteTime": {
     "end_time": "2021-01-23T05:43:02.654252Z",
     "start_time": "2021-01-23T05:30:26.860873Z"
    }
   },
   "outputs": [],
   "source": [
    "rbf_svc_cv_mean = np.mean(cross_val_score(rbf_svc, X_train_bin, y_train_bin,\n",
    "                                         cv=5, scoring='accuracy', n_jobs=-1))"
   ]
  },
  {
   "cell_type": "code",
   "execution_count": 59,
   "metadata": {
    "ExecuteTime": {
     "end_time": "2021-01-23T06:00:38.448436Z",
     "start_time": "2021-01-23T05:51:42.802952Z"
    }
   },
   "outputs": [
    {
     "name": "stdout",
     "output_type": "stream",
     "text": [
      "Training Accuracy: 0.9257417252615332\n",
      "Cross Validation Mean Accuracy: 0.717199839496973\n",
      "Testing Accuracy: 0.7214885954381752\n"
     ]
    }
   ],
   "source": [
    "print(f\"Training Accuracy: {rbf_svc.score(X_train_bin, y_train_bin)}\")\n",
    "print(f\"Cross Validation Mean Accuracy: {rbf_svc_cv_mean}\")\n",
    "print(f\"Testing Accuracy: {rbf_svc.score(X_test_bin, y_test_bin)}\")\n"
   ]
  },
  {
   "cell_type": "markdown",
   "metadata": {},
   "source": [
    "The RBF kernel SVM performs slightly worse than the linear SVM in terms of accuracy for binary classification.  This is the opposite of what we saw when modeling with 3 classes, as it was the RBF kernel that had a slightly improved accuracy."
   ]
  },
  {
   "cell_type": "markdown",
   "metadata": {},
   "source": [
    "### Oversampling with Two Classes"
   ]
  },
  {
   "cell_type": "markdown",
   "metadata": {},
   "source": [
    "See below for the value counts of each class for our binary model. Here the minority class (positive tweets) makes up 35% of the data while the negative class makes up 65%. We again have a class imbalance, so we should check to see if oversampling will increase model performance.\n",
    "\n",
    "It's important to note here that the GridSearch peformed on the linear SVM did NOT return `balanced` for the class weight hyperparameter. This means that the optimized model was able to determine some linear separation between the two classes without accounting for the difference in class quantity.\n",
    "\n",
    "Here, I will choose to make the two classes equal and train a linear SVM model to see if it outperforms the linear SVM trained and tests on the original data."
   ]
  },
  {
   "cell_type": "code",
   "execution_count": 68,
   "metadata": {
    "ExecuteTime": {
     "end_time": "2021-01-23T07:10:48.735878Z",
     "start_time": "2021-01-23T07:10:48.606943Z"
    }
   },
   "outputs": [],
   "source": [
    "from imblearn.over_sampling import RandomOverSampler"
   ]
  },
  {
   "cell_type": "code",
   "execution_count": 88,
   "metadata": {
    "ExecuteTime": {
     "end_time": "2021-01-29T03:13:16.500257Z",
     "start_time": "2021-01-29T03:13:16.397829Z"
    }
   },
   "outputs": [
    {
     "data": {
      "text/plain": [
       "0    5341\n",
       "1    2989\n",
       "Name: sentiment, dtype: int64"
      ]
     },
     "execution_count": 88,
     "metadata": {},
     "output_type": "execute_result"
    }
   ],
   "source": [
    "y_binary.value_counts()"
   ]
  },
  {
   "cell_type": "code",
   "execution_count": 69,
   "metadata": {
    "ExecuteTime": {
     "end_time": "2021-01-23T07:11:07.128523Z",
     "start_time": "2021-01-23T07:11:07.113101Z"
    }
   },
   "outputs": [
    {
     "data": {
      "text/plain": [
       "0    3739\n",
       "1    2092\n",
       "Name: sentiment, dtype: int64"
      ]
     },
     "execution_count": 69,
     "metadata": {},
     "output_type": "execute_result"
    }
   ],
   "source": [
    "y_train_bin.value_counts()"
   ]
  },
  {
   "cell_type": "code",
   "execution_count": 70,
   "metadata": {
    "ExecuteTime": {
     "end_time": "2021-01-23T07:12:54.352166Z",
     "start_time": "2021-01-23T07:12:50.472350Z"
    }
   },
   "outputs": [],
   "source": [
    "oversample = RandomOverSampler(sampling_strategy='minority', random_state=123)\n",
    "X_over_train, y_over_train = oversample.fit_resample(X_train_bin, y_train_bin)"
   ]
  },
  {
   "cell_type": "code",
   "execution_count": 71,
   "metadata": {
    "ExecuteTime": {
     "end_time": "2021-01-23T07:13:04.794293Z",
     "start_time": "2021-01-23T07:13:04.777906Z"
    }
   },
   "outputs": [
    {
     "data": {
      "text/plain": [
       "1    3739\n",
       "0    3739\n",
       "Name: sentiment, dtype: int64"
      ]
     },
     "execution_count": 71,
     "metadata": {},
     "output_type": "execute_result"
    }
   ],
   "source": [
    "y_over_train.value_counts()"
   ]
  },
  {
   "cell_type": "code",
   "execution_count": 76,
   "metadata": {
    "ExecuteTime": {
     "end_time": "2021-01-23T21:13:01.529006Z",
     "start_time": "2021-01-23T21:04:33.729643Z"
    }
   },
   "outputs": [
    {
     "data": {
      "text/plain": [
       "SVC(C=1, kernel='linear')"
      ]
     },
     "execution_count": 76,
     "metadata": {},
     "output_type": "execute_result"
    }
   ],
   "source": [
    "svc_over = SVC(kernel='linear', C=1)\n",
    "svc_over.fit(X_over_train, y_over_train)"
   ]
  },
  {
   "cell_type": "code",
   "execution_count": 77,
   "metadata": {
    "ExecuteTime": {
     "end_time": "2021-01-23T21:36:02.706543Z",
     "start_time": "2021-01-23T21:19:33.961953Z"
    }
   },
   "outputs": [],
   "source": [
    "svc_over_cv_mean = np.mean(cross_val_score(svc_over, X_over_train, y_over_train,\n",
    "                                          cv=5, scoring='accuracy', n_jobs=-1))"
   ]
  },
  {
   "cell_type": "code",
   "execution_count": 78,
   "metadata": {
    "ExecuteTime": {
     "end_time": "2021-01-23T21:53:05.830349Z",
     "start_time": "2021-01-23T21:42:16.957082Z"
    }
   },
   "outputs": [
    {
     "name": "stdout",
     "output_type": "stream",
     "text": [
      "Training Accuracy: 0.8892752072746724\n",
      "Cross Validation Mean: 0.7674633806091606\n",
      "Testing Accuracy: 0.7058823529411765\n"
     ]
    }
   ],
   "source": [
    "print(f\"Training Accuracy: {svc_over.score(X_over_train, y_over_train)}\")\n",
    "print(f\"Cross Validation Mean: {svc_over_cv_mean}\")\n",
    "print(f\"Testing Accuracy: {svc_over.score(X_test_bin, y_test_bin)}\")"
   ]
  },
  {
   "cell_type": "markdown",
   "metadata": {},
   "source": [
    "Here we did have an improvment in the cross validation accuracy of the model, but we can see from the test accuracy that we did again have overfitting. Clearly, oversampling is not a feasible method for improving model performance. It could be that we oversampled too much, but if we oversampled too little we might only see marginal improvements.  It would be better to get more data or to use some technique like Named Entity Recognition to create synthetic tweets where certain words have been replaced with their synonyms."
   ]
  },
  {
   "cell_type": "markdown",
   "metadata": {},
   "source": [
    "### Removing Common Words\n",
    "\n",
    "Here we will use binary modeling with a TF-IDF vector but we will remove 4 common words found in across all sentiments."
   ]
  },
  {
   "cell_type": "code",
   "execution_count": 89,
   "metadata": {
    "ExecuteTime": {
     "end_time": "2021-01-29T05:19:57.497417Z",
     "start_time": "2021-01-29T05:19:57.380895Z"
    }
   },
   "outputs": [],
   "source": [
    "stopwords = nltk.corpus.stopwords.words('english')"
   ]
  },
  {
   "cell_type": "code",
   "execution_count": 91,
   "metadata": {
    "ExecuteTime": {
     "end_time": "2021-01-29T05:23:09.333675Z",
     "start_time": "2021-01-29T05:23:09.320762Z"
    }
   },
   "outputs": [],
   "source": [
    "#add twitter stopwords to stopwords list\n",
    "twitter_stopwords = ['rt', 'sxsw', 'mention', 'link']\n",
    "stopwords.extend(twitter_stopwords)"
   ]
  },
  {
   "cell_type": "code",
   "execution_count": 93,
   "metadata": {
    "ExecuteTime": {
     "end_time": "2021-01-29T05:28:30.888827Z",
     "start_time": "2021-01-29T05:28:30.133374Z"
    }
   },
   "outputs": [],
   "source": [
    "#create TF-IDF matrix\n",
    "tfidf_vec_2 = TfidfVectorizer(stop_words=stopwords)\n",
    "X_tfidf_2 = tfidf_vec_2.fit_transform(df_binary['tweet_tokens'])\n",
    "X_tfidf_df_2 = pd.DataFrame(X_tfidf_2.toarray())\n",
    "X_tfidf_df_2.columns = tfidf_vec_2.get_feature_names()"
   ]
  },
  {
   "cell_type": "code",
   "execution_count": 94,
   "metadata": {
    "ExecuteTime": {
     "end_time": "2021-01-29T05:31:23.102750Z",
     "start_time": "2021-01-29T05:31:21.350509Z"
    }
   },
   "outputs": [],
   "source": [
    "X_train_2, X_test_2, y_train_2, y_test_2 = train_test_split(X_tfidf_df_2, y_binary, test_size=0.3, \n",
    "                                                                    stratify=y_binary, random_state=123)"
   ]
  },
  {
   "cell_type": "code",
   "execution_count": 96,
   "metadata": {
    "ExecuteTime": {
     "end_time": "2021-01-29T05:38:47.925226Z",
     "start_time": "2021-01-29T05:33:18.971784Z"
    }
   },
   "outputs": [
    {
     "data": {
      "text/plain": [
       "SVC(C=1, kernel='linear')"
      ]
     },
     "execution_count": 96,
     "metadata": {},
     "output_type": "execute_result"
    }
   ],
   "source": [
    "svc_linear_2 = SVC(kernel='linear', C=1)\n",
    "svc_linear_2.fit(X_train_2, y_train_2)"
   ]
  },
  {
   "cell_type": "code",
   "execution_count": 97,
   "metadata": {
    "ExecuteTime": {
     "end_time": "2021-01-29T06:07:38.352873Z",
     "start_time": "2021-01-29T05:43:48.766066Z"
    }
   },
   "outputs": [],
   "source": [
    "svc_linear_2_cv_mean = np.mean(cross_val_score(svc_linear_2, X_train_2, y_train_2, cv=5, scoring='accuracy'))"
   ]
  },
  {
   "cell_type": "code",
   "execution_count": 98,
   "metadata": {
    "ExecuteTime": {
     "end_time": "2021-01-29T06:16:36.606870Z",
     "start_time": "2021-01-29T06:08:18.107886Z"
    }
   },
   "outputs": [
    {
     "name": "stdout",
     "output_type": "stream",
     "text": [
      "Training Accuracy: 0.8617732807408678\n",
      "Cross Validation Average: 0.7209734244026333\n",
      "Testing Accuracy: 0.7274909963985594\n"
     ]
    }
   ],
   "source": [
    "print(f\"Training Accuracy: {svc_linear_2.score(X_train_2, y_train_2)}\")\n",
    "print(f\"Cross Validation Average: {svc_linear_2_cv_mean}\")\n",
    "print(f\"Testing Accuracy: {svc_linear_2.score(X_test_2, y_test_2)}\")"
   ]
  },
  {
   "cell_type": "code",
   "execution_count": 99,
   "metadata": {
    "ExecuteTime": {
     "end_time": "2021-01-29T06:33:43.986640Z",
     "start_time": "2021-01-29T06:31:22.533406Z"
    }
   },
   "outputs": [
    {
     "name": "stdout",
     "output_type": "stream",
     "text": [
      "              precision    recall  f1-score   support\n",
      "\n",
      "           0       0.74      0.90      0.81      1602\n",
      "           1       0.70      0.43      0.53       897\n",
      "\n",
      "    accuracy                           0.73      2499\n",
      "   macro avg       0.72      0.66      0.67      2499\n",
      "weighted avg       0.72      0.73      0.71      2499\n",
      "\n"
     ]
    }
   ],
   "source": [
    "print(classification_report(y_test_2, svc_linear_2.predict(X_test_2)))"
   ]
  },
  {
   "cell_type": "code",
   "execution_count": 100,
   "metadata": {
    "ExecuteTime": {
     "end_time": "2021-01-29T06:36:32.186067Z",
     "start_time": "2021-01-29T06:33:59.065584Z"
    }
   },
   "outputs": [
    {
     "data": {
      "image/png": "[encoded data removed]",
      "text/plain": [
       "<Figure size 432x432 with 2 Axes>"
      ]
     },
     "metadata": {
      "needs_background": "light"
     },
     "output_type": "display_data"
    }
   ],
   "source": [
    "fig, ax = plt.subplots(figsize=(6, 6))\n",
    "plt.grid(False)\n",
    "plot_confusion_matrix(svc_linear_2, X_test_2, y_test_2, cmap='Blues', ax=ax)\n",
    "plt.title('Linear SVC (Common Words Removed)')\n",
    "plt.savefig('Common_words_removed_conf_matrix.png')"
   ]
  },
  {
   "cell_type": "code",
   "execution_count": 101,
   "metadata": {
    "ExecuteTime": {
     "end_time": "2021-01-29T06:42:49.044738Z",
     "start_time": "2021-01-29T06:40:11.988331Z"
    }
   },
   "outputs": [
    {
     "name": "stdout",
     "output_type": "stream",
     "text": [
      "AUC: 0.7566621711712087\n"
     ]
    }
   ],
   "source": [
    "y_score_2 = svc_linear_2.decision_function(X_test_2)\n",
    "fpr, tpr, thresholds = roc_curve(y_test_2, y_score_2)\n",
    "\n",
    "print(f\"AUC: {auc(fpr, tpr)}\")"
   ]
  },
  {
   "cell_type": "markdown",
   "metadata": {},
   "source": [
    "By adding just 4 words to the `stopwords` list, we don't see much of a change to the overall model accuracy.  The difference between the cross validation mean accuracy and testing accuracy was decreased, however the testing accuracy was slightly lower. We can see from the confusion matrix, that 4 more positive tweets were correctly identified, so there is reason to believe that the removal of other heavily used words might help make a tweet more distinguishable."
   ]
  },
  {
   "cell_type": "markdown",
   "metadata": {},
   "source": [
    "# Conclusion\n",
    "\n",
    "Our best model had a 72.7% overall accuracy with 90% recall on negative/neutral tweets and 70% precision on positive tweets.\n",
    "\n",
    "The best performing model was a support vector machine with a linear kernel.  Although it was the best performing model, the major drawback to the support vector machine it the computation time.  Large tech companies definitely have the resources such that they could use an SVM and have it make predictions in a reasonable amount of time, however with tweets now having a maximum character length of 280 characters other, more efficient model architectures should be explored."
   ]
  },
  {
   "cell_type": "markdown",
   "metadata": {},
   "source": [
    "## Recommendations\n",
    "\n",
    "1. When releasing a new hardware, make sure there is some type of accompanying software.  For both Apple and Google, the tweets about services and mobile apps were overwhemingly positive. If a good app exists, then that will only provide more incentive to buy your product.\n",
    "\n",
    "2. Determine ways to guide conversations about your product on social media. Before their next iPhone event, Apple could tweet something along the lines of, \"Give us 5 reasons why you're excited for the new iPhone and use the hashtag #TeamiPhone\". In this example we have used a word that conveys positive emotion ('excited') and we have also created a readily identifiable token with a hashtag. We also can use a similar message to identify users who may be on the fence.  We want to avoid provoking users to make negative tweets but we can ask for feedback by saying something like, \"Tell us what improvements you want to see in the next iPhone #iPhoneEvolution\". We again have another unique hashtag which should make those tweets easy to identify and also quantify what may lacking in hardware or user experience without asking for negative feedback. \n",
    "\n",
    "3. It is imperative that when releasing a new product it is both innovative and improves upon the previous version in some way. The word 'battery' shows up as one of the top 20 most negative features and the negative WordCloud also included the bigram \"battery life\". Cell phones are arguable the most important tool in modern society and mobility is one of the most import features of the cell phone.  The convenience of mobility ceases to exist if the phone (or any other mobile device) has to be repeatedly plugged into a wall.  \n",
    "\n",
    "4. Avoid the development of another social network or partnering with existing social networks. Interestingly enough, the word 'twitter' is a top 20 negative feature and the bigrams 'new social' and 'social network' were of moderate significance in the wordcloud based on their size. The optimized model has reinforced what we observed in EDA so at this time is appears that social media should not be on of the app focuses as noted in recommendation #1.\n",
    "\n",
    "\n"
   ]
  },
  {
   "cell_type": "markdown",
   "metadata": {},
   "source": [
    "## Future Work\n",
    "\n",
    "- Developing a script to get tweets from Twitter's API and evaluate those tweets once a certain number of tweets have been collected\n",
    "    - For example we could have a script that can get tweets centered around a certain topic and evaluate sentiment on those tweets made in a certain time interval or evaluate sentiment on the 100,000 most recent tweets about a subject.\n",
    "    \n",
    "- Building a model to evaluate sentiment from other forms of social media\n",
    "    - Since the pandemic started, Apple had broadcasted all of their events during a livestream on Youtube. It would definitely be helpful to evaluate sentiment for the thousands of comments made during the livestream as well as the subsequent comments made at a later time.\n",
    "    \n",
    "- Using Named Entity Recognition to create synthetic tweets\n",
    "\n",
    "- Building, testing, and training a BERT model to predict sentiment\n",
    "\n",
    "- Adding a time series component to see how opinions of brands/products change over time\n",
    "- Evaluate engagement metrics (replies, retweets, and likes) for tweets to understand if those features impact sentiment predictability"
   ]
  },
  {
   "cell_type": "code",
   "execution_count": null,
   "metadata": {},
   "outputs": [],
   "source": []
  }
 ],
 "metadata": {
  "kernelspec": {
   "display_name": "Python 3",
   "language": "python",
   "name": "python3"
  },
  "language_info": {
   "codemirror_mode": {
    "name": "ipython",
    "version": 3
   },
   "file_extension": ".py",
   "mimetype": "text/x-python",
   "name": "python",
   "nbconvert_exporter": "python",
   "pygments_lexer": "ipython3",
   "version": "3.6.9"
  },
  "toc": {
   "base_numbering": 1,
   "nav_menu": {},
   "number_sections": true,
   "sideBar": true,
   "skip_h1_title": false,
   "title_cell": "Table of Contents",
   "title_sidebar": "Contents",
   "toc_cell": false,
   "toc_position": {},
   "toc_section_display": true,
   "toc_window_display": false
  }
 },
 "nbformat": 4,
 "nbformat_minor": 2
}
